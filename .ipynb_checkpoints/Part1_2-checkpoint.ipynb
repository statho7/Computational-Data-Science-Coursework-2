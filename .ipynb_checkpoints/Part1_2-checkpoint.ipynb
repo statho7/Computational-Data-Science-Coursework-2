{
 "cells": [
  {
   "cell_type": "markdown",
   "metadata": {},
   "source": [
    "# CMT 309 Data Science Portfolio\n",
    "# Parts 1 and 2\n",
    "\n",
    "---"
   ]
  },
  {
   "cell_type": "markdown",
   "metadata": {
    "id": "3Pe7XhS9wEVw"
   },
   "source": [
    "# Part 1 - Pre-processing and exploratory analysis\n",
    "\n",
    "Instructions:\n",
    "\n",
    "- Answer the questions by filling in the appropriate sections of this file. \n",
    "- Do not remove or rename section headings or any code that has been provided, unless instructed otherwise.\n",
    "- You can add as many additional cells with code as you like.\n",
    "\n",
    "Before submitting,\n",
    "\n",
    "- Ensure that the code is clean, readable, and well documented. \n",
    "- Restart the kernel (to wipe all variables) and then run the code from top to bottom to produce all intermediate outputs. "
   ]
  },
  {
   "cell_type": "code",
   "execution_count": 1,
   "metadata": {
    "colab": {
     "base_uri": "https://localhost:8080/"
    },
    "id": "acSREWbeG0mm",
    "outputId": "beeccebf-cce6-4ff7-bb6c-45988b8748f5"
   },
   "outputs": [],
   "source": [
    "import scipy, os\n",
    "import pandas as pd\n",
    "import numpy as np\n",
    "import seaborn as sns\n",
    "import matplotlib.pyplot as plt\n",
    "import statsmodels.api as sm\n",
    "\n",
    "# add more imports here if you like\n",
    "# ..."
   ]
  },
  {
   "cell_type": "code",
   "execution_count": 2,
   "metadata": {
    "colab": {
     "base_uri": "https://localhost:8080/"
    },
    "id": "A6CTk1ZiFVIk",
    "outputId": "289693f3-8883-4104-f861-7b2a5c219e8a"
   },
   "outputs": [],
   "source": [
    "# # if you use Google Colab:\n",
    "# from google.colab import drive\n",
    "# drive.mount('/content/drive')"
   ]
  },
  {
   "cell_type": "code",
   "execution_count": 3,
   "metadata": {
    "id": "ycIjzElBzG2x"
   },
   "outputs": [],
   "source": [
    "# change this line your folder where the data is found\n",
    "# basedir = \"C:/Users/andre/Dropbox/MSc Data Science and Analytics/Computational Data Science/Coursework 2\"\n",
    "basedir = os.getcwd()"
   ]
  },
  {
   "cell_type": "markdown",
   "metadata": {
    "id": "vwuEFzzUKzJW"
   },
   "source": [
    "In this part you will be working with the  `listings.csv` data. To help you wrap around your head we will first provide some information on the main columns in the data.\n",
    "\n",
    "***Dataframe columns description***:\n",
    "\n",
    "- `id` - unique ID identifying the listing\n",
    "\n",
    "- `name` - title of the listing\n",
    "\n",
    "- `host_id` - unique ID for a host\n",
    "\n",
    "- `host_name` - first name of the host\n",
    "\n",
    "- `host_since` - date that the host first joined Airbnb\n",
    "\n",
    "- `host_is_superhost` - whether or not the host is a superhost, which is a mark of quality for the top-rated and most experienced hosts, and can increase your search ranking on Airbnb\n",
    "\n",
    "- `host_listings_count` - how many listings the host has in total\n",
    "\n",
    "- `host_has_profile_pic` - whether or not the host has a profile picture\n",
    "\n",
    "- `host_identity_verified` - whether or not the host has been verified with his passport\n",
    "\n",
    "- `neighbourhood_cleansed` - the borough the property is in\n",
    "\n",
    "- `latitude` and `longitude` - geolocation coordinates of the property\n",
    "\n",
    "- `property_type` - type of property, e.g. house or flat\n",
    "\n",
    "- `room_type` - type of listing, e.g. entire home, private room or shared room\n",
    "\n",
    "- `accommodates` - how many people the property accommodates\n",
    "\n",
    "- `bedrooms` - number of bedrooms\n",
    "\n",
    "- `beds` - number of beds\n",
    "\n",
    "- `price` - nightly advertised price (the target variable)\n",
    "\n",
    "- `minimum_nights` - the minimum length of stay\n",
    "\n",
    "- `maximum_nights` - the maximum length of stay\n",
    "\n",
    "- `availability_30` - how many nights are available to be booked in the next 30 days\n",
    "\n",
    "- `availability_60` - how many nights are available to be booked in the next 60 days\n",
    "\n",
    "- `availability_90` - how many nights are available to be booked in the next 90 days\n",
    "\n",
    "- `availability_365` - how many nights are available to be booked in the next 365 days\n",
    "\n",
    "- `number_of_reviews` - the number of reviews left for the property\n",
    "\n",
    "- `number_of_reviews_ltm` - the number of reviews left for the property in the last twelve months\n",
    "\n",
    "- `first_review` - the date of the first review\n",
    "\n",
    "- `last_review` - the date of the most recent review\n",
    "\n",
    "- `review_scores_rating` - guests can score properties overall from 1 to 5 stars\n",
    "\n",
    "- `review_scores_accuracy` - guests can score the accuracy of a property's description from 1 to 5 stars\n",
    "\n",
    "- `review_scores_cleanliness` - guests can score a property's cleanliness from 1 to 5 stars\n",
    "\n",
    "- `review_scores_checkin` - guests can score their check-in from 1 to 5 stars\n",
    "\n",
    "- `review_scores_communication` - guests can score a host's communication from 1 to 5 stars\n",
    "\n",
    "- `review_scores_location` - guests can score a property's location from 1 to 5 stars\n",
    "\n",
    "- `review_scores_value` - guests can score a booking's value for money from 1 to 5 stars\n",
    "\n",
    "- `instant_bookable` - whether or not the property can be instant booked (i.e. booked straight away, without having to message the host first and wait to be accepted)\n",
    "\n",
    "- `reviews_per_month` - calculated field of the average number of reviews left by guest each month\n",
    "\n",
    "\n",
    "The next two cells load the `listings.csv` file into a dataframe. Once loaded, start working on the subsequent questions."
   ]
  },
  {
   "cell_type": "code",
   "execution_count": 4,
   "metadata": {
    "id": "K4zobPQJzKAX"
   },
   "outputs": [],
   "source": [
    "### DO NOT CHANGE THIS CELL\n",
    "def load_csv(basedir):\n",
    "    return pd.read_csv(os.path.join(basedir, 'listings.csv'))"
   ]
  },
  {
   "cell_type": "code",
   "execution_count": 5,
   "metadata": {
    "colab": {
     "base_uri": "https://localhost:8080/",
     "height": 581
    },
    "id": "73pNEQSv5_WZ",
    "outputId": "8f8c9c0b-f9eb-466e-e047-9e7e4d40dbbe"
   },
   "outputs": [
    {
     "data": {
      "text/html": [
       "<div>\n",
       "<style scoped>\n",
       "    .dataframe tbody tr th:only-of-type {\n",
       "        vertical-align: middle;\n",
       "    }\n",
       "\n",
       "    .dataframe tbody tr th {\n",
       "        vertical-align: top;\n",
       "    }\n",
       "\n",
       "    .dataframe thead th {\n",
       "        text-align: right;\n",
       "    }\n",
       "</style>\n",
       "<table border=\"1\" class=\"dataframe\">\n",
       "  <thead>\n",
       "    <tr style=\"text-align: right;\">\n",
       "      <th></th>\n",
       "      <th>id</th>\n",
       "      <th>listing_url</th>\n",
       "      <th>scrape_id</th>\n",
       "      <th>last_scraped</th>\n",
       "      <th>name</th>\n",
       "      <th>description</th>\n",
       "      <th>neighborhood_overview</th>\n",
       "      <th>picture_url</th>\n",
       "      <th>host_id</th>\n",
       "      <th>host_url</th>\n",
       "      <th>...</th>\n",
       "      <th>review_scores_communication</th>\n",
       "      <th>review_scores_location</th>\n",
       "      <th>review_scores_value</th>\n",
       "      <th>license</th>\n",
       "      <th>instant_bookable</th>\n",
       "      <th>calculated_host_listings_count</th>\n",
       "      <th>calculated_host_listings_count_entire_homes</th>\n",
       "      <th>calculated_host_listings_count_private_rooms</th>\n",
       "      <th>calculated_host_listings_count_shared_rooms</th>\n",
       "      <th>reviews_per_month</th>\n",
       "    </tr>\n",
       "  </thead>\n",
       "  <tbody>\n",
       "    <tr>\n",
       "      <th>0</th>\n",
       "      <td>2818</td>\n",
       "      <td>https://www.airbnb.com/rooms/2818</td>\n",
       "      <td>20201212211823</td>\n",
       "      <td>2020-12-13</td>\n",
       "      <td>Quiet Garden View Room &amp; Super Fast WiFi</td>\n",
       "      <td>Quiet Garden View Room &amp; Super Fast WiFi&lt;br /&gt;...</td>\n",
       "      <td>Indische Buurt (\"Indies Neighborhood\") is a ne...</td>\n",
       "      <td>https://a0.muscache.com/pictures/10272854/8dcc...</td>\n",
       "      <td>3159</td>\n",
       "      <td>https://www.airbnb.com/users/show/3159</td>\n",
       "      <td>...</td>\n",
       "      <td>10.0</td>\n",
       "      <td>9.0</td>\n",
       "      <td>10.0</td>\n",
       "      <td>NaN</td>\n",
       "      <td>t</td>\n",
       "      <td>1</td>\n",
       "      <td>0</td>\n",
       "      <td>1</td>\n",
       "      <td>0</td>\n",
       "      <td>1.95</td>\n",
       "    </tr>\n",
       "    <tr>\n",
       "      <th>1</th>\n",
       "      <td>20168</td>\n",
       "      <td>https://www.airbnb.com/rooms/20168</td>\n",
       "      <td>20201212211823</td>\n",
       "      <td>2020-12-13</td>\n",
       "      <td>Studio with private bathroom in the centre 1</td>\n",
       "      <td>17th century Dutch townhouse in the heart of t...</td>\n",
       "      <td>Located just in between famous central canals....</td>\n",
       "      <td>https://a0.muscache.com/pictures/69979628/fd6a...</td>\n",
       "      <td>59484</td>\n",
       "      <td>https://www.airbnb.com/users/show/59484</td>\n",
       "      <td>...</td>\n",
       "      <td>10.0</td>\n",
       "      <td>10.0</td>\n",
       "      <td>9.0</td>\n",
       "      <td>NaN</td>\n",
       "      <td>t</td>\n",
       "      <td>2</td>\n",
       "      <td>0</td>\n",
       "      <td>2</td>\n",
       "      <td>0</td>\n",
       "      <td>2.58</td>\n",
       "    </tr>\n",
       "    <tr>\n",
       "      <th>2</th>\n",
       "      <td>25428</td>\n",
       "      <td>https://www.airbnb.com/rooms/25428</td>\n",
       "      <td>20201212211823</td>\n",
       "      <td>2020-12-13</td>\n",
       "      <td>Lovely apt in City Centre (w.lift) near Jordaan</td>\n",
       "      <td>Lovely apt in Centre ( lift &amp; fireplace) near ...</td>\n",
       "      <td>NaN</td>\n",
       "      <td>https://a0.muscache.com/pictures/138431/7079a9...</td>\n",
       "      <td>56142</td>\n",
       "      <td>https://www.airbnb.com/users/show/56142</td>\n",
       "      <td>...</td>\n",
       "      <td>10.0</td>\n",
       "      <td>10.0</td>\n",
       "      <td>10.0</td>\n",
       "      <td>NaN</td>\n",
       "      <td>f</td>\n",
       "      <td>1</td>\n",
       "      <td>1</td>\n",
       "      <td>0</td>\n",
       "      <td>0</td>\n",
       "      <td>0.14</td>\n",
       "    </tr>\n",
       "    <tr>\n",
       "      <th>3</th>\n",
       "      <td>27886</td>\n",
       "      <td>https://www.airbnb.com/rooms/27886</td>\n",
       "      <td>20201212211823</td>\n",
       "      <td>2020-12-13</td>\n",
       "      <td>Romantic, stylish B&amp;B houseboat in canal district</td>\n",
       "      <td>Stylish and romantic houseboat on fantastic hi...</td>\n",
       "      <td>Central, quiet, safe, clean and beautiful.</td>\n",
       "      <td>https://a0.muscache.com/pictures/02c2da9d-660e...</td>\n",
       "      <td>97647</td>\n",
       "      <td>https://www.airbnb.com/users/show/97647</td>\n",
       "      <td>...</td>\n",
       "      <td>10.0</td>\n",
       "      <td>10.0</td>\n",
       "      <td>10.0</td>\n",
       "      <td>NaN</td>\n",
       "      <td>t</td>\n",
       "      <td>1</td>\n",
       "      <td>0</td>\n",
       "      <td>1</td>\n",
       "      <td>0</td>\n",
       "      <td>2.01</td>\n",
       "    </tr>\n",
       "    <tr>\n",
       "      <th>4</th>\n",
       "      <td>28871</td>\n",
       "      <td>https://www.airbnb.com/rooms/28871</td>\n",
       "      <td>20201212211823</td>\n",
       "      <td>2020-12-13</td>\n",
       "      <td>Comfortable double room</td>\n",
       "      <td>&lt;b&gt;The space&lt;/b&gt;&lt;br /&gt;In a monumental house ri...</td>\n",
       "      <td>Flower market , Leidseplein , Rembrantsplein</td>\n",
       "      <td>https://a0.muscache.com/pictures/160889/362340...</td>\n",
       "      <td>124245</td>\n",
       "      <td>https://www.airbnb.com/users/show/124245</td>\n",
       "      <td>...</td>\n",
       "      <td>10.0</td>\n",
       "      <td>10.0</td>\n",
       "      <td>10.0</td>\n",
       "      <td>NaN</td>\n",
       "      <td>f</td>\n",
       "      <td>2</td>\n",
       "      <td>0</td>\n",
       "      <td>2</td>\n",
       "      <td>0</td>\n",
       "      <td>2.68</td>\n",
       "    </tr>\n",
       "  </tbody>\n",
       "</table>\n",
       "<p>5 rows × 74 columns</p>\n",
       "</div>"
      ],
      "text/plain": [
       "      id                         listing_url       scrape_id last_scraped  \\\n",
       "0   2818   https://www.airbnb.com/rooms/2818  20201212211823   2020-12-13   \n",
       "1  20168  https://www.airbnb.com/rooms/20168  20201212211823   2020-12-13   \n",
       "2  25428  https://www.airbnb.com/rooms/25428  20201212211823   2020-12-13   \n",
       "3  27886  https://www.airbnb.com/rooms/27886  20201212211823   2020-12-13   \n",
       "4  28871  https://www.airbnb.com/rooms/28871  20201212211823   2020-12-13   \n",
       "\n",
       "                                                name  \\\n",
       "0           Quiet Garden View Room & Super Fast WiFi   \n",
       "1       Studio with private bathroom in the centre 1   \n",
       "2    Lovely apt in City Centre (w.lift) near Jordaan   \n",
       "3  Romantic, stylish B&B houseboat in canal district   \n",
       "4                            Comfortable double room   \n",
       "\n",
       "                                         description  \\\n",
       "0  Quiet Garden View Room & Super Fast WiFi<br />...   \n",
       "1  17th century Dutch townhouse in the heart of t...   \n",
       "2  Lovely apt in Centre ( lift & fireplace) near ...   \n",
       "3  Stylish and romantic houseboat on fantastic hi...   \n",
       "4  <b>The space</b><br />In a monumental house ri...   \n",
       "\n",
       "                               neighborhood_overview  \\\n",
       "0  Indische Buurt (\"Indies Neighborhood\") is a ne...   \n",
       "1  Located just in between famous central canals....   \n",
       "2                                                NaN   \n",
       "3         Central, quiet, safe, clean and beautiful.   \n",
       "4       Flower market , Leidseplein , Rembrantsplein   \n",
       "\n",
       "                                         picture_url  host_id  \\\n",
       "0  https://a0.muscache.com/pictures/10272854/8dcc...     3159   \n",
       "1  https://a0.muscache.com/pictures/69979628/fd6a...    59484   \n",
       "2  https://a0.muscache.com/pictures/138431/7079a9...    56142   \n",
       "3  https://a0.muscache.com/pictures/02c2da9d-660e...    97647   \n",
       "4  https://a0.muscache.com/pictures/160889/362340...   124245   \n",
       "\n",
       "                                   host_url  ... review_scores_communication  \\\n",
       "0    https://www.airbnb.com/users/show/3159  ...                        10.0   \n",
       "1   https://www.airbnb.com/users/show/59484  ...                        10.0   \n",
       "2   https://www.airbnb.com/users/show/56142  ...                        10.0   \n",
       "3   https://www.airbnb.com/users/show/97647  ...                        10.0   \n",
       "4  https://www.airbnb.com/users/show/124245  ...                        10.0   \n",
       "\n",
       "  review_scores_location review_scores_value license instant_bookable  \\\n",
       "0                    9.0                10.0     NaN                t   \n",
       "1                   10.0                 9.0     NaN                t   \n",
       "2                   10.0                10.0     NaN                f   \n",
       "3                   10.0                10.0     NaN                t   \n",
       "4                   10.0                10.0     NaN                f   \n",
       "\n",
       "  calculated_host_listings_count calculated_host_listings_count_entire_homes  \\\n",
       "0                              1                                           0   \n",
       "1                              2                                           0   \n",
       "2                              1                                           1   \n",
       "3                              1                                           0   \n",
       "4                              2                                           0   \n",
       "\n",
       "  calculated_host_listings_count_private_rooms  \\\n",
       "0                                            1   \n",
       "1                                            2   \n",
       "2                                            0   \n",
       "3                                            1   \n",
       "4                                            2   \n",
       "\n",
       "  calculated_host_listings_count_shared_rooms reviews_per_month  \n",
       "0                                           0              1.95  \n",
       "1                                           0              2.58  \n",
       "2                                           0              0.14  \n",
       "3                                           0              2.01  \n",
       "4                                           0              2.68  \n",
       "\n",
       "[5 rows x 74 columns]"
      ]
     },
     "execution_count": 5,
     "metadata": {},
     "output_type": "execute_result"
    }
   ],
   "source": [
    "### DO NOT CHANGE THIS CELL\n",
    "df = load_csv(basedir)\n",
    "df.head()"
   ]
  },
  {
   "cell_type": "markdown",
   "metadata": {
    "id": "Pzc714QhKf3g"
   },
   "source": [
    "## Question 1a"
   ]
  },
  {
   "cell_type": "code",
   "execution_count": 6,
   "metadata": {
    "id": "8m6wSWKPJPLR"
   },
   "outputs": [],
   "source": [
    "# Do not rename the function, do not remove the return statement.\n",
    "# Just add code before the return statement to add the required functionality.\n",
    "def drop_cols(df):\n",
    "    df.drop(['scrape_id','last_scraped','description','listing_url','neighbourhood','calendar_last_scraped', 'amenities','neighborhood_overview', 'picture_url','host_url', 'host_about', 'host_location','host_total_listings_count','host_thumbnail_url','host_picture_url', 'host_verifications','bathrooms_text','has_availability','minimum_minimum_nights','maximum_minimum_nights','minimum_maximum_nights','maximum_maximum_nights','minimum_nights_avg_ntm','maximum_nights_avg_ntm','number_of_reviews_l30d','calculated_host_listings_count','calculated_host_listings_count_entire_homes','calculated_host_listings_count_private_rooms','calculated_host_listings_count_shared_rooms'], inplace=True, axis=1)\n",
    "    return df"
   ]
  },
  {
   "cell_type": "code",
   "execution_count": 7,
   "metadata": {
    "colab": {
     "base_uri": "https://localhost:8080/"
    },
    "id": "GpBDncpjFrDh",
    "outputId": "569c0e41-7392-43b4-a9ec-06aa9374b7a8"
   },
   "outputs": [
    {
     "data": {
      "text/plain": [
       "Index(['id', 'name', 'host_id', 'host_name', 'host_since',\n",
       "       'host_response_time', 'host_response_rate', 'host_acceptance_rate',\n",
       "       'host_is_superhost', 'host_neighbourhood', 'host_listings_count',\n",
       "       'host_has_profile_pic', 'host_identity_verified',\n",
       "       'neighbourhood_cleansed', 'neighbourhood_group_cleansed', 'latitude',\n",
       "       'longitude', 'property_type', 'room_type', 'accommodates', 'bathrooms',\n",
       "       'bedrooms', 'beds', 'price', 'minimum_nights', 'maximum_nights',\n",
       "       'calendar_updated', 'availability_30', 'availability_60',\n",
       "       'availability_90', 'availability_365', 'number_of_reviews',\n",
       "       'number_of_reviews_ltm', 'first_review', 'last_review',\n",
       "       'review_scores_rating', 'review_scores_accuracy',\n",
       "       'review_scores_cleanliness', 'review_scores_checkin',\n",
       "       'review_scores_communication', 'review_scores_location',\n",
       "       'review_scores_value', 'license', 'instant_bookable',\n",
       "       'reviews_per_month'],\n",
       "      dtype='object')"
      ]
     },
     "execution_count": 7,
     "metadata": {},
     "output_type": "execute_result"
    }
   ],
   "source": [
    "df = drop_cols(df)\n",
    "df.columns"
   ]
  },
  {
   "cell_type": "code",
   "execution_count": 8,
   "metadata": {},
   "outputs": [
    {
     "name": "stdout",
     "output_type": "stream",
     "text": [
      "id                                  0\n",
      "name                               33\n",
      "host_id                             0\n",
      "host_name                          55\n",
      "host_since                         55\n",
      "host_response_time              14273\n",
      "host_response_rate              14273\n",
      "host_acceptance_rate             9255\n",
      "host_is_superhost                  55\n",
      "host_neighbourhood               6203\n",
      "host_listings_count                55\n",
      "host_has_profile_pic               55\n",
      "host_identity_verified             55\n",
      "neighbourhood_cleansed              0\n",
      "neighbourhood_group_cleansed    18522\n",
      "latitude                            0\n",
      "longitude                           0\n",
      "property_type                       0\n",
      "room_type                           0\n",
      "accommodates                        0\n",
      "bathrooms                       18522\n",
      "bedrooms                         1014\n",
      "beds                              107\n",
      "price                               0\n",
      "minimum_nights                      0\n",
      "maximum_nights                      0\n",
      "calendar_updated                18522\n",
      "availability_30                     0\n",
      "availability_60                     0\n",
      "availability_90                     0\n",
      "availability_365                    0\n",
      "number_of_reviews                   0\n",
      "number_of_reviews_ltm               0\n",
      "first_review                     2375\n",
      "last_review                      2375\n",
      "review_scores_rating             2620\n",
      "review_scores_accuracy           2630\n",
      "review_scores_cleanliness        2630\n",
      "review_scores_checkin            2638\n",
      "review_scores_communication      2631\n",
      "review_scores_location           2636\n",
      "review_scores_value              2636\n",
      "license                         18522\n",
      "instant_bookable                    0\n",
      "reviews_per_month                2375\n",
      "dtype: int64\n"
     ]
    }
   ],
   "source": [
    "print(df.isna().sum())"
   ]
  },
  {
   "cell_type": "code",
   "execution_count": 9,
   "metadata": {
    "id": "JgsX31bPJLfc"
   },
   "outputs": [],
   "source": [
    "def drop_cols_na(df, threshold = 0.5):\n",
    "    rows = len(df)\n",
    "    column_na = list(zip(df.columns, df.isna().sum()))\n",
    "    for column in column_na:\n",
    "        if column[1] / rows > threshold:\n",
    "            df.drop(column[0], inplace=True, axis=1)\n",
    "    return df"
   ]
  },
  {
   "cell_type": "code",
   "execution_count": 10,
   "metadata": {
    "id": "y0DPwLXwSDGy"
   },
   "outputs": [
    {
     "data": {
      "text/plain": [
       "Index(['id', 'name', 'host_id', 'host_name', 'host_since',\n",
       "       'host_acceptance_rate', 'host_is_superhost', 'host_neighbourhood',\n",
       "       'host_listings_count', 'host_has_profile_pic', 'host_identity_verified',\n",
       "       'neighbourhood_cleansed', 'latitude', 'longitude', 'property_type',\n",
       "       'room_type', 'accommodates', 'bedrooms', 'beds', 'price',\n",
       "       'minimum_nights', 'maximum_nights', 'availability_30',\n",
       "       'availability_60', 'availability_90', 'availability_365',\n",
       "       'number_of_reviews', 'number_of_reviews_ltm', 'first_review',\n",
       "       'last_review', 'review_scores_rating', 'review_scores_accuracy',\n",
       "       'review_scores_cleanliness', 'review_scores_checkin',\n",
       "       'review_scores_communication', 'review_scores_location',\n",
       "       'review_scores_value', 'instant_bookable', 'reviews_per_month'],\n",
       "      dtype='object')"
      ]
     },
     "execution_count": 10,
     "metadata": {},
     "output_type": "execute_result"
    }
   ],
   "source": [
    "df = drop_cols_na(df)\n",
    "df.columns"
   ]
  },
  {
   "cell_type": "markdown",
   "metadata": {
    "id": "y6SMYnVDKt1d"
   },
   "source": [
    "## Question 1b"
   ]
  },
  {
   "cell_type": "code",
   "execution_count": 11,
   "metadata": {
    "tags": []
   },
   "outputs": [
    {
     "data": {
      "text/plain": [
       "True"
      ]
     },
     "execution_count": 11,
     "metadata": {},
     "output_type": "execute_result"
    }
   ],
   "source": [
    "temp = dict(df['host_is_superhost'].value_counts())\n",
    "\n",
    "list(temp.keys()) == ['f','t']"
   ]
  },
  {
   "cell_type": "code",
   "execution_count": 12,
   "metadata": {},
   "outputs": [
    {
     "data": {
      "text/plain": [
       "14702"
      ]
     },
     "execution_count": 12,
     "metadata": {},
     "output_type": "execute_result"
    }
   ],
   "source": [
    "temp1 = list(df['host_id'].value_counts())\n",
    "\n",
    "len(temp1)\n",
    "temp1.count(1)"
   ]
  },
  {
   "cell_type": "code",
   "execution_count": 13,
   "metadata": {
    "id": "lcw2iovWK-EN"
   },
   "outputs": [],
   "source": [
    "from sklearn.preprocessing import LabelEncoder\n",
    "label_enc = LabelEncoder()\n",
    "def binary_encoding(df):\n",
    "    for column in df.columns:\n",
    "        values = dict(df[column].value_counts())\n",
    "        if list(values.keys()) == ['f','t']:\n",
    "            temp = []\n",
    "            for x in df[column]:\n",
    "                if x == 't':\n",
    "                    temp.append(1)\n",
    "                elif x == 'f':\n",
    "                    temp.append(0)\n",
    "                else:\n",
    "                    temp.append(x)\n",
    "            df[column] = temp\n",
    "    return df"
   ]
  },
  {
   "cell_type": "code",
   "execution_count": 14,
   "metadata": {
    "id": "aZ7BoRBhlbYV"
   },
   "outputs": [],
   "source": [
    "df = binary_encoding(df)"
   ]
  },
  {
   "cell_type": "code",
   "execution_count": 15,
   "metadata": {},
   "outputs": [
    {
     "data": {
      "text/plain": [
       "Index(['id', 'name', 'host_id', 'host_name', 'host_since',\n",
       "       'host_acceptance_rate', 'host_is_superhost', 'host_neighbourhood',\n",
       "       'host_listings_count', 'host_has_profile_pic', 'host_identity_verified',\n",
       "       'neighbourhood_cleansed', 'latitude', 'longitude', 'property_type',\n",
       "       'room_type', 'accommodates', 'bedrooms', 'beds', 'price',\n",
       "       'minimum_nights', 'maximum_nights', 'availability_30',\n",
       "       'availability_60', 'availability_90', 'availability_365',\n",
       "       'number_of_reviews', 'number_of_reviews_ltm', 'first_review',\n",
       "       'last_review', 'review_scores_rating', 'review_scores_accuracy',\n",
       "       'review_scores_cleanliness', 'review_scores_checkin',\n",
       "       'review_scores_communication', 'review_scores_location',\n",
       "       'review_scores_value', 'instant_bookable', 'reviews_per_month'],\n",
       "      dtype='object')"
      ]
     },
     "execution_count": 15,
     "metadata": {},
     "output_type": "execute_result"
    }
   ],
   "source": [
    "df.columns"
   ]
  },
  {
   "cell_type": "code",
   "execution_count": 16,
   "metadata": {
    "id": "nKc_EqKdLDdV"
   },
   "outputs": [],
   "source": [
    "# hint: check Pandas to_datetime method\n",
    "def add_host_days(df):\n",
    "    host_days = []\n",
    "    for day in df['host_since']:\n",
    "        try:\n",
    "            host_days.append(int((pd.to_datetime('today').normalize() - pd.to_datetime(day)).days))\n",
    "        except:\n",
    "            host_days.append(None)\n",
    "    df['host_days'] = host_days\n",
    "    return df"
   ]
  },
  {
   "cell_type": "code",
   "execution_count": 17,
   "metadata": {
    "id": "1KNvK2SKLEcW"
   },
   "outputs": [],
   "source": [
    "def convert_price(df):\n",
    "    prices = []\n",
    "    for price in df['price']:\n",
    "        prices.append(float(price[1:].replace(',','')))\n",
    "    df['price'] = prices\n",
    "    return df"
   ]
  },
  {
   "cell_type": "code",
   "execution_count": 18,
   "metadata": {
    "id": "MTGf_mt2iwwG"
   },
   "outputs": [],
   "source": [
    "df = add_host_days(df)\n",
    "df = convert_price(df)"
   ]
  },
  {
   "cell_type": "markdown",
   "metadata": {
    "id": "F1T-93iSQoXO"
   },
   "source": [
    "## Question 1c: Answering questions.\n",
    "\n",
    "You do not need to write the answer. In each cell, provide the Pandas code that outputs the result. Each answer can be given with 1-2 lines of Python code. Example question and answer:\n",
    "\n",
    "```python\n",
    "# What is the total number of rows in the dataframe?\n",
    "df.shape[0]\n",
    "```\n",
    "\n",
    "Now over to you:"
   ]
  },
  {
   "cell_type": "code",
   "execution_count": 19,
   "metadata": {
    "colab": {
     "base_uri": "https://localhost:8080/"
    },
    "id": "gM3BRpVlni7z",
    "outputId": "627f63ee-841f-4a33-d42b-d68592613e26"
   },
   "outputs": [
    {
     "data": {
      "text/plain": [
       "1331"
      ]
     },
     "execution_count": 19,
     "metadata": {},
     "output_type": "execute_result"
    }
   ],
   "source": [
    "# How many hosts offer 2 or more properties for rent?\n",
    "sum(i > 1 for i in list(df['host_id'].value_counts()))"
   ]
  },
  {
   "cell_type": "code",
   "execution_count": 20,
   "metadata": {
    "colab": {
     "base_uri": "https://localhost:8080/"
    },
    "id": "angGfYJxpOJ5",
    "outputId": "9a71425f-c1fc-4e46-d100-b4acb3729fbe"
   },
   "outputs": [
    {
     "data": {
      "text/plain": [
       "8000.0"
      ]
     },
     "execution_count": 20,
     "metadata": {},
     "output_type": "execute_result"
    }
   ],
   "source": [
    "# What is the highest price for a listing?\n",
    "df['price'].max()"
   ]
  },
  {
   "cell_type": "code",
   "execution_count": 21,
   "metadata": {
    "colab": {
     "base_uri": "https://localhost:8080/"
    },
    "id": "WRiPS2fypnz3",
    "outputId": "02a948d4-3afc-414a-e188-4e0bdfa88fa4"
   },
   "outputs": [
    {
     "data": {
      "text/plain": [
       "46015289"
      ]
     },
     "execution_count": 21,
     "metadata": {},
     "output_type": "execute_result"
    }
   ],
   "source": [
    "# What is the ID of the listing that has the largest number of bedrooms?\n",
    "df[df['bedrooms'] == df['bedrooms'].max()].iloc[0]['id']"
   ]
  },
  {
   "cell_type": "code",
   "execution_count": 22,
   "metadata": {
    "colab": {
     "base_uri": "https://localhost:8080/"
    },
    "id": "eu1cSceDnsM4",
    "outputId": "c5253373-ffd4-4fea-e8c2-9f42318492b7"
   },
   "outputs": [
    {
     "data": {
      "text/plain": [
       "258273"
      ]
     },
     "execution_count": 22,
     "metadata": {},
     "output_type": "execute_result"
    }
   ],
   "source": [
    "# What is the ID of the listing with the largest advertised price\n",
    "df[df['price'] == df['price'].max()].iloc[0]['id']"
   ]
  },
  {
   "cell_type": "code",
   "execution_count": 23,
   "metadata": {
    "colab": {
     "base_uri": "https://localhost:8080/"
    },
    "id": "ZhzBksbCumZB",
    "outputId": "8f5c2b6f-bddd-4115-faa7-c672a7c67ac9"
   },
   "outputs": [
    {
     "data": {
      "text/plain": [
       "14433"
      ]
     },
     "execution_count": 23,
     "metadata": {},
     "output_type": "execute_result"
    }
   ],
   "source": [
    "# There are different room types. How many listings are there for the most common room type?\n",
    "df['room_type'].value_counts().max()"
   ]
  },
  {
   "cell_type": "code",
   "execution_count": 24,
   "metadata": {
    "colab": {
     "base_uri": "https://localhost:8080/"
    },
    "id": "clsRn8tEVw4a",
    "outputId": "99cd1a0f-12e9-46d3-e1db-83da28ef8c85"
   },
   "outputs": [
    {
     "data": {
      "text/plain": [
       "2238"
      ]
     },
     "execution_count": 24,
     "metadata": {},
     "output_type": "execute_result"
    }
   ],
   "source": [
    "# How many hosts are there that have been registered for more than 3000 days?\n",
    "len(pd.unique(df['host_id'][df['host_days'] > 3000]))"
   ]
  },
  {
   "cell_type": "markdown",
   "metadata": {
    "id": "_a4I7y_FsVI0"
   },
   "source": [
    "## Question 1d: Exploratory analyses"
   ]
  },
  {
   "cell_type": "markdown",
   "metadata": {
    "id": "IcA5tI8ftsFS"
   },
   "source": [
    "Produce a barplot of the average nightly price per neighbourhood as instructed in the Coursework proforma:"
   ]
  },
  {
   "cell_type": "code",
   "execution_count": 25,
   "metadata": {
    "id": "psZPbywKFV27"
   },
   "outputs": [
    {
     "data": {
      "image/png": "[encoded data removed]",
      "text/plain": [
       "<Figure size 648x1296 with 1 Axes>"
      ]
     },
     "metadata": {
      "needs_background": "light"
     },
     "output_type": "display_data"
    }
   ],
   "source": [
    "sns.set_context('paper')\n",
    "\n",
    "f, ax = plt.subplots(figsize = (9,18))\n",
    "sns.set_color_codes('pastel')\n",
    "sns.barplot(x = 'price', y = 'neighbourhood_cleansed', data = df,\n",
    "            label = 'neighbourhood_cleansed', color = 'b', edgecolor = 'w')\n",
    "plt.show()"
   ]
  },
  {
   "cell_type": "markdown",
   "metadata": {
    "id": "834GVr84yfAA"
   },
   "source": [
    "Plot a correlation matrix as instructed in the Coursework proforma:"
   ]
  },
  {
   "cell_type": "code",
   "execution_count": 26,
   "metadata": {
    "id": "fvS5_JdIFQbG"
   },
   "outputs": [
    {
     "data": {
      "image/png": "[encoded data removed]",
      "text/plain": [
       "<Figure size 432x288 with 2 Axes>"
      ]
     },
     "metadata": {
      "needs_background": "light"
     },
     "output_type": "display_data"
    }
   ],
   "source": [
    "ax = sns.heatmap(df[['review_scores_cleanliness', 'review_scores_checkin', 'review_scores_communication', 'review_scores_location', 'review_scores_value']].corr())"
   ]
  },
  {
   "cell_type": "markdown",
   "metadata": {
    "id": "834GVr84yfAA"
   },
   "source": [
    "Plot a geographical distribution as instructed in the Coursework proforma:"
   ]
  },
  {
   "cell_type": "code",
   "execution_count": 27,
   "metadata": {},
   "outputs": [],
   "source": [
    "mydata = df[df.price>150]\n",
    "\n",
    "mydata.price[mydata.price>6000] = 7500\n",
    "\n",
    "mydata.price[(mydata.price>4500) & (mydata.price<=6000)] = 6000\n",
    "\n",
    "mydata.price[(mydata.price>3000) & (mydata.price<=4500)] = 4500\n",
    "\n",
    "mydata.price[(mydata.price>1500) & (mydata.price<=3000)] = 3000\n",
    "\n",
    "mydata.price[mydata.price<=1500] = 1500\n",
    "\n",
    "from IPython.display import clear_output\n",
    "clear_output()"
   ]
  },
  {
   "cell_type": "code",
   "execution_count": 28,
   "metadata": {
    "id": "qbTja8fwFScc"
   },
   "outputs": [
    {
     "data": {
      "image/png": "[encoded data removed]",
      "text/plain": [
       "<Figure size 1080x720 with 1 Axes>"
      ]
     },
     "metadata": {},
     "output_type": "display_data"
    }
   ],
   "source": [
    "sns.set_theme(style=\"white\")\n",
    "\n",
    "f, ax = plt.subplots(figsize = (15,10))\n",
    "\n",
    "yo = sns.scatterplot(data=mydata, x=\"longitude\", y=\"latitude\", hue=\"price\", size=\"price\",\n",
    "    sizes=(5, 500), hue_norm=(0, 100), alpha=1, palette=\"muted\", legend = \"full\")\n",
    "\n",
    "plt.show()"
   ]
  },
  {
   "cell_type": "markdown",
   "metadata": {
    "id": "0dLbkYk6y9eF"
   },
   "source": [
    "---\n",
    "\n",
    "# Part 2: Statistical analysis and recommender system\n",
    "## CMT 309 Data Science Portfolio\n",
    "\n",
    "Instructions:\n",
    "\n",
    "- Answer the questions by filling in the appropriate sections. \n",
    "- Do not remove or rename section headings or any code that has been provided, unless instructed otherwise.\n",
    "- You can add as many additional cells with code as you like.\n",
    "- Sometimes you are asked to provide an answer or justification. To this end, double-click on the text cells and add your answer/explanation following the text \"YOUR ANSWER:\".\n",
    "\n",
    "Before submitting,\n",
    "\n",
    "- Ensure that the code is clean, readable, and well documented. \n",
    "- Restart the kernel (to wipe all variables) and then run the code from top to bottom to produce all intermediate outputs. "
   ]
  },
  {
   "cell_type": "markdown",
   "metadata": {
    "id": "jtpZraSiE00A"
   },
   "source": [
    "## Question 2a: Linear regression and t-tests\n"
   ]
  },
  {
   "cell_type": "code",
   "execution_count": 29,
   "metadata": {
    "id": "RDCTzGiooPDJ"
   },
   "outputs": [],
   "source": [
    "fit = sm.OLS.from_formula('review_scores_rating ~ review_scores_accuracy + review_scores_cleanliness + review_scores_checkin + review_scores_communication + review_scores_location + review_scores_value', df).fit()"
   ]
  },
  {
   "cell_type": "code",
   "execution_count": 30,
   "metadata": {},
   "outputs": [
    {
     "data": {
      "text/plain": [
       "7"
      ]
     },
     "execution_count": 30,
     "metadata": {},
     "output_type": "execute_result"
    }
   ],
   "source": [
    "len(dict(fit.pvalues))"
   ]
  },
  {
   "cell_type": "code",
   "execution_count": 31,
   "metadata": {},
   "outputs": [
    {
     "name": "stdout",
     "output_type": "stream",
     "text": [
      "                             OLS Regression Results                             \n",
      "================================================================================\n",
      "Dep. Variable:     review_scores_rating   R-squared:                       0.726\n",
      "Model:                              OLS   Adj. R-squared:                  0.726\n",
      "Method:                   Least Squares   F-statistic:                     7008.\n",
      "Date:                  Wed, 05 May 2021   Prob (F-statistic):               0.00\n",
      "Time:                          23:47:29   Log-Likelihood:                -42957.\n",
      "No. Observations:                 15880   AIC:                         8.593e+04\n",
      "Df Residuals:                     15873   BIC:                         8.598e+04\n",
      "Df Model:                             6                                         \n",
      "Covariance Type:              nonrobust                                         \n",
      "=================================================================================\n",
      "                    coef    std err          t      P>|t|      [0.025      0.975]\n",
      "---------------------------------------------------------------------------------\n",
      "Intercept        -0.3169      0.550     -0.577      0.564      -1.394       0.760\n",
      "accuracy          2.6153      0.056     46.889      0.000       2.506       2.725\n",
      "cleanliness       2.1438      0.041     52.279      0.000       2.063       2.224\n",
      "checkin           1.0232      0.060     16.913      0.000       0.905       1.142\n",
      "communication     1.8090      0.066     27.490      0.000       1.680       1.938\n",
      "location          0.3988      0.045      8.858      0.000       0.311       0.487\n",
      "value             1.9905      0.047     42.354      0.000       1.898       2.083\n",
      "==============================================================================\n",
      "Omnibus:                     4769.894   Durbin-Watson:                   1.991\n",
      "Prob(Omnibus):                  0.000   Jarque-Bera (JB):            90176.958\n",
      "Skew:                          -0.965   Prob(JB):                         0.00\n",
      "Kurtosis:                      14.514   Cond. No.                         450.\n",
      "==============================================================================\n",
      "\n",
      "Notes:\n",
      "[1] Standard Errors assume that the covariance matrix of the errors is correctly specified.\n"
     ]
    }
   ],
   "source": [
    "print(fit.summary(xname=['Intercept','accuracy', 'cleanliness', 'checkin', 'communication', 'location', 'value']))"
   ]
  },
  {
   "cell_type": "code",
   "execution_count": 32,
   "metadata": {},
   "outputs": [],
   "source": [
    "room_types = [room for room in dict(df.room_type.value_counts()).keys()]"
   ]
  },
  {
   "cell_type": "code",
   "execution_count": 33,
   "metadata": {
    "id": "1gk4SDcE26Qq"
   },
   "outputs": [],
   "source": [
    "def multiple_t_tests(alpha = 0.01, create_df = False, room_types = room_types):\n",
    "    alpha = 0.01\n",
    "    if create_df : p_value_list = []\n",
    "    for type1 in room_types:\n",
    "        if create_df : p_value = []\n",
    "        for type2 in room_types:\n",
    "            if type1 != type2:\n",
    "                print(f'\\n{type1} --- {type2}\\n\\n')\n",
    "                df_room_type_1 = df[df.room_type == type1]\n",
    "                df_room_type_2 = df[df.room_type == type2]\n",
    "                res = scipy.stats.ttest_ind(df_room_type_1.price, df_room_type_2.price)\n",
    "                if res.pvalue < alpha:\n",
    "                    if create_df : p_value.append(res.pvalue)\n",
    "                    print(f'P-value: {res.pvalue:.19f} < {alpha}')\n",
    "                    print(f'T-statistic: {res.statistic:.3f}')\n",
    "                    print(f'\\'{type1}\\' room type has greater prices than \\'{type2}\\' room type (at a significance level of alpha={alpha}).')\n",
    "                else:\n",
    "                    if create_df : p_value.append(res.pvalue)\n",
    "                    print(f'P-value: {res.pvalue:.19f} > {alpha}')\n",
    "                    print(f'T-statistic: {res.statistic:.3f}')\n",
    "                    print(f'\\'{type1}\\' room type does not have greater prices than \\'{type2}\\' room type (at a significance level of alpha={alpha}).')\n",
    "            else:\n",
    "                if create_df : p_value.append(None)\n",
    "        if create_df : p_value_list.append(tuple(p_value))\n",
    "    print(p_value_list)    \n",
    "    return p_value_list"
   ]
  },
  {
   "cell_type": "code",
   "execution_count": 34,
   "metadata": {},
   "outputs": [
    {
     "name": "stdout",
     "output_type": "stream",
     "text": [
      "\n",
      "Entire home/apt --- Private room\n",
      "\n",
      "\n",
      "P-value: 0.0000000000000000000 < 0.01\n",
      "T-statistic: 29.275\n",
      "'Entire home/apt' room type has greater prices than 'Private room' room type (at a significance level of alpha=0.01).\n",
      "\n",
      "Entire home/apt --- Hotel room\n",
      "\n",
      "\n",
      "P-value: 0.0029292208875053489 < 0.01\n",
      "T-statistic: 2.976\n",
      "'Entire home/apt' room type has greater prices than 'Hotel room' room type (at a significance level of alpha=0.01).\n",
      "\n",
      "Entire home/apt --- Shared room\n",
      "\n",
      "\n",
      "P-value: 0.0021768318613784249 < 0.01\n",
      "T-statistic: 3.066\n",
      "'Entire home/apt' room type has greater prices than 'Shared room' room type (at a significance level of alpha=0.01).\n",
      "\n",
      "Private room --- Entire home/apt\n",
      "\n",
      "\n",
      "P-value: 0.0000000000000000000 < 0.01\n",
      "T-statistic: -29.275\n",
      "'Private room' room type has greater prices than 'Entire home/apt' room type (at a significance level of alpha=0.01).\n",
      "\n",
      "Private room --- Hotel room\n",
      "\n",
      "\n",
      "P-value: 0.0000596655232293761 < 0.01\n",
      "T-statistic: -4.018\n",
      "'Private room' room type has greater prices than 'Hotel room' room type (at a significance level of alpha=0.01).\n",
      "\n",
      "Private room --- Shared room\n",
      "\n",
      "\n",
      "P-value: 0.4516928878964464600 > 0.01\n",
      "T-statistic: -0.753\n",
      "'Private room' room type does not have greater prices than 'Shared room' room type (at a significance level of alpha=0.01).\n",
      "\n",
      "Hotel room --- Entire home/apt\n",
      "\n",
      "\n",
      "P-value: 0.0029292208875053489 < 0.01\n",
      "T-statistic: -2.976\n",
      "'Hotel room' room type has greater prices than 'Entire home/apt' room type (at a significance level of alpha=0.01).\n",
      "\n",
      "Hotel room --- Private room\n",
      "\n",
      "\n",
      "P-value: 0.0000596655232293761 < 0.01\n",
      "T-statistic: 4.018\n",
      "'Hotel room' room type has greater prices than 'Private room' room type (at a significance level of alpha=0.01).\n",
      "\n",
      "Hotel room --- Shared room\n",
      "\n",
      "\n",
      "P-value: 0.3121192503013984210 > 0.01\n",
      "T-statistic: 1.013\n",
      "'Hotel room' room type does not have greater prices than 'Shared room' room type (at a significance level of alpha=0.01).\n",
      "\n",
      "Shared room --- Entire home/apt\n",
      "\n",
      "\n",
      "P-value: 0.0021768318613784249 < 0.01\n",
      "T-statistic: -3.066\n",
      "'Shared room' room type has greater prices than 'Entire home/apt' room type (at a significance level of alpha=0.01).\n",
      "\n",
      "Shared room --- Private room\n",
      "\n",
      "\n",
      "P-value: 0.4516928878964464600 > 0.01\n",
      "T-statistic: 0.753\n",
      "'Shared room' room type does not have greater prices than 'Private room' room type (at a significance level of alpha=0.01).\n",
      "\n",
      "Shared room --- Hotel room\n",
      "\n",
      "\n",
      "P-value: 0.3121192503013984210 > 0.01\n",
      "T-statistic: -1.013\n",
      "'Shared room' room type does not have greater prices than 'Hotel room' room type (at a significance level of alpha=0.01).\n",
      "[(None, 3.624982158693227e-184, 0.002929220887505349, 0.002176831861378425), (3.624982158693227e-184, None, 5.966552322937605e-05, 0.45169288789644646), (0.002929220887505349, 5.966552322937605e-05, None, 0.3121192503013984), (0.002176831861378425, 0.45169288789644646, 0.3121192503013984, None)]\n"
     ]
    },
    {
     "data": {
      "text/plain": [
       "[(None, 3.624982158693227e-184, 0.002929220887505349, 0.002176831861378425),\n",
       " (3.624982158693227e-184, None, 5.966552322937605e-05, 0.45169288789644646),\n",
       " (0.002929220887505349, 5.966552322937605e-05, None, 0.3121192503013984),\n",
       " (0.002176831861378425, 0.45169288789644646, 0.3121192503013984, None)]"
      ]
     },
     "execution_count": 34,
     "metadata": {},
     "output_type": "execute_result"
    }
   ],
   "source": [
    "multiple_t_tests(0.01, True)"
   ]
  },
  {
   "cell_type": "code",
   "execution_count": 35,
   "metadata": {},
   "outputs": [
    {
     "name": "stdout",
     "output_type": "stream",
     "text": [
      "\n",
      "Entire home/apt --- Private room\n",
      "\n",
      "\n",
      "P-value: 0.0000000000000000000 < 0.01\n",
      "T-statistic: 29.275\n",
      "'Entire home/apt' room type has greater prices than 'Private room' room type (at a significance level of alpha=0.01).\n",
      "\n",
      "Entire home/apt --- Hotel room\n",
      "\n",
      "\n",
      "P-value: 0.0029292208875053489 < 0.01\n",
      "T-statistic: 2.976\n",
      "'Entire home/apt' room type has greater prices than 'Hotel room' room type (at a significance level of alpha=0.01).\n",
      "\n",
      "Entire home/apt --- Shared room\n",
      "\n",
      "\n",
      "P-value: 0.0021768318613784249 < 0.01\n",
      "T-statistic: 3.066\n",
      "'Entire home/apt' room type has greater prices than 'Shared room' room type (at a significance level of alpha=0.01).\n",
      "\n",
      "Private room --- Entire home/apt\n",
      "\n",
      "\n",
      "P-value: 0.0000000000000000000 < 0.01\n",
      "T-statistic: -29.275\n",
      "'Private room' room type has greater prices than 'Entire home/apt' room type (at a significance level of alpha=0.01).\n",
      "\n",
      "Private room --- Hotel room\n",
      "\n",
      "\n",
      "P-value: 0.0000596655232293761 < 0.01\n",
      "T-statistic: -4.018\n",
      "'Private room' room type has greater prices than 'Hotel room' room type (at a significance level of alpha=0.01).\n",
      "\n",
      "Private room --- Shared room\n",
      "\n",
      "\n",
      "P-value: 0.4516928878964464600 > 0.01\n",
      "T-statistic: -0.753\n",
      "'Private room' room type does not have greater prices than 'Shared room' room type (at a significance level of alpha=0.01).\n",
      "\n",
      "Hotel room --- Entire home/apt\n",
      "\n",
      "\n",
      "P-value: 0.0029292208875053489 < 0.01\n",
      "T-statistic: -2.976\n",
      "'Hotel room' room type has greater prices than 'Entire home/apt' room type (at a significance level of alpha=0.01).\n",
      "\n",
      "Hotel room --- Private room\n",
      "\n",
      "\n",
      "P-value: 0.0000596655232293761 < 0.01\n",
      "T-statistic: 4.018\n",
      "'Hotel room' room type has greater prices than 'Private room' room type (at a significance level of alpha=0.01).\n",
      "\n",
      "Hotel room --- Shared room\n",
      "\n",
      "\n",
      "P-value: 0.3121192503013984210 > 0.01\n",
      "T-statistic: 1.013\n",
      "'Hotel room' room type does not have greater prices than 'Shared room' room type (at a significance level of alpha=0.01).\n",
      "\n",
      "Shared room --- Entire home/apt\n",
      "\n",
      "\n",
      "P-value: 0.0021768318613784249 < 0.01\n",
      "T-statistic: -3.066\n",
      "'Shared room' room type has greater prices than 'Entire home/apt' room type (at a significance level of alpha=0.01).\n",
      "\n",
      "Shared room --- Private room\n",
      "\n",
      "\n",
      "P-value: 0.4516928878964464600 > 0.01\n",
      "T-statistic: 0.753\n",
      "'Shared room' room type does not have greater prices than 'Private room' room type (at a significance level of alpha=0.01).\n",
      "\n",
      "Shared room --- Hotel room\n",
      "\n",
      "\n",
      "P-value: 0.3121192503013984210 > 0.01\n",
      "T-statistic: -1.013\n",
      "'Shared room' room type does not have greater prices than 'Hotel room' room type (at a significance level of alpha=0.01).\n",
      "[(None, 3.624982158693227e-184, 0.002929220887505349, 0.002176831861378425), (3.624982158693227e-184, None, 5.966552322937605e-05, 0.45169288789644646), (0.002929220887505349, 5.966552322937605e-05, None, 0.3121192503013984), (0.002176831861378425, 0.45169288789644646, 0.3121192503013984, None)]\n"
     ]
    }
   ],
   "source": [
    "p_value_list = multiple_t_tests(0.01/12,True,room_types)"
   ]
  },
  {
   "cell_type": "code",
   "execution_count": 36,
   "metadata": {},
   "outputs": [
    {
     "data": {
      "text/html": [
       "<div>\n",
       "<style scoped>\n",
       "    .dataframe tbody tr th:only-of-type {\n",
       "        vertical-align: middle;\n",
       "    }\n",
       "\n",
       "    .dataframe tbody tr th {\n",
       "        vertical-align: top;\n",
       "    }\n",
       "\n",
       "    .dataframe thead th {\n",
       "        text-align: right;\n",
       "    }\n",
       "</style>\n",
       "<table border=\"1\" class=\"dataframe\">\n",
       "  <thead>\n",
       "    <tr style=\"text-align: right;\">\n",
       "      <th></th>\n",
       "      <th>Entire home/apt</th>\n",
       "      <th>Private room</th>\n",
       "      <th>Hotel room</th>\n",
       "      <th>Shared room</th>\n",
       "    </tr>\n",
       "  </thead>\n",
       "  <tbody>\n",
       "    <tr>\n",
       "      <th>Entire home/apt</th>\n",
       "      <td>NaN</td>\n",
       "      <td>3.624982e-184</td>\n",
       "      <td>0.002929</td>\n",
       "      <td>0.002177</td>\n",
       "    </tr>\n",
       "    <tr>\n",
       "      <th>Private room</th>\n",
       "      <td>3.624982e-184</td>\n",
       "      <td>NaN</td>\n",
       "      <td>0.000060</td>\n",
       "      <td>0.451693</td>\n",
       "    </tr>\n",
       "    <tr>\n",
       "      <th>Hotel room</th>\n",
       "      <td>2.929221e-03</td>\n",
       "      <td>5.966552e-05</td>\n",
       "      <td>NaN</td>\n",
       "      <td>0.312119</td>\n",
       "    </tr>\n",
       "    <tr>\n",
       "      <th>Shared room</th>\n",
       "      <td>2.176832e-03</td>\n",
       "      <td>4.516929e-01</td>\n",
       "      <td>0.312119</td>\n",
       "      <td>NaN</td>\n",
       "    </tr>\n",
       "  </tbody>\n",
       "</table>\n",
       "</div>"
      ],
      "text/plain": [
       "                 Entire home/apt   Private room  Hotel room  Shared room\n",
       "Entire home/apt              NaN  3.624982e-184    0.002929     0.002177\n",
       "Private room       3.624982e-184            NaN    0.000060     0.451693\n",
       "Hotel room          2.929221e-03   5.966552e-05         NaN     0.312119\n",
       "Shared room         2.176832e-03   4.516929e-01    0.312119          NaN"
      ]
     },
     "execution_count": 36,
     "metadata": {},
     "output_type": "execute_result"
    }
   ],
   "source": [
    "df_p_value = pd.DataFrame(p_value_list, columns = room_types, index=room_types)\n",
    "df_p_value"
   ]
  },
  {
   "cell_type": "markdown",
   "metadata": {
    "id": "i9Lalo7srWMr"
   },
   "source": [
    "**T-test questions**:\n",
    "\n",
    "Which room types are significantly different in terms of nightly price?\n",
    "\n",
    "YOUR ANSWER (1-2 sentences): ...[double click to edit]...\n",
    "\n",
    "Do the significances change if you perform Bonferroni correction to the alpha level: https://en.wikipedia.org/wiki/Bonferroni_correction ?\n",
    "\n",
    "YOUR ANSWER (1-2 sentences): ...\n"
   ]
  },
  {
   "cell_type": "markdown",
   "metadata": {
    "id": "t8mwnrOhboSC"
   },
   "source": [
    "## Question 2b: Linear regression with variable selection"
   ]
  },
  {
   "cell_type": "markdown",
   "metadata": {
    "id": "Z5aMn9YWrNnI"
   },
   "source": [
    "Provide a short justification (2-3 sentences) for your choice of variables.\n",
    "\n",
    "YOUR ANSWER: ..."
   ]
  },
  {
   "cell_type": "code",
   "execution_count": 49,
   "metadata": {},
   "outputs": [
    {
     "data": {
      "text/html": [
       "<div>\n",
       "<style scoped>\n",
       "    .dataframe tbody tr th:only-of-type {\n",
       "        vertical-align: middle;\n",
       "    }\n",
       "\n",
       "    .dataframe tbody tr th {\n",
       "        vertical-align: top;\n",
       "    }\n",
       "\n",
       "    .dataframe thead th {\n",
       "        text-align: right;\n",
       "    }\n",
       "</style>\n",
       "<table border=\"1\" class=\"dataframe\">\n",
       "  <thead>\n",
       "    <tr style=\"text-align: right;\">\n",
       "      <th></th>\n",
       "      <th>Entire home/apt</th>\n",
       "      <th>Hotel room</th>\n",
       "      <th>Private room</th>\n",
       "      <th>Shared room</th>\n",
       "    </tr>\n",
       "  </thead>\n",
       "  <tbody>\n",
       "    <tr>\n",
       "      <th>0</th>\n",
       "      <td>0</td>\n",
       "      <td>0</td>\n",
       "      <td>1</td>\n",
       "      <td>0</td>\n",
       "    </tr>\n",
       "    <tr>\n",
       "      <th>1</th>\n",
       "      <td>0</td>\n",
       "      <td>0</td>\n",
       "      <td>1</td>\n",
       "      <td>0</td>\n",
       "    </tr>\n",
       "    <tr>\n",
       "      <th>2</th>\n",
       "      <td>1</td>\n",
       "      <td>0</td>\n",
       "      <td>0</td>\n",
       "      <td>0</td>\n",
       "    </tr>\n",
       "    <tr>\n",
       "      <th>3</th>\n",
       "      <td>0</td>\n",
       "      <td>0</td>\n",
       "      <td>1</td>\n",
       "      <td>0</td>\n",
       "    </tr>\n",
       "    <tr>\n",
       "      <th>4</th>\n",
       "      <td>0</td>\n",
       "      <td>0</td>\n",
       "      <td>1</td>\n",
       "      <td>0</td>\n",
       "    </tr>\n",
       "    <tr>\n",
       "      <th>...</th>\n",
       "      <td>...</td>\n",
       "      <td>...</td>\n",
       "      <td>...</td>\n",
       "      <td>...</td>\n",
       "    </tr>\n",
       "    <tr>\n",
       "      <th>18517</th>\n",
       "      <td>1</td>\n",
       "      <td>0</td>\n",
       "      <td>0</td>\n",
       "      <td>0</td>\n",
       "    </tr>\n",
       "    <tr>\n",
       "      <th>18518</th>\n",
       "      <td>1</td>\n",
       "      <td>0</td>\n",
       "      <td>0</td>\n",
       "      <td>0</td>\n",
       "    </tr>\n",
       "    <tr>\n",
       "      <th>18519</th>\n",
       "      <td>1</td>\n",
       "      <td>0</td>\n",
       "      <td>0</td>\n",
       "      <td>0</td>\n",
       "    </tr>\n",
       "    <tr>\n",
       "      <th>18520</th>\n",
       "      <td>0</td>\n",
       "      <td>0</td>\n",
       "      <td>1</td>\n",
       "      <td>0</td>\n",
       "    </tr>\n",
       "    <tr>\n",
       "      <th>18521</th>\n",
       "      <td>0</td>\n",
       "      <td>0</td>\n",
       "      <td>1</td>\n",
       "      <td>0</td>\n",
       "    </tr>\n",
       "  </tbody>\n",
       "</table>\n",
       "<p>18522 rows × 4 columns</p>\n",
       "</div>"
      ],
      "text/plain": [
       "       Entire home/apt  Hotel room  Private room  Shared room\n",
       "0                    0           0             1            0\n",
       "1                    0           0             1            0\n",
       "2                    1           0             0            0\n",
       "3                    0           0             1            0\n",
       "4                    0           0             1            0\n",
       "...                ...         ...           ...          ...\n",
       "18517                1           0             0            0\n",
       "18518                1           0             0            0\n",
       "18519                1           0             0            0\n",
       "18520                0           0             1            0\n",
       "18521                0           0             1            0\n",
       "\n",
       "[18522 rows x 4 columns]"
      ]
     },
     "execution_count": 49,
     "metadata": {},
     "output_type": "execute_result"
    }
   ],
   "source": [
    "pd.get_dummies(df['room_type'])"
   ]
  },
  {
   "cell_type": "code",
   "execution_count": 45,
   "metadata": {
    "id": "FWj8vwcLFIUL"
   },
   "outputs": [],
   "source": [
    "def variable_selection(df = df, predictors = ['host_listings_count', 'latitude', 'longitude', 'accommodates', 'bedrooms', 'beds',\n",
    "       'minimum_nights', 'maximum_nights', 'availability_30',\n",
    "       'availability_60', 'availability_90', 'availability_365',\n",
    "       'number_of_reviews', 'number_of_reviews_ltm', 'review_scores_rating', 'review_scores_accuracy',\n",
    "       'review_scores_cleanliness', 'review_scores_checkin',\n",
    "       'review_scores_communication', 'review_scores_location',\n",
    "       'review_scores_value', 'reviews_per_month'], target = 'price', alpha = 0.05):\n",
    "    pred = [predictors[0]]\n",
    "    formula = f'{target} ~ room_type'\n",
    "    print(formula)\n",
    "    fit = sm.OLS.from_formula(formula, df).fit()\n",
    "    r2 = fit.rsquared\n",
    "    print(r2)\n",
    "    for x in predictors:\n",
    "        formula += f' + {x}'\n",
    "        print(formula)\n",
    "        fit = sm.OLS.from_formula(formula, df).fit()\n",
    "        print(fit.rsquared)\n",
    "        if r2 > fit.rsquared: \n",
    "            formula = formula.replace(f' + {x}','')\n",
    "        else:\n",
    "            pred.append(x)\n",
    "            r2 = fit.rsquared\n",
    "        print(r2)\n",
    "    \n",
    "    low_p_values = bool(1)\n",
    "\n",
    "    while low_p_values:\n",
    "        fit = sm.OLS.from_formula(formula, df).fit()\n",
    "        print(fit.summary())\n",
    "        print(f'\\n{[x for x in dict(fit.pvalues).values()]}\\n')\n",
    "        p_values_dict = dict(fit.pvalues)\n",
    "        p_values_dict.pop('Intercept', None)\n",
    "        count = 0\n",
    "        max_p_value = 0\n",
    "        max_p_value_name = ''\n",
    "        for k, v in p_values_dict.items():\n",
    "            if v > alpha: \n",
    "                if v > max_p_value: \n",
    "                    max_p_value = v\n",
    "                    max_p_value_name = k\n",
    "#                 formula = formula.replace(f'{k} + ','')\n",
    "#                 print(f'Remove {k}')\n",
    "#                 break\n",
    "            else:\n",
    "                count += 1\n",
    "        if max_p_value != 0:\n",
    "            formula = formula.replace(f'{max_p_value_name} + ','')\n",
    "            print(f'Remove {max_p_value_name}')\n",
    "        if count == len(p_values_dict) : low_p_values = bool(0)\n",
    "    return pred"
   ]
  },
  {
   "cell_type": "code",
   "execution_count": 46,
   "metadata": {
    "scrolled": true,
    "tags": []
   },
   "outputs": [
    {
     "name": "stdout",
     "output_type": "stream",
     "text": [
      "price ~ host_listings_count\n",
      "0.002208812911131397\n",
      "price ~ host_listings_count + latitude\n",
      "0.002213614329536706\n",
      "0.002213614329536706\n",
      "price ~ host_listings_count + latitude + longitude\n",
      "0.0023663805576448205\n",
      "0.0023663805576448205\n",
      "price ~ host_listings_count + latitude + longitude + accommodates\n",
      "0.11356442021433566\n",
      "0.11356442021433566\n",
      "price ~ host_listings_count + latitude + longitude + accommodates + bedrooms\n",
      "0.11468429502318256\n",
      "0.11468429502318256\n",
      "price ~ host_listings_count + latitude + longitude + accommodates + bedrooms + beds\n",
      "0.11448733288491852\n",
      "0.11468429502318256\n",
      "price ~ host_listings_count + latitude + longitude + accommodates + bedrooms + minimum_nights\n",
      "0.1171444731485699\n",
      "0.1171444731485699\n",
      "price ~ host_listings_count + latitude + longitude + accommodates + bedrooms + minimum_nights + maximum_nights\n",
      "0.11722506834638835\n",
      "0.11722506834638835\n",
      "price ~ host_listings_count + latitude + longitude + accommodates + bedrooms + minimum_nights + maximum_nights + availability_30\n",
      "0.12059105560089034\n",
      "0.12059105560089034\n",
      "price ~ host_listings_count + latitude + longitude + accommodates + bedrooms + minimum_nights + maximum_nights + availability_30 + availability_60\n",
      "0.1206352735252173\n",
      "0.1206352735252173\n",
      "price ~ host_listings_count + latitude + longitude + accommodates + bedrooms + minimum_nights + maximum_nights + availability_30 + availability_60 + availability_90\n",
      "0.12075797235901664\n",
      "0.12075797235901664\n",
      "price ~ host_listings_count + latitude + longitude + accommodates + bedrooms + minimum_nights + maximum_nights + availability_30 + availability_60 + availability_90 + availability_365\n",
      "0.12150662032740323\n",
      "0.12150662032740323\n",
      "price ~ host_listings_count + latitude + longitude + accommodates + bedrooms + minimum_nights + maximum_nights + availability_30 + availability_60 + availability_90 + availability_365 + number_of_reviews\n",
      "0.12738575615605574\n",
      "0.12738575615605574\n",
      "price ~ host_listings_count + latitude + longitude + accommodates + bedrooms + minimum_nights + maximum_nights + availability_30 + availability_60 + availability_90 + availability_365 + number_of_reviews + number_of_reviews_ltm\n",
      "0.12939392398913196\n",
      "0.12939392398913196\n",
      "                            OLS Regression Results                            \n",
      "==============================================================================\n",
      "Dep. Variable:                  price   R-squared:                       0.129\n",
      "Model:                            OLS   Adj. R-squared:                  0.129\n",
      "Method:                 Least Squares   F-statistic:                     199.4\n",
      "Date:                Wed, 05 May 2021   Prob (F-statistic):               0.00\n",
      "Time:                        23:55:09   Log-Likelihood:            -1.1130e+05\n",
      "No. Observations:               17456   AIC:                         2.226e+05\n",
      "Df Residuals:                   17442   BIC:                         2.227e+05\n",
      "Df Model:                          13                                         \n",
      "Covariance Type:            nonrobust                                         \n",
      "=========================================================================================\n",
      "                            coef    std err          t      P>|t|      [0.025      0.975]\n",
      "-----------------------------------------------------------------------------------------\n",
      "Intercept              7995.8265   3468.234      2.305      0.021    1197.741    1.48e+04\n",
      "host_listings_count       0.4416      0.075      5.877      0.000       0.294       0.589\n",
      "latitude               -144.3417     65.776     -2.194      0.028    -273.270     -15.414\n",
      "longitude               -80.5284     30.395     -2.649      0.008    -140.105     -20.952\n",
      "accommodates             31.4905      1.171     26.896      0.000      29.196      33.785\n",
      "bedrooms                 12.9019      1.603      8.049      0.000       9.760      16.044\n",
      "minimum_nights            0.4438      0.074      5.958      0.000       0.298       0.590\n",
      "maximum_nights           -0.0026      0.002     -1.328      0.184      -0.007       0.001\n",
      "availability_30           0.9821      0.535      1.834      0.067      -0.067       2.031\n",
      "availability_60          -0.3002      0.649     -0.462      0.644      -1.573       0.973\n",
      "availability_90           0.0234      0.319      0.073      0.942      -0.602       0.649\n",
      "availability_365          0.0881      0.017      5.044      0.000       0.054       0.122\n",
      "number_of_reviews        -0.1395      0.025     -5.643      0.000      -0.188      -0.091\n",
      "number_of_reviews_ltm    -0.9957      0.157     -6.343      0.000      -1.303      -0.688\n",
      "==============================================================================\n",
      "Omnibus:                    42940.934   Durbin-Watson:                   1.965\n",
      "Prob(Omnibus):                  0.000   Jarque-Bera (JB):       1074472266.865\n",
      "Skew:                          26.007   Prob(JB):                         0.00\n",
      "Kurtosis:                    1217.319   Cond. No.                     2.65e+06\n",
      "==============================================================================\n",
      "\n",
      "Notes:\n",
      "[1] Standard Errors assume that the covariance matrix of the errors is correctly specified.\n",
      "[2] The condition number is large, 2.65e+06. This might indicate that there are\n",
      "strong multicollinearity or other numerical problems.\n",
      "\n",
      "[0.02115328856975452, 4.255415455587144e-09, 0.028217431175044536, 0.0080702108632432, 3.692941911556016e-156, 8.876253397262524e-16, 2.604295234626519e-09, 0.18416773472724612, 0.06661170543252753, 0.6438540900286458, 0.9416034257572645, 4.595495537751781e-07, 1.693776291668935e-08, 2.3103958702711106e-10]\n",
      "\n",
      "Remove availability_90\n",
      "                            OLS Regression Results                            \n",
      "==============================================================================\n",
      "Dep. Variable:                  price   R-squared:                       0.129\n",
      "Model:                            OLS   Adj. R-squared:                  0.129\n",
      "Method:                 Least Squares   F-statistic:                     216.0\n",
      "Date:                Wed, 05 May 2021   Prob (F-statistic):               0.00\n",
      "Time:                        23:55:09   Log-Likelihood:            -1.1130e+05\n",
      "No. Observations:               17456   AIC:                         2.226e+05\n",
      "Df Residuals:                   17443   BIC:                         2.227e+05\n",
      "Df Model:                          12                                         \n",
      "Covariance Type:            nonrobust                                         \n",
      "=========================================================================================\n",
      "                            coef    std err          t      P>|t|      [0.025      0.975]\n",
      "-----------------------------------------------------------------------------------------\n",
      "Intercept              7995.5117   3468.133      2.305      0.021    1197.625    1.48e+04\n",
      "host_listings_count       0.4415      0.075      5.877      0.000       0.294       0.589\n",
      "latitude               -144.3352     65.774     -2.194      0.028    -273.260     -15.411\n",
      "longitude               -80.5323     30.394     -2.650      0.008    -140.107     -20.958\n",
      "accommodates             31.4897      1.171     26.897      0.000      29.195      33.784\n",
      "bedrooms                 12.9044      1.603      8.053      0.000       9.763      16.045\n",
      "minimum_nights            0.4438      0.074      5.958      0.000       0.298       0.590\n",
      "maximum_nights           -0.0026      0.002     -1.330      0.184      -0.007       0.001\n",
      "availability_30           0.9587      0.429      2.232      0.026       0.117       1.800\n",
      "availability_60          -0.2557      0.226     -1.129      0.259      -0.700       0.188\n",
      "availability_365          0.0885      0.016      5.376      0.000       0.056       0.121\n",
      "number_of_reviews        -0.1395      0.025     -5.643      0.000      -0.188      -0.091\n",
      "number_of_reviews_ltm    -0.9959      0.157     -6.347      0.000      -1.304      -0.688\n",
      "==============================================================================\n",
      "Omnibus:                    42940.808   Durbin-Watson:                   1.965\n",
      "Prob(Omnibus):                  0.000   Jarque-Bera (JB):       1074449520.123\n",
      "Skew:                          26.006   Prob(JB):                         0.00\n",
      "Kurtosis:                    1217.306   Cond. No.                     2.65e+06\n",
      "==============================================================================\n",
      "\n",
      "Notes:\n",
      "[1] Standard Errors assume that the covariance matrix of the errors is correctly specified.\n",
      "[2] The condition number is large, 2.65e+06. This might indicate that there are\n",
      "strong multicollinearity or other numerical problems.\n",
      "\n",
      "[0.02115458992137528, 4.260257274297722e-09, 0.02821991422231516, 0.008065195002959267, 3.582677792644895e-156, 8.625592940599134e-16, 2.6014965337412993e-09, 0.183634198419787, 0.02561090154555788, 0.25897896989976626, 7.709477769130615e-08, 1.6962755916716722e-08, 2.2525580856641577e-10]\n",
      "\n",
      "Remove availability_60\n",
      "                            OLS Regression Results                            \n",
      "==============================================================================\n",
      "Dep. Variable:                  price   R-squared:                       0.129\n",
      "Model:                            OLS   Adj. R-squared:                  0.129\n",
      "Method:                 Least Squares   F-statistic:                     235.6\n",
      "Date:                Wed, 05 May 2021   Prob (F-statistic):               0.00\n",
      "Time:                        23:55:09   Log-Likelihood:            -1.1130e+05\n",
      "No. Observations:               17456   AIC:                         2.226e+05\n",
      "Df Residuals:                   17444   BIC:                         2.227e+05\n",
      "Df Model:                          11                                         \n",
      "Covariance Type:            nonrobust                                         \n",
      "=========================================================================================\n",
      "                            coef    std err          t      P>|t|      [0.025      0.975]\n",
      "-----------------------------------------------------------------------------------------\n",
      "Intercept              7914.5846   3467.419      2.283      0.022    1118.097    1.47e+04\n",
      "host_listings_count       0.4425      0.075      5.891      0.000       0.295       0.590\n",
      "latitude               -142.8189     65.761     -2.172      0.030    -271.717     -13.920\n",
      "longitude               -80.2559     30.393     -2.641      0.008    -139.829     -20.683\n",
      "accommodates             31.5254      1.170     26.937      0.000      29.231      33.819\n",
      "bedrooms                 12.8852      1.602      8.041      0.000       9.744      16.026\n",
      "minimum_nights            0.4443      0.074      5.965      0.000       0.298       0.590\n",
      "maximum_nights           -0.0026      0.002     -1.304      0.192      -0.006       0.001\n",
      "availability_30           0.5086      0.160      3.185      0.001       0.196       0.822\n",
      "availability_365          0.0801      0.015      5.457      0.000       0.051       0.109\n",
      "number_of_reviews        -0.1388      0.025     -5.617      0.000      -0.187      -0.090\n",
      "number_of_reviews_ltm    -0.9992      0.157     -6.369      0.000      -1.307      -0.692\n",
      "==============================================================================\n",
      "Omnibus:                    42942.333   Durbin-Watson:                   1.965\n",
      "Prob(Omnibus):                  0.000   Jarque-Bera (JB):       1074806834.856\n",
      "Skew:                          26.009   Prob(JB):                         0.00\n",
      "Kurtosis:                    1217.508   Cond. No.                     2.65e+06\n",
      "==============================================================================\n",
      "\n",
      "Notes:\n",
      "[1] Standard Errors assume that the covariance matrix of the errors is correctly specified.\n",
      "[2] The condition number is large, 2.65e+06. This might indicate that there are\n",
      "strong multicollinearity or other numerical problems.\n",
      "\n",
      "[0.02246840129414791, 3.920722571527547e-09, 0.02988564809754878, 0.008283256241088326, 1.2671823226329945e-156, 9.47854810069551e-16, 2.4979260880251634e-09, 0.19217474267127874, 0.0014500278664799084, 4.901238209532596e-08, 1.9729432906672937e-08, 1.9535551210292991e-10]\n",
      "\n",
      "Remove maximum_nights\n",
      "                            OLS Regression Results                            \n",
      "==============================================================================\n",
      "Dep. Variable:                  price   R-squared:                       0.129\n",
      "Model:                            OLS   Adj. R-squared:                  0.129\n",
      "Method:                 Least Squares   F-statistic:                     258.9\n",
      "Date:                Wed, 05 May 2021   Prob (F-statistic):               0.00\n",
      "Time:                        23:55:09   Log-Likelihood:            -1.1130e+05\n",
      "No. Observations:               17456   AIC:                         2.226e+05\n",
      "Df Residuals:                   17445   BIC:                         2.227e+05\n",
      "Df Model:                          10                                         \n",
      "Covariance Type:            nonrobust                                         \n",
      "=========================================================================================\n",
      "                            coef    std err          t      P>|t|      [0.025      0.975]\n",
      "-----------------------------------------------------------------------------------------\n",
      "Intercept              7902.6810   3467.477      2.279      0.023    1106.080    1.47e+04\n",
      "host_listings_count       0.4457      0.075      5.935      0.000       0.298       0.593\n",
      "latitude               -142.6657     65.762     -2.169      0.030    -271.567     -13.765\n",
      "longitude               -79.8028     30.392     -2.626      0.009    -139.373     -20.232\n",
      "accommodates             31.5084      1.170     26.924      0.000      29.215      33.802\n",
      "bedrooms                 12.9490      1.602      8.084      0.000       9.809      16.089\n",
      "minimum_nights            0.4449      0.074      5.973      0.000       0.299       0.591\n",
      "availability_30           0.5130      0.160      3.213      0.001       0.200       0.826\n",
      "availability_365          0.0798      0.015      5.436      0.000       0.051       0.109\n",
      "number_of_reviews        -0.1371      0.025     -5.557      0.000      -0.186      -0.089\n",
      "number_of_reviews_ltm    -1.0078      0.157     -6.429      0.000      -1.315      -0.701\n",
      "==============================================================================\n",
      "Omnibus:                    42941.957   Durbin-Watson:                   1.964\n",
      "Prob(Omnibus):                  0.000   Jarque-Bera (JB):       1074683523.569\n",
      "Skew:                          26.008   Prob(JB):                         0.00\n",
      "Kurtosis:                    1217.439   Cond. No.                     4.19e+05\n",
      "==============================================================================\n",
      "\n",
      "Notes:\n",
      "[1] Standard Errors assume that the covariance matrix of the errors is correctly specified.\n",
      "[2] The condition number is large, 4.19e+05. This might indicate that there are\n",
      "strong multicollinearity or other numerical problems.\n",
      "\n",
      "[0.022673916851400626, 2.998720870213509e-09, 0.03006495785458306, 0.008651803463790124, 1.7917281090076404e-156, 6.651402343966617e-16, 2.3750933492787677e-09, 0.0013150232143722986, 5.533883344147717e-08, 2.7883059408032124e-08, 1.3205806590935583e-10]\n",
      "\n"
     ]
    }
   ],
   "source": [
    "predictors = variable_selection(df,['host_listings_count', 'latitude', 'longitude', 'accommodates', 'bedrooms', 'beds',\n",
    "       'minimum_nights', 'maximum_nights', 'availability_30',\n",
    "       'availability_60', 'availability_90', 'availability_365',\n",
    "       'number_of_reviews', 'number_of_reviews_ltm', \n",
    "    #    'review_scores_rating', 'review_scores_accuracy',\n",
    "    #    'review_scores_cleanliness', 'review_scores_checkin',\n",
    "    #    'review_scores_communication', 'review_scores_location',\n",
    "    #    'review_scores_value', 'reviews_per_month'\n",
    "       ],'price',0.05)"
   ]
  },
  {
   "cell_type": "code",
   "execution_count": 39,
   "metadata": {},
   "outputs": [
    {
     "data": {
      "text/plain": [
       "['host_listings_count',\n",
       " 'latitude',\n",
       " 'longitude',\n",
       " 'accommodates',\n",
       " 'bedrooms',\n",
       " 'minimum_nights',\n",
       " 'maximum_nights',\n",
       " 'availability_30',\n",
       " 'availability_60',\n",
       " 'availability_90',\n",
       " 'availability_365',\n",
       " 'number_of_reviews',\n",
       " 'number_of_reviews_ltm']"
      ]
     },
     "execution_count": 39,
     "metadata": {},
     "output_type": "execute_result"
    }
   ],
   "source": [
    "predictors"
   ]
  },
  {
   "cell_type": "code",
   "execution_count": null,
   "metadata": {},
   "outputs": [],
   "source": []
  },
  {
   "cell_type": "code",
   "execution_count": null,
   "metadata": {},
   "outputs": [],
   "source": []
  },
  {
   "cell_type": "markdown",
   "metadata": {
    "id": "lzz5uexvkgil"
   },
   "source": [
    "## Question 2c: Recommendation systems"
   ]
  },
  {
   "cell_type": "markdown",
   "metadata": {
    "id": "uW-LealN0kOU"
   },
   "source": [
    "### Recommend a neighbourhood given a budget"
   ]
  },
  {
   "cell_type": "code",
   "execution_count": 40,
   "metadata": {
    "id": "DqUlxeDk4Hww"
   },
   "outputs": [],
   "source": [
    "# Use the neighbourhood_cleansed variable for the names of the neighbourhoods."
   ]
  },
  {
   "cell_type": "code",
   "execution_count": null,
   "metadata": {},
   "outputs": [],
   "source": [
    "def recommend_neighbourhood(df, budget_min, budget_max, relative)recommend_neighbourhood(df, budget_min, budget_max, relative):\n",
    "    pass"
   ]
  },
  {
   "cell_type": "markdown",
   "metadata": {
    "id": "a-FSWRJ6zSMM"
   },
   "source": [
    "### Price recommender for hosts"
   ]
  },
  {
   "cell_type": "code",
   "execution_count": 41,
   "metadata": {
    "id": "DqUlxeDk4Hww"
   },
   "outputs": [],
   "source": [
    "def recommend_price(df, latitude, longitude, n_neighbours, room_type):\n",
    "    pass"
   ]
  },
  {
   "cell_type": "code",
   "execution_count": null,
   "metadata": {},
   "outputs": [],
   "source": []
  }
 ],
 "metadata": {
  "colab": {
   "collapsed_sections": [],
   "name": "Part1_2.ipynb",
   "provenance": [],
   "toc_visible": true
  },
  "kernelspec": {
   "display_name": "Python 3",
   "language": "python",
   "name": "python3"
  },
  "language_info": {
   "codemirror_mode": {
    "name": "ipython",
    "version": 3
   },
   "file_extension": ".py",
   "mimetype": "text/x-python",
   "name": "python",
   "nbconvert_exporter": "python",
   "pygments_lexer": "ipython3",
   "version": "3.6.13"
  },
  "metadata": {
   "interpreter": {
    "hash": "fc614421313aca95242f5ec73a5024d9dd267c44e603b6415787cd5376856060"
   }
  }
 },
 "nbformat": 4,
 "nbformat_minor": 1
}
