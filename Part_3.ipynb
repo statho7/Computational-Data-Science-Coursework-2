{
 "cells": [
  {
   "cell_type": "markdown",
   "metadata": {
    "id": "CRlf-VjoOZ8O"
   },
   "source": [
    "# Part 3 - Text analysis and ethics"
   ]
  },
  {
   "cell_type": "markdown",
   "metadata": {
    "id": "tU8BnCXIOZ8T"
   },
   "source": [
    "# 3.a Computing PMI\n",
    "\n",
    "In this assessment you are tasked to discover strong associations between concepts in Airbnb reviews. The starter code we provide in this notebook is for orientation only. The below imports are enough to implement a valid answer."
   ]
  },
  {
   "cell_type": "markdown",
   "metadata": {
    "id": "x_BJYvjpOZ8U"
   },
   "source": [
    "### Imports, data loading and helper functions\n",
    "\n",
    "We first connect our google drive, import pandas, numpy and some useful nltk and collections modules, then load the dataframe and define a function for printing the current time, useful to log our progress in some of the tasks."
   ]
  },
  {
   "cell_type": "code",
   "execution_count": 1,
   "metadata": {
    "id": "0z_s4GpwOZ8U"
   },
   "outputs": [],
   "source": [
    "import pandas as pd\n",
    "from nltk.tag import pos_tag\n",
    "import re\n",
    "from collections import defaultdict,Counter\n",
    "from nltk.stem import WordNetLemmatizer\n",
    "from datetime import datetime\n",
    "from tqdm import tqdm\n",
    "import numpy as np\n",
    "import os\n",
    "tqdm.pandas()"
   ]
  },
  {
   "cell_type": "code",
   "execution_count": 2,
   "metadata": {
    "colab": {
     "base_uri": "https://localhost:8080/"
    },
    "id": "VFP8c6HlPF_-",
    "outputId": "0fa313c5-497c-44f6-f747-4d7ebf651661"
   },
   "outputs": [
    {
     "output_type": "stream",
     "name": "stderr",
     "text": [
      "[nltk_data] Downloading package stopwords to\n[nltk_data]     C:\\Users\\Andreas\\AppData\\Roaming\\nltk_data...\n[nltk_data]   Package stopwords is already up-to-date!\n[nltk_data] Downloading package punkt to\n[nltk_data]     C:\\Users\\Andreas\\AppData\\Roaming\\nltk_data...\n[nltk_data]   Package punkt is already up-to-date!\n[nltk_data] Downloading package averaged_perceptron_tagger to\n[nltk_data]     C:\\Users\\Andreas\\AppData\\Roaming\\nltk_data...\n[nltk_data]   Package averaged_perceptron_tagger is already up-to-\n[nltk_data]       date!\n"
     ]
    }
   ],
   "source": [
    "# nltk imports, note that these outputs may be different if you are using colab or local jupyter notebooks\n",
    "import nltk\n",
    "nltk.download('stopwords')\n",
    "nltk.download('punkt')\n",
    "nltk.download('averaged_perceptron_tagger')\n",
    "from nltk.corpus import stopwords\n",
    "from nltk.tokenize import word_tokenize,sent_tokenize"
   ]
  },
  {
   "cell_type": "code",
   "execution_count": 3,
   "metadata": {
    "id": "9JOWJqE9Pq5V"
   },
   "outputs": [],
   "source": [
    "# load stopwords\n",
    "sw = set(stopwords.words('english'))"
   ]
  },
  {
   "cell_type": "code",
   "execution_count": 4,
   "metadata": {
    "id": "LVD9Q3AxOZ8V"
   },
   "outputs": [],
   "source": [
    "basedir = os.getcwd()\n",
    "df = pd.read_csv(os.path.join(basedir,'reviews.csv'))\n",
    "# deal with empty reviews\n",
    "df.comments = df.comments.fillna('')"
   ]
  },
  {
   "cell_type": "code",
   "execution_count": 5,
   "metadata": {
    "colab": {
     "base_uri": "https://localhost:8080/",
     "height": 195
    },
    "id": "pNgPCqMPOZ8V",
    "outputId": "dd74578a-59c0-45c0-9228-3fefd61ac153"
   },
   "outputs": [
    {
     "output_type": "execute_result",
     "data": {
      "text/plain": [
       "   listing_id    id        date  reviewer_id reviewer_name  \\\n",
       "0        2818  1191  2009-03-30        10952           Lam   \n",
       "1        2818  1771  2009-04-24        12798         Alice   \n",
       "2        2818  1989  2009-05-03        11869       Natalja   \n",
       "3        2818  2797  2009-05-18        14064       Enrique   \n",
       "4        2818  3151  2009-05-25        17977       Sherwin   \n",
       "\n",
       "                                            comments  \n",
       "0  Daniel is really cool. The place was nice and ...  \n",
       "1  Daniel is the most amazing host! His place is ...  \n",
       "2  We had such a great time in Amsterdam. Daniel ...  \n",
       "3  Very professional operation. Room is very clea...  \n",
       "4  Daniel is highly recommended.  He provided all...  "
      ],
      "text/html": "<div>\n<style scoped>\n    .dataframe tbody tr th:only-of-type {\n        vertical-align: middle;\n    }\n\n    .dataframe tbody tr th {\n        vertical-align: top;\n    }\n\n    .dataframe thead th {\n        text-align: right;\n    }\n</style>\n<table border=\"1\" class=\"dataframe\">\n  <thead>\n    <tr style=\"text-align: right;\">\n      <th></th>\n      <th>listing_id</th>\n      <th>id</th>\n      <th>date</th>\n      <th>reviewer_id</th>\n      <th>reviewer_name</th>\n      <th>comments</th>\n    </tr>\n  </thead>\n  <tbody>\n    <tr>\n      <th>0</th>\n      <td>2818</td>\n      <td>1191</td>\n      <td>2009-03-30</td>\n      <td>10952</td>\n      <td>Lam</td>\n      <td>Daniel is really cool. The place was nice and ...</td>\n    </tr>\n    <tr>\n      <th>1</th>\n      <td>2818</td>\n      <td>1771</td>\n      <td>2009-04-24</td>\n      <td>12798</td>\n      <td>Alice</td>\n      <td>Daniel is the most amazing host! His place is ...</td>\n    </tr>\n    <tr>\n      <th>2</th>\n      <td>2818</td>\n      <td>1989</td>\n      <td>2009-05-03</td>\n      <td>11869</td>\n      <td>Natalja</td>\n      <td>We had such a great time in Amsterdam. Daniel ...</td>\n    </tr>\n    <tr>\n      <th>3</th>\n      <td>2818</td>\n      <td>2797</td>\n      <td>2009-05-18</td>\n      <td>14064</td>\n      <td>Enrique</td>\n      <td>Very professional operation. Room is very clea...</td>\n    </tr>\n    <tr>\n      <th>4</th>\n      <td>2818</td>\n      <td>3151</td>\n      <td>2009-05-25</td>\n      <td>17977</td>\n      <td>Sherwin</td>\n      <td>Daniel is highly recommended.  He provided all...</td>\n    </tr>\n  </tbody>\n</table>\n</div>"
     },
     "metadata": {},
     "execution_count": 5
    }
   ],
   "source": [
    "df.head()"
   ]
  },
  {
   "cell_type": "code",
   "execution_count": 6,
   "metadata": {
    "colab": {
     "base_uri": "https://localhost:8080/"
    },
    "id": "O_9leP4VOZ8W",
    "outputId": "010fcf4a-300c-4749-8cb8-04bed1fe68cb"
   },
   "outputs": [
    {
     "output_type": "execute_result",
     "data": {
      "text/plain": [
       "(452143, 6)"
      ]
     },
     "metadata": {},
     "execution_count": 6
    }
   ],
   "source": [
    "df.shape"
   ]
  },
  {
   "cell_type": "markdown",
   "metadata": {
    "id": "fJfVvyXyPYS4"
   },
   "source": [
    "### 3.a1 - Process reviews\n",
    "\n",
    "What to implement: A `function process_reviews(df)` that will take as input the original dataframe and will return it with three additional columns: `tokenized`, `tagged` and `lower_tagged`."
   ]
  },
  {
   "cell_type": "code",
   "execution_count": 26,
   "metadata": {
    "id": "b7jF_XXsQYgK"
   },
   "outputs": [],
   "source": [
    "def process_reviews(df):\n",
    "  df['tokenized'] = [ word_tokenize(row.comments) for index, row in df.iterrows()]\n",
    "  print('Tokenizing done!\\n')\n",
    "  df['tagged'] = [pos_tag(row.tokenized) for index, row in df.iterrows()]\n",
    "  print('Tagging done!\\n')\n",
    "  df['lower_tagged'] = list(set([pos_tag([item.lower() for item in row.tokenized]) for index, row in df.iterrows()]))\n",
    "  print('Lower tagging done!\\n')\n",
    "  return df"
   ]
  },
  {
   "cell_type": "code",
   "execution_count": 8,
   "metadata": {
    "id": "rGYB8gx5Qq-P"
   },
   "outputs": [
    {
     "output_type": "stream",
     "name": "stdout",
     "text": [
      "Tokenizing done!\n",
      "\n",
      "Tagging done!\n",
      "\n",
      "Lower tagging done!\n",
      "\n"
     ]
    }
   ],
   "source": [
    "df = process_reviews(df)"
   ]
  },
  {
   "cell_type": "code",
   "execution_count": 9,
   "metadata": {},
   "outputs": [
    {
     "output_type": "execute_result",
     "data": {
      "text/plain": [
       "        listing_id         id        date  reviewer_id reviewer_name  \\\n",
       "0             2818       1191  2009-03-30        10952           Lam   \n",
       "1             2818       1771  2009-04-24        12798         Alice   \n",
       "2             2818       1989  2009-05-03        11869       Natalja   \n",
       "3             2818       2797  2009-05-18        14064       Enrique   \n",
       "4             2818       3151  2009-05-25        17977       Sherwin   \n",
       "...            ...        ...         ...          ...           ...   \n",
       "452138    46522591  714678579  2020-12-11     67834020       Nikolay   \n",
       "452139    46522658  710509852  2020-11-22    228202558        Alekos   \n",
       "452140    46558182  710474593  2020-11-22     23339864        Khalil   \n",
       "452141    46591961  711401716  2020-11-26    366346169     Alejandro   \n",
       "452142    46866507  715138274  2020-12-13    234622860         Beryl   \n",
       "\n",
       "                                                 comments  \\\n",
       "0       Daniel is really cool. The place was nice and ...   \n",
       "1       Daniel is the most amazing host! His place is ...   \n",
       "2       We had such a great time in Amsterdam. Daniel ...   \n",
       "3       Very professional operation. Room is very clea...   \n",
       "4       Daniel is highly recommended.  He provided all...   \n",
       "...                                                   ...   \n",
       "452138  Great shared and private spaces, very comfortable   \n",
       "452139         Muy buen trato, central  barato y acogedor   \n",
       "452140  Stayed here for a night last minute and had a ...   \n",
       "452141                                               Good   \n",
       "452142  What an amazing experience! Lydia was such a l...   \n",
       "\n",
       "                                                tokenized  \\\n",
       "0       [Daniel, is, really, cool, ., The, place, was,...   \n",
       "1       [Daniel, is, the, most, amazing, host, !, His,...   \n",
       "2       [We, had, such, a, great, time, in, Amsterdam,...   \n",
       "3       [Very, professional, operation, ., Room, is, v...   \n",
       "4       [Daniel, is, highly, recommended, ., He, provi...   \n",
       "...                                                   ...   \n",
       "452138  [Great, shared, and, private, spaces, ,, very,...   \n",
       "452139  [Muy, buen, trato, ,, central, barato, y, acog...   \n",
       "452140  [Stayed, here, for, a, night, last, minute, an...   \n",
       "452141                                             [Good]   \n",
       "452142  [What, an, amazing, experience, !, Lydia, was,...   \n",
       "\n",
       "                                                   tagged  \\\n",
       "0       [(Daniel, NNP), (is, VBZ), (really, RB), (cool...   \n",
       "1       [(Daniel, NNP), (is, VBZ), (the, DT), (most, R...   \n",
       "2       [(We, PRP), (had, VBD), (such, JJ), (a, DT), (...   \n",
       "3       [(Very, RB), (professional, JJ), (operation, N...   \n",
       "4       [(Daniel, NNP), (is, VBZ), (highly, RB), (reco...   \n",
       "...                                                   ...   \n",
       "452138  [(Great, NNP), (shared, VBD), (and, CC), (priv...   \n",
       "452139  [(Muy, NNP), (buen, NN), (trato, NN), (,, ,), ...   \n",
       "452140  [(Stayed, NNP), (here, RB), (for, IN), (a, DT)...   \n",
       "452141                                       [(Good, JJ)]   \n",
       "452142  [(What, WP), (an, DT), (amazing, JJ), (experie...   \n",
       "\n",
       "                                             lower_tagged  \n",
       "0       [(daniel, NN), (is, VBZ), (really, RB), (cool,...  \n",
       "1       [(daniel, NN), (is, VBZ), (the, DT), (most, RB...  \n",
       "2       [(we, PRP), (had, VBD), (such, JJ), (a, DT), (...  \n",
       "3       [(very, RB), (professional, JJ), (operation, N...  \n",
       "4       [(daniel, NN), (is, VBZ), (highly, RB), (recom...  \n",
       "...                                                   ...  \n",
       "452138  [(great, JJ), (shared, VBN), (and, CC), (priva...  \n",
       "452139  [(muy, NN), (buen, NN), (trato, NN), (,, ,), (...  \n",
       "452140  [(stayed, VBN), (here, RB), (for, IN), (a, DT)...  \n",
       "452141                                       [(good, JJ)]  \n",
       "452142  [(what, WP), (an, DT), (amazing, JJ), (experie...  \n",
       "\n",
       "[452143 rows x 9 columns]"
      ],
      "text/html": "<div>\n<style scoped>\n    .dataframe tbody tr th:only-of-type {\n        vertical-align: middle;\n    }\n\n    .dataframe tbody tr th {\n        vertical-align: top;\n    }\n\n    .dataframe thead th {\n        text-align: right;\n    }\n</style>\n<table border=\"1\" class=\"dataframe\">\n  <thead>\n    <tr style=\"text-align: right;\">\n      <th></th>\n      <th>listing_id</th>\n      <th>id</th>\n      <th>date</th>\n      <th>reviewer_id</th>\n      <th>reviewer_name</th>\n      <th>comments</th>\n      <th>tokenized</th>\n      <th>tagged</th>\n      <th>lower_tagged</th>\n    </tr>\n  </thead>\n  <tbody>\n    <tr>\n      <th>0</th>\n      <td>2818</td>\n      <td>1191</td>\n      <td>2009-03-30</td>\n      <td>10952</td>\n      <td>Lam</td>\n      <td>Daniel is really cool. The place was nice and ...</td>\n      <td>[Daniel, is, really, cool, ., The, place, was,...</td>\n      <td>[(Daniel, NNP), (is, VBZ), (really, RB), (cool...</td>\n      <td>[(daniel, NN), (is, VBZ), (really, RB), (cool,...</td>\n    </tr>\n    <tr>\n      <th>1</th>\n      <td>2818</td>\n      <td>1771</td>\n      <td>2009-04-24</td>\n      <td>12798</td>\n      <td>Alice</td>\n      <td>Daniel is the most amazing host! His place is ...</td>\n      <td>[Daniel, is, the, most, amazing, host, !, His,...</td>\n      <td>[(Daniel, NNP), (is, VBZ), (the, DT), (most, R...</td>\n      <td>[(daniel, NN), (is, VBZ), (the, DT), (most, RB...</td>\n    </tr>\n    <tr>\n      <th>2</th>\n      <td>2818</td>\n      <td>1989</td>\n      <td>2009-05-03</td>\n      <td>11869</td>\n      <td>Natalja</td>\n      <td>We had such a great time in Amsterdam. Daniel ...</td>\n      <td>[We, had, such, a, great, time, in, Amsterdam,...</td>\n      <td>[(We, PRP), (had, VBD), (such, JJ), (a, DT), (...</td>\n      <td>[(we, PRP), (had, VBD), (such, JJ), (a, DT), (...</td>\n    </tr>\n    <tr>\n      <th>3</th>\n      <td>2818</td>\n      <td>2797</td>\n      <td>2009-05-18</td>\n      <td>14064</td>\n      <td>Enrique</td>\n      <td>Very professional operation. Room is very clea...</td>\n      <td>[Very, professional, operation, ., Room, is, v...</td>\n      <td>[(Very, RB), (professional, JJ), (operation, N...</td>\n      <td>[(very, RB), (professional, JJ), (operation, N...</td>\n    </tr>\n    <tr>\n      <th>4</th>\n      <td>2818</td>\n      <td>3151</td>\n      <td>2009-05-25</td>\n      <td>17977</td>\n      <td>Sherwin</td>\n      <td>Daniel is highly recommended.  He provided all...</td>\n      <td>[Daniel, is, highly, recommended, ., He, provi...</td>\n      <td>[(Daniel, NNP), (is, VBZ), (highly, RB), (reco...</td>\n      <td>[(daniel, NN), (is, VBZ), (highly, RB), (recom...</td>\n    </tr>\n    <tr>\n      <th>...</th>\n      <td>...</td>\n      <td>...</td>\n      <td>...</td>\n      <td>...</td>\n      <td>...</td>\n      <td>...</td>\n      <td>...</td>\n      <td>...</td>\n      <td>...</td>\n    </tr>\n    <tr>\n      <th>452138</th>\n      <td>46522591</td>\n      <td>714678579</td>\n      <td>2020-12-11</td>\n      <td>67834020</td>\n      <td>Nikolay</td>\n      <td>Great shared and private spaces, very comfortable</td>\n      <td>[Great, shared, and, private, spaces, ,, very,...</td>\n      <td>[(Great, NNP), (shared, VBD), (and, CC), (priv...</td>\n      <td>[(great, JJ), (shared, VBN), (and, CC), (priva...</td>\n    </tr>\n    <tr>\n      <th>452139</th>\n      <td>46522658</td>\n      <td>710509852</td>\n      <td>2020-11-22</td>\n      <td>228202558</td>\n      <td>Alekos</td>\n      <td>Muy buen trato, central  barato y acogedor</td>\n      <td>[Muy, buen, trato, ,, central, barato, y, acog...</td>\n      <td>[(Muy, NNP), (buen, NN), (trato, NN), (,, ,), ...</td>\n      <td>[(muy, NN), (buen, NN), (trato, NN), (,, ,), (...</td>\n    </tr>\n    <tr>\n      <th>452140</th>\n      <td>46558182</td>\n      <td>710474593</td>\n      <td>2020-11-22</td>\n      <td>23339864</td>\n      <td>Khalil</td>\n      <td>Stayed here for a night last minute and had a ...</td>\n      <td>[Stayed, here, for, a, night, last, minute, an...</td>\n      <td>[(Stayed, NNP), (here, RB), (for, IN), (a, DT)...</td>\n      <td>[(stayed, VBN), (here, RB), (for, IN), (a, DT)...</td>\n    </tr>\n    <tr>\n      <th>452141</th>\n      <td>46591961</td>\n      <td>711401716</td>\n      <td>2020-11-26</td>\n      <td>366346169</td>\n      <td>Alejandro</td>\n      <td>Good</td>\n      <td>[Good]</td>\n      <td>[(Good, JJ)]</td>\n      <td>[(good, JJ)]</td>\n    </tr>\n    <tr>\n      <th>452142</th>\n      <td>46866507</td>\n      <td>715138274</td>\n      <td>2020-12-13</td>\n      <td>234622860</td>\n      <td>Beryl</td>\n      <td>What an amazing experience! Lydia was such a l...</td>\n      <td>[What, an, amazing, experience, !, Lydia, was,...</td>\n      <td>[(What, WP), (an, DT), (amazing, JJ), (experie...</td>\n      <td>[(what, WP), (an, DT), (amazing, JJ), (experie...</td>\n    </tr>\n  </tbody>\n</table>\n<p>452143 rows × 9 columns</p>\n</div>"
     },
     "metadata": {},
     "execution_count": 9
    }
   ],
   "source": [
    "df"
   ]
  },
  {
   "cell_type": "code",
   "execution_count": 24,
   "metadata": {},
   "outputs": [],
   "source": [
    "# num = 0\n",
    "# print(len(df.tagged[num]), len(set(df.lower_tagged[num])))\n",
    "# list(set(df.lower_tagged[num]))"
   ]
  },
  {
   "cell_type": "markdown",
   "metadata": {
    "id": "sUaH-yNlQRL9"
   },
   "source": [
    "### 3.a2 - Create a vocabulary\n",
    "\n",
    "What to implement: A function `get_vocab(df)` which takes as input the DataFrame generated in step 1.c, and returns two lists, one for the 1,000 most frequent center words (nouns) and one for the 1,000 most frequent context words (either verbs or adjectives). "
   ]
  },
  {
   "cell_type": "code",
   "execution_count": null,
   "metadata": {
    "id": "sAg6VRwdQQmg"
   },
   "outputs": [],
   "source": [
    "def get_vocab(df):\n",
    "  # your code here\n",
    "  return cent_vocab, cont_vocab"
   ]
  },
  {
   "cell_type": "code",
   "execution_count": null,
   "metadata": {
    "id": "F_R5l4IVSk9-"
   },
   "outputs": [],
   "source": [
    "cent_vocab, cont_vocab = get_vocab(df)"
   ]
  },
  {
   "cell_type": "markdown",
   "metadata": {
    "id": "qkqRGdQ_RUMg"
   },
   "source": [
    "### 3.a3 Count co-occurrences between center and context words\n",
    "\n",
    "What to implement: A function `get_coocs(df, center_vocab, context_vocab)` which takes as input the DataFrame generated in step 1, and the lists generated in step 2 and returns a dictionary of dictionaries, of the form in the example above. It is up to you how you define context (full review? per sentence? a sliding window of fixed size?), and how to deal with exceptional cases (center words occurring more than once, center and context words being part of your vocabulary because they are frequent both as a noun and as a verb, etc). Use comments in your code to justify your approach. "
   ]
  },
  {
   "cell_type": "code",
   "execution_count": null,
   "metadata": {
    "id": "ddnfCbQWRd5R"
   },
   "outputs": [],
   "source": [
    "def get_coocs(df, cent_vocab, cont_vocab):\n",
    "  # your code here\n",
    "  return coocs  "
   ]
  },
  {
   "cell_type": "code",
   "execution_count": null,
   "metadata": {
    "id": "iTT_TOkaSoXL"
   },
   "outputs": [],
   "source": [
    "coocs = get_coocs(df, cent_vocab, cont_vocab)"
   ]
  },
  {
   "cell_type": "markdown",
   "metadata": {
    "id": "be6mOXqMRlt-"
   },
   "source": [
    "### 3.a4 Convert co-occurrence dictionary to 1000x1000 dataframe\n",
    "What to implement: A function called `cooc_dict2df(cooc_dict)`, which takes as input the dictionary of dictionaries generated in step 3 and returns a DataFrame where each row corresponds to one center word, and each column corresponds to one context word, and cells are their corresponding co-occurrence value. Some (x,y) pairs will never co-occur, you should have a 0 value for those cases. "
   ]
  },
  {
   "cell_type": "code",
   "execution_count": null,
   "metadata": {
    "id": "C6WuM5U7RsBJ"
   },
   "outputs": [],
   "source": [
    "def cooc_dict2df(coocs):\n",
    "  # your code here\n",
    "  return coocdf"
   ]
  },
  {
   "cell_type": "code",
   "execution_count": null,
   "metadata": {
    "id": "cwAflxldSrbg"
   },
   "outputs": [],
   "source": [
    "coocdf = cooc_dict2df(coocs)\n",
    "coocdf.shape"
   ]
  },
  {
   "cell_type": "markdown",
   "metadata": {
    "id": "3EWllWryR-QL"
   },
   "source": [
    "### 3.a5 Raw co-occurrences to PMI scores\n",
    "\n",
    "What to implement: A function `cooc2pmi(df)` that takes as input the DataFrame generated in step 4, and returns a new DataFrame with the same rows and columns, but with PMI scores instead of raw co-occurrence counts. "
   ]
  },
  {
   "cell_type": "code",
   "execution_count": null,
   "metadata": {
    "id": "frTTs7-eSFHv"
   },
   "outputs": [],
   "source": [
    "def cooc2pmi(df):\n",
    "  # your code here\n",
    "  return pmidf"
   ]
  },
  {
   "cell_type": "code",
   "execution_count": null,
   "metadata": {
    "id": "AGftXjXRSuQw"
   },
   "outputs": [],
   "source": [
    "pmidf = cooc2pmi(coocdf)\n",
    "pmidf.shape"
   ]
  },
  {
   "cell_type": "markdown",
   "metadata": {
    "id": "zaLRvjRySOYB"
   },
   "source": [
    "### 3.a6 Retrieve top-k context words, given a center word\n",
    "\n",
    "What to implement: A function `topk(df, center_word, N=10)` that takes as input: (1) the DataFrame generated in step 5, (2) a `center_word` (a string like `‘towels’`), and (3) an optional named argument called `N` with default value of 10; and returns a list of `N` strings, in order of their PMI score with the `center_word`. You do not need to handle cases for which the word `center_word` is not found in `df`. "
   ]
  },
  {
   "cell_type": "code",
   "execution_count": null,
   "metadata": {
    "id": "NlKUP9SgSXlL"
   },
   "outputs": [],
   "source": [
    "def topk(df, center_word, N=10):\n",
    "  # your code here\n",
    "  return top_words"
   ]
  },
  {
   "cell_type": "code",
   "execution_count": null,
   "metadata": {
    "id": "1I038zG1Sw62"
   },
   "outputs": [],
   "source": [
    "topk(pmidf, 'coffee')"
   ]
  },
  {
   "cell_type": "markdown",
   "metadata": {
    "id": "Hfcm5-7b0HKO"
   },
   "source": [
    "# 3.b Ethical, social and legal implications\n",
    "\n"
   ]
  },
  {
   "cell_type": "markdown",
   "metadata": {
    "id": "qd3uf-Qq4tYg"
   },
   "source": [
    "Local authorities in touristic hotspots like Amsterdam, NYC or Barcelona regulate the price of recreational apartments for rent to, among others, ensure that fair rent prices are kept for year-long residents. Consider your price recommender for hosts in Question 2c. Imagine that Airbnb recommends a new host to put the price of your flat at a price which is above the official regulations established by the local government. Upon inspection, you realize that the inflated price you have been recommended comes from many apartments in the area only being offered during an annual event which brings many tourists, and which causes prices to rise. \n",
    "\n",
    "In this context, critically reflect on the compliance of this recommender system with **one of the five actions** outlined in the **UK’s Data Ethics Framework**. You should prioritize the action that, in your opinion, is the weakest. Then, justify your choice by critically analyzing the three **key principles** outlined in the Framework, namely _transparency_, _accountability_ and _fairness_. Finally, you should propose and critically justify a solution that would improve the recommender system in at least one of these principles. You are strongly encouraged to follow a scholarly approach, e.g., with peer-reviewed references as support. \n",
    "\n",
    "Your report should be between 500 and 750 words long.  "
   ]
  },
  {
   "cell_type": "markdown",
   "metadata": {
    "id": "A6QJyuP6I1Ht"
   },
   "source": [
    "### Your answer here. No Python, only Markdown.\n",
    "\n",
    "Write your answer after the line.\n",
    "\n",
    "---\n",
    "\n",
    "..."
   ]
  }
 ],
 "metadata": {
  "colab": {
   "collapsed_sections": [],
   "name": "Part 3.ipynb",
   "provenance": [],
   "toc_visible": true
  },
  "kernelspec": {
   "name": "python395jvsc74a57bd03f75a622fdbe68ac4774c6ea619d86cc770141a8bef94a85fce2870eb7cb09bf",
   "display_name": "Python 3.9.5 64-bit ('Python39')"
  },
  "language_info": {
   "codemirror_mode": {
    "name": "ipython",
    "version": 3
   },
   "file_extension": ".py",
   "mimetype": "text/x-python",
   "name": "python",
   "nbconvert_exporter": "python",
   "pygments_lexer": "ipython3",
   "version": "3.9.5"
  },
  "metadata": {
   "interpreter": {
    "hash": "3f75a622fdbe68ac4774c6ea619d86cc770141a8bef94a85fce2870eb7cb09bf"
   }
  }
 },
 "nbformat": 4,
 "nbformat_minor": 1
}