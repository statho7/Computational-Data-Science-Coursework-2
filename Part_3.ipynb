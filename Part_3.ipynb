{
 "cells": [
  {
   "cell_type": "markdown",
   "metadata": {
    "id": "CRlf-VjoOZ8O"
   },
   "source": [
    "# Part 3 - Text analysis and ethics"
   ]
  },
  {
   "cell_type": "markdown",
   "metadata": {
    "id": "tU8BnCXIOZ8T"
   },
   "source": [
    "# 3.a Computing PMI\n",
    "\n",
    "In this assessment you are tasked to discover strong associations between concepts in Airbnb reviews. The starter code we provide in this notebook is for orientation only. The below imports are enough to implement a valid answer."
   ]
  },
  {
   "cell_type": "markdown",
   "metadata": {
    "id": "x_BJYvjpOZ8U"
   },
   "source": [
    "### Imports, data loading and helper functions\n",
    "\n",
    "We first connect our google drive, import pandas, numpy and some useful nltk and collections modules, then load the dataframe and define a function for printing the current time, useful to log our progress in some of the tasks."
   ]
  },
  {
   "cell_type": "code",
   "execution_count": 1,
   "metadata": {
    "id": "0z_s4GpwOZ8U"
   },
   "outputs": [],
   "source": [
    "import pandas as pd\n",
    "from nltk.tag import pos_tag\n",
    "from nltk import RegexpParser\n",
    "import re\n",
    "from collections import defaultdict,Counter\n",
    "from nltk.stem import WordNetLemmatizer\n",
    "from datetime import datetime\n",
    "from tqdm import tqdm\n",
    "import numpy as np\n",
    "import os\n",
    "tqdm.pandas()"
   ]
  },
  {
   "cell_type": "code",
   "execution_count": 2,
   "metadata": {
    "colab": {
     "base_uri": "https://localhost:8080/"
    },
    "id": "VFP8c6HlPF_-",
    "outputId": "0fa313c5-497c-44f6-f747-4d7ebf651661"
   },
   "outputs": [
    {
     "output_type": "stream",
     "name": "stderr",
     "text": [
      "[nltk_data] Downloading package stopwords to\n[nltk_data]     C:\\Users\\Andreas\\AppData\\Roaming\\nltk_data...\n[nltk_data]   Package stopwords is already up-to-date!\n[nltk_data] Downloading package punkt to\n[nltk_data]     C:\\Users\\Andreas\\AppData\\Roaming\\nltk_data...\n[nltk_data]   Package punkt is already up-to-date!\n[nltk_data] Downloading package averaged_perceptron_tagger to\n[nltk_data]     C:\\Users\\Andreas\\AppData\\Roaming\\nltk_data...\n[nltk_data]   Package averaged_perceptron_tagger is already up-to-\n[nltk_data]       date!\n"
     ]
    }
   ],
   "source": [
    "# nltk imports, note that these outputs may be different if you are using colab or local jupyter notebooks\n",
    "import nltk\n",
    "nltk.download('stopwords')\n",
    "nltk.download('punkt')\n",
    "nltk.download('averaged_perceptron_tagger')\n",
    "from nltk.corpus import stopwords\n",
    "from nltk.tokenize import word_tokenize,sent_tokenize"
   ]
  },
  {
   "cell_type": "code",
   "execution_count": 3,
   "metadata": {
    "id": "9JOWJqE9Pq5V"
   },
   "outputs": [],
   "source": [
    "# load stopwords\n",
    "sw = set(stopwords.words('english'))"
   ]
  },
  {
   "cell_type": "code",
   "execution_count": 4,
   "metadata": {},
   "outputs": [],
   "source": [
    "# sw"
   ]
  },
  {
   "cell_type": "code",
   "execution_count": 5,
   "metadata": {
    "scrolled": true
   },
   "outputs": [],
   "source": [
    "'''We want to find the alternative forms of stopwords that have the \"'\" symbol in them \n",
    "in order to be able to add also to stopwords the word without this symbol'''\n",
    "\n",
    "pattern = r'\\w+\\'\\w+'\n",
    "\n",
    "new_stopwords = []\n",
    "for word in sw:\n",
    "    # If it finds a word that contains \"'\" it appends the word in new_stopwords list\n",
    "    if len(re.findall(pattern,word)) == 1:\n",
    "        new_stopwords.append(re.findall(pattern,word)[0].replace('\\'',''))\n",
    "# new_stopwords"
   ]
  },
  {
   "cell_type": "code",
   "execution_count": 6,
   "metadata": {},
   "outputs": [],
   "source": [
    "# After checking those \"new\" words we add them to the stopwords variables named sw\n",
    "for word in new_stopwords:\n",
    "    sw.add(word)\n",
    "# sw"
   ]
  },
  {
   "cell_type": "code",
   "execution_count": 7,
   "metadata": {
    "id": "LVD9Q3AxOZ8V"
   },
   "outputs": [],
   "source": [
    "basedir = os.getcwd()\n",
    "df = pd.read_csv(os.path.join(basedir,'reviews.csv'))\n",
    "# deal with empty reviews\n",
    "df.comments = df.comments.fillna('')"
   ]
  },
  {
   "cell_type": "code",
   "execution_count": 8,
   "metadata": {
    "colab": {
     "base_uri": "https://localhost:8080/",
     "height": 195
    },
    "id": "pNgPCqMPOZ8V",
    "outputId": "dd74578a-59c0-45c0-9228-3fefd61ac153"
   },
   "outputs": [
    {
     "output_type": "execute_result",
     "data": {
      "text/plain": [
       "   listing_id    id        date  reviewer_id reviewer_name  \\\n",
       "0        2818  1191  2009-03-30        10952           Lam   \n",
       "1        2818  1771  2009-04-24        12798         Alice   \n",
       "2        2818  1989  2009-05-03        11869       Natalja   \n",
       "3        2818  2797  2009-05-18        14064       Enrique   \n",
       "4        2818  3151  2009-05-25        17977       Sherwin   \n",
       "\n",
       "                                            comments  \n",
       "0  Daniel is really cool. The place was nice and ...  \n",
       "1  Daniel is the most amazing host! His place is ...  \n",
       "2  We had such a great time in Amsterdam. Daniel ...  \n",
       "3  Very professional operation. Room is very clea...  \n",
       "4  Daniel is highly recommended.  He provided all...  "
      ],
      "text/html": "<div>\n<style scoped>\n    .dataframe tbody tr th:only-of-type {\n        vertical-align: middle;\n    }\n\n    .dataframe tbody tr th {\n        vertical-align: top;\n    }\n\n    .dataframe thead th {\n        text-align: right;\n    }\n</style>\n<table border=\"1\" class=\"dataframe\">\n  <thead>\n    <tr style=\"text-align: right;\">\n      <th></th>\n      <th>listing_id</th>\n      <th>id</th>\n      <th>date</th>\n      <th>reviewer_id</th>\n      <th>reviewer_name</th>\n      <th>comments</th>\n    </tr>\n  </thead>\n  <tbody>\n    <tr>\n      <th>0</th>\n      <td>2818</td>\n      <td>1191</td>\n      <td>2009-03-30</td>\n      <td>10952</td>\n      <td>Lam</td>\n      <td>Daniel is really cool. The place was nice and ...</td>\n    </tr>\n    <tr>\n      <th>1</th>\n      <td>2818</td>\n      <td>1771</td>\n      <td>2009-04-24</td>\n      <td>12798</td>\n      <td>Alice</td>\n      <td>Daniel is the most amazing host! His place is ...</td>\n    </tr>\n    <tr>\n      <th>2</th>\n      <td>2818</td>\n      <td>1989</td>\n      <td>2009-05-03</td>\n      <td>11869</td>\n      <td>Natalja</td>\n      <td>We had such a great time in Amsterdam. Daniel ...</td>\n    </tr>\n    <tr>\n      <th>3</th>\n      <td>2818</td>\n      <td>2797</td>\n      <td>2009-05-18</td>\n      <td>14064</td>\n      <td>Enrique</td>\n      <td>Very professional operation. Room is very clea...</td>\n    </tr>\n    <tr>\n      <th>4</th>\n      <td>2818</td>\n      <td>3151</td>\n      <td>2009-05-25</td>\n      <td>17977</td>\n      <td>Sherwin</td>\n      <td>Daniel is highly recommended.  He provided all...</td>\n    </tr>\n  </tbody>\n</table>\n</div>"
     },
     "metadata": {},
     "execution_count": 8
    }
   ],
   "source": [
    "df.head()"
   ]
  },
  {
   "cell_type": "code",
   "execution_count": 9,
   "metadata": {
    "colab": {
     "base_uri": "https://localhost:8080/"
    },
    "id": "O_9leP4VOZ8W",
    "outputId": "010fcf4a-300c-4749-8cb8-04bed1fe68cb"
   },
   "outputs": [
    {
     "output_type": "execute_result",
     "data": {
      "text/plain": [
       "(452143, 6)"
      ]
     },
     "metadata": {},
     "execution_count": 9
    }
   ],
   "source": [
    "df.shape"
   ]
  },
  {
   "cell_type": "markdown",
   "metadata": {
    "id": "fJfVvyXyPYS4"
   },
   "source": [
    "### 3.a1 - Process reviews\n",
    "\n",
    "What to implement: A `function process_reviews(df)` that will take as input the original dataframe and will return it with three additional columns: `tokenized`, `tagged` and `lower_tagged`."
   ]
  },
  {
   "cell_type": "code",
   "execution_count": 10,
   "metadata": {
    "id": "b7jF_XXsQYgK"
   },
   "outputs": [],
   "source": [
    "def process_reviews(df):\n",
    "    '''\n",
    "    This function takes as input the given dataframe and creates three new columns the tokenized, tagged and lower_tagged. \n",
    "    The tokenized column has as input the words of the comments for its row. The tagged has the result Part-of-speech (PoS) \n",
    "    tagging for the tokenized words and finally the lower_tagged column holds the tagged words in lowercase.\n",
    "\n",
    "    Args:\n",
    "        df: The dataframe we want to modify.\n",
    "\n",
    "    Returns: A new version of the given dataframe with three additional columns: tokenized, tagged and lower_tagged.\n",
    "    '''\n",
    "    \n",
    "    # Initialize 3 lists one for each column we will create\n",
    "    tokenized_col = []\n",
    "    tagged_col = []\n",
    "    lower_tagged_col = []\n",
    "\n",
    "\n",
    "    mylen = len(df)\n",
    "    count = 0\n",
    "    \n",
    "    # Iterate through the given dataframe\n",
    "    for index, row in df.iterrows():\n",
    "        # tokenize the words for the comments of a row\n",
    "        token = word_tokenize(row.comments)\n",
    "        # Append the tokenized words to the proper list\n",
    "        tokenized_col.append(token)\n",
    "        # Tag the tokenized words of the row and then append them to the proper list\n",
    "        tagged_col.append(pos_tag(token))\n",
    "        # lower_tagged.append(list(set(pos_tag([item.lower() for item in token]))))\n",
    "        # Make the tagged words lowercased and then if they are not stopwords append them to the lower_tagged_col list\n",
    "        lower_tagged_col.append(pos_tag([item.lower() for item in token if item.lower() not in sw]))\n",
    "        count += 1\n",
    "\n",
    "        if count % 50000 == 0: print(f'{count} out of {mylen}')\n",
    "\n",
    "    # Set as values of the 3 new columns the proper list we created for each one\n",
    "    df['tokenized'] = tokenized_col\n",
    "    df['tagged'] = tagged_col\n",
    "    df['lower_tagged'] = lower_tagged_col\n",
    "\n",
    "    # Return the modified dataframe\n",
    "    return df"
   ]
  },
  {
   "cell_type": "code",
   "execution_count": 11,
   "metadata": {
    "id": "rGYB8gx5Qq-P",
    "scrolled": true,
    "tags": []
   },
   "outputs": [
    {
     "output_type": "stream",
     "name": "stdout",
     "text": [
      "50000 out of 452143\n",
      "100000 out of 452143\n",
      "150000 out of 452143\n",
      "200000 out of 452143\n",
      "250000 out of 452143\n",
      "300000 out of 452143\n",
      "350000 out of 452143\n",
      "400000 out of 452143\n",
      "450000 out of 452143\n"
     ]
    }
   ],
   "source": [
    "df = process_reviews(df)"
   ]
  },
  {
   "cell_type": "markdown",
   "metadata": {
    "id": "sUaH-yNlQRL9"
   },
   "source": [
    "### 3.a2 - Create a vocabulary\n",
    "\n",
    "What to implement: A function `get_vocab(df)` which takes as input the DataFrame generated in step 1.c, and returns two lists, one for the 1,000 most frequent center words (nouns) and one for the 1,000 most frequent context words (either verbs or adjectives). "
   ]
  },
  {
   "cell_type": "code",
   "execution_count": 12,
   "metadata": {
    "id": "sAg6VRwdQQmg"
   },
   "outputs": [],
   "source": [
    "def get_vocab(df):\n",
    "    '''\n",
    "    Based on the lower_tagged column of the dataframe (df) that this function receives it creates a vocabulary of \n",
    "    ‘center’ (the x in the PMI equation) and ‘context’ (the y in the PMI equation) words. \n",
    "    The vocabulary of center words will be the 1,000 most frequent NOUNS (words with a PoS tag starting with ‘N’), \n",
    "    and the context words will be the 1,000 most frequent words tagged as either VERB or ADJECTIVE \n",
    "    (words with any PoS tag starting with either ‘J’ or ‘V’).\n",
    "\n",
    "    Args:\n",
    "        df: The dataframe we want to modify.\n",
    "\n",
    "    Returns: The ‘center’ and ‘context’ vocabularies as lists.\n",
    "    '''\n",
    "    \n",
    "    # Initialize 2 empty lists for the 2 vocabularies to be filled\n",
    "    cent_list, cont_list = [], []\n",
    "\n",
    "    # Iterate through the 'lower_tagged' column of the df provided\n",
    "    for review in df.lower_tagged:\n",
    "        \n",
    "        '''For every word in a review (a record in the 'lower_tagged' column) that the condition is true for either \n",
    "        center or context list is appended to the appropriate list '''\n",
    "        cent_list.extend([word for word in [list_of_words[0] for list_of_words in review if list_of_words[1][0] == 'N']])\n",
    "        cont_list.extend([word for word in [list_of_words[0] for list_of_words in review if (list_of_words[1][0] == 'J') \n",
    "                                            or (list_of_words[1][0] == 'V')]])\n",
    "    \n",
    "    # We create 2 dictionaries that holds information about the frequency of the words in the 2 lists we have\n",
    "    cent_dict = Counter(cent_list)\n",
    "    cont_dict = Counter(cont_list)\n",
    "\n",
    "    # We sort the dictionaries based on their value for frequency of the words and then keep the 1000 most frequent in each list\n",
    "    cent_vocab = [key for key, value in sorted(cent_dict.items(), key=lambda item: item[1], reverse=True)][:1000]\n",
    "    cont_vocab = [key for key, value in sorted(cont_dict.items(), key=lambda item: item[1], reverse=True)][:1000]\n",
    "\n",
    "    # Return the lists\n",
    "    return cent_vocab, cont_vocab"
   ]
  },
  {
   "cell_type": "code",
   "execution_count": 13,
   "metadata": {
    "id": "F_R5l4IVSk9-",
    "tags": []
   },
   "outputs": [],
   "source": [
    "cent_vocab, cont_vocab = get_vocab(df)"
   ]
  },
  {
   "cell_type": "markdown",
   "metadata": {
    "id": "qkqRGdQ_RUMg"
   },
   "source": [
    "### 3.a3 Count co-occurrences between center and context words\n",
    "\n",
    "What to implement: A function `get_coocs(df, center_vocab, context_vocab)` which takes as input the DataFrame generated in step 1, and the lists generated in step 2 and returns a dictionary of dictionaries, of the form in the example above. It is up to you how you define context (full review? per sentence? a sliding window of fixed size?), and how to deal with exceptional cases (center words occurring more than once, center and context words being part of your vocabulary because they are frequent both as a noun and as a verb, etc). Use comments in your code to justify your approach. "
   ]
  },
  {
   "cell_type": "code",
   "execution_count": 14,
   "metadata": {
    "tags": []
   },
   "outputs": [],
   "source": [
    "def get_coocs(df, cent_vocab, cont_vocab):\n",
    "    '''\n",
    "    This function with the 1,000-word vocabularies of center and context words, creates a co-occurrence matrix \n",
    "    where, for each center word, we keep track of how many of the context words co-occur with it. \n",
    "\n",
    "    Args:\n",
    "        df: The dataframe that holds the reviews and we will base the creation of co-occurence matrix.\n",
    "        cent_vocab: The vocabulary of center words.\n",
    "        cont_vocab: The vocabulary of context words.\n",
    "\n",
    "    Returns: A co-occurrence matrix of center and context words.\n",
    "    '''\n",
    "    \n",
    "    sentences = [] \n",
    "    words_in_sentence = []\n",
    "    start = pd.to_datetime('today')\n",
    "    diff = 0\n",
    "    count = 0\n",
    "    for index, row in df.iterrows():\n",
    "        count += 1\n",
    "        for (word, tag) in row.lower_tagged:            \n",
    "            if tag[0] == '.':\n",
    "                sentences.append(words_in_sentence)\n",
    "                words_in_sentence = []\n",
    "            else:\n",
    "                words_in_sentence.append((word, tag))\n",
    "        end = pd.to_datetime('today')\n",
    "        diff = (end-start).total_seconds()\n",
    "        if count % 50000 == 0 : print(f'{count} -- {diff/60}')\n",
    "    \n",
    "    print(f'yolo in {diff/60} minutes')\n",
    "    \n",
    "    start = pd.to_datetime('today')\n",
    "  \n",
    "    '''Create a dict where we have as keys the 1,000 center_words and as value the sentences they occur.\n",
    "       In order to Filter the sentences we call the Filter() function'''\n",
    "    sentences_per_center_word = {center_word : Filter(sentences, center_word) for center_word in cent_vocab}\n",
    "\n",
    "    # return sentences_per_center_word\n",
    "    end = pd.to_datetime('today')\n",
    "    diff = (end-start).total_seconds()\n",
    "    \n",
    "    print(f'swag in {diff/60} minutes')\n",
    "    \n",
    "    # Initialize an empty dictionary for the co-occurence matrix\n",
    "    coocs = {}\n",
    "\n",
    "    count = 0\n",
    "    count2 = 0\n",
    "    diff = 0\n",
    "    \n",
    "    # Iterate through the dictionary that keeps the sentences for each center_word\n",
    "    for center_word, sentences in sentences_per_center_word.items():\n",
    "        # Initialize an empty list for the context words that co-occur with the center_word\n",
    "        words = []\n",
    "        count += 1\n",
    "        start = pd.to_datetime('today')\n",
    "        count2 = 0\n",
    "        \n",
    "        # Iterate through the sentences the center_word occurs\n",
    "        for sentence in sentences:\n",
    "            count2 += 1\n",
    "            \n",
    "            # Create a list with the context words that co-occur with the center_word            \n",
    "            words_of_sentence = [word for (word, tag) in sentence if word in cont_vocab and (( tag[0] == 'J' ) or ( tag[0] == 'V' ))]\n",
    "            '''If the list we created above is not empty (it was succesful in searching for contenxt words) \n",
    "            extend the words list with it.'''\n",
    "            if len(words_of_sentence) > 0: words.extend(words_of_sentence)\n",
    "                \n",
    "        end = pd.to_datetime('today')\n",
    "        diff += (end-start).total_seconds()\n",
    "        \n",
    "        coocs[center_word] = dict(Counter(words))\n",
    "        \n",
    "        if count % 250 == 0 : print(f'{count} center_word out of {len(sentences_per_center_word)} in {diff/60} minutes')\n",
    "\n",
    "            \n",
    "    print(diff/60)\n",
    "    \n",
    "    return coocs \n",
    "\n",
    "def Filter(sentences, center_word):\n",
    "    '''\n",
    "    This function receives all the sentences in the comments column and \n",
    "    creates a list of the sentences the center_word occurs.\n",
    "\n",
    "    Args:\n",
    "        sentences: A list of all the sentences in the comments.\n",
    "        center_word: A center word to find its sentences.\n",
    "\n",
    "    Returns: A list of the sentences that the center_word occurs.\n",
    "    '''\n",
    "    \n",
    "    # Initialize a list to collect the sentences a center_word is in.    \n",
    "    sentences_for_center_word = [sentence for sentence in sentences \n",
    "                                 if len([word for (word, tag) in sentence if center_word == word and tag[0] == 'N']) > 0]\n",
    "    return sentences_for_center_word"
   ]
  },
  {
   "cell_type": "code",
   "execution_count": 15,
   "metadata": {
    "scrolled": true,
    "tags": []
   },
   "outputs": [
    {
     "output_type": "stream",
     "name": "stdout",
     "text": [
      "50000 -- 0.37105515\n",
      "100000 -- 0.7957747166666667\n",
      "150000 -- 1.0768240333333334\n",
      "200000 -- 1.2706687333333333\n",
      "250000 -- 1.5185283833333334\n",
      "300000 -- 1.7815552833333332\n",
      "350000 -- 2.047106783333333\n",
      "400000 -- 2.2852114833333332\n",
      "450000 -- 2.6500659833333335\n",
      "yolo in 2.658734883333333 minutes\n",
      "swag in 23.145127 minutes\n",
      "250 center_word out of 1000 in 7.944016816666672 minutes\n",
      "500 center_word out of 1000 in 9.642478599999997 minutes\n",
      "750 center_word out of 1000 in 10.607126716666652 minutes\n",
      "1000 center_word out of 1000 in 11.255094849999983 minutes\n",
      "11.255094849999983\n"
     ]
    }
   ],
   "source": [
    "coocs = get_coocs(df, cent_vocab, cont_vocab)"
   ]
  },
  {
   "cell_type": "markdown",
   "metadata": {
    "id": "be6mOXqMRlt-"
   },
   "source": [
    "### 3.a4 Convert co-occurrence dictionary to 1000x1000 dataframe\n",
    "What to implement: A function called `cooc_dict2df(cooc_dict)`, which takes as input the dictionary of dictionaries generated in step 3 and returns a DataFrame where each row corresponds to one center word, and each column corresponds to one context word, and cells are their corresponding co-occurrence value. Some (x,y) pairs will never co-occur, you should have a 0 value for those cases. "
   ]
  },
  {
   "cell_type": "code",
   "execution_count": 16,
   "metadata": {
    "id": "C6WuM5U7RsBJ"
   },
   "outputs": [],
   "source": [
    "def cooc_dict2df(coocs):\n",
    "    '''\n",
    "    This function takes as input the dictionary of co-occurence matrix for center and context words. \n",
    "    It converts the dictionary to a 1000x1000 pandas DataFrame.\n",
    "\n",
    "    Args:\n",
    "        coocs: The dictionary of co-occurence matrix for center and context words.\n",
    "\n",
    "    Returns: A 1000x1000 pandas DataFrame.\n",
    "    '''\n",
    "    \n",
    "    # Initialize a pandas DataFrame with columns the context words and indexes the center words\n",
    "    coocdf = pd.DataFrame(columns=cont_vocab, index = cent_vocab)\n",
    "\n",
    "    # Iterate through the dataframe we created previously to fill it with values\n",
    "    for index, row in coocdf.iterrows():\n",
    "        for word in cont_vocab:\n",
    "            ''' If the pair of index(center word) and word (context word) co-occurs \n",
    "                it will add the value to proper place in the dataframe.\n",
    "                Otherwise the Error of coocs not having a value for this pair will be caught \n",
    "                and the value of 0 will added to the corresponding place.'''\n",
    "            \n",
    "            try:\n",
    "                coocdf[word][index] = coocs[index][word]\n",
    "            except: \n",
    "                coocdf[word][index] = 0\n",
    "\n",
    "    # Return the pandas DataFrame\n",
    "    return coocdf"
   ]
  },
  {
   "cell_type": "code",
   "execution_count": 17,
   "metadata": {
    "id": "cwAflxldSrbg"
   },
   "outputs": [
    {
     "output_type": "execute_result",
     "data": {
      "text/plain": [
       "(1000, 1000)"
      ]
     },
     "metadata": {},
     "execution_count": 17
    }
   ],
   "source": [
    "coocdf = cooc_dict2df(coocs)\n",
    "coocdf.shape"
   ]
  },
  {
   "cell_type": "markdown",
   "metadata": {
    "id": "3EWllWryR-QL"
   },
   "source": [
    "### 3.a5 Raw co-occurrences to PMI scores\n",
    "\n",
    "What to implement: A function `cooc2pmi(df)` that takes as input the DataFrame generated in step 4, and returns a new DataFrame with the same rows and columns, but with PMI scores instead of raw co-occurrence counts. "
   ]
  },
  {
   "cell_type": "code",
   "execution_count": 18,
   "metadata": {
    "id": "frTTs7-eSFHv"
   },
   "outputs": [],
   "source": [
    "def cooc2pmi(df):\n",
    "    '''\n",
    "    This function converts the raw co-occurence counts pandas DataFrame \n",
    "    to a DataFrame that keeps the information for the PMI scores.\n",
    "\n",
    "    Args:\n",
    "        df: The dataframe we want to convert from raw co-occurence counts to PMI scores.\n",
    "\n",
    "    Returns: A pandas DataFrame with PMI scores for the pairs of center and context words.\n",
    "    '''\n",
    "    \n",
    "    pmidf = pd.DataFrame(columns=cont_vocab, index = cent_vocab)\n",
    "\n",
    "    N = 0\n",
    "    for index, row in df.iterrows():\n",
    "        N += sum(row)\n",
    "    \n",
    "    count = 0\n",
    "    for index, row in df.iterrows():\n",
    "        for word in cont_vocab:\n",
    "            try:\n",
    "                pmi = df[word][index] / (sum(df[word])/N / sum(row)/N)\n",
    "                if pmi == 0:\n",
    "                    pmidf[word][index] = 0\n",
    "                else:\n",
    "                    pmidf[word][index] = np.log([pmi])[0] \n",
    "            except: \n",
    "                pmidf[word][index] = 0\n",
    "      \n",
    "    return pmidf"
   ]
  },
  {
   "cell_type": "code",
   "execution_count": 19,
   "metadata": {
    "id": "AGftXjXRSuQw",
    "tags": []
   },
   "outputs": [
    {
     "output_type": "execute_result",
     "data": {
      "text/plain": [
       "(1000, 1000)"
      ]
     },
     "metadata": {},
     "execution_count": 19
    }
   ],
   "source": [
    "pmidf = cooc2pmi(coocdf)\n",
    "pmidf.shape"
   ]
  },
  {
   "cell_type": "markdown",
   "metadata": {
    "id": "zaLRvjRySOYB"
   },
   "source": [
    "### 3.a6 Retrieve top-k context words, given a center word\n",
    "\n",
    "What to implement: A function `topk(df, center_word, N=10)` that takes as input: (1) the DataFrame generated in step 5, (2) a `center_word` (a string like `‘towels’`), and (3) an optional named argument called `N` with default value of 10; and returns a list of `N` strings, in order of their PMI score with the `center_word`. You do not need to handle cases for which the word `center_word` is not found in `df`. "
   ]
  },
  {
   "cell_type": "code",
   "execution_count": 20,
   "metadata": {
    "id": "NlKUP9SgSXlL"
   },
   "outputs": [],
   "source": [
    "def topk(df, center_word, N=10):\n",
    "    '''\n",
    "    This function takes as input the given dataframe and creates three new columns the tokenized, tagged and lower_tagged. \n",
    "    The tokenized column has as input the words of the comments for its row. The tagged has the result Part-of-speech (PoS) \n",
    "    tagging for the tokenized words and finally the lower_tagged column holds the tagged words in lowercase.\n",
    "\n",
    "    Args:\n",
    "        df: The dataframe we want to modify.\n",
    "        center_word: The dataframe we want to modify.\n",
    "        N: The dataframe we want to modify.\n",
    "\n",
    "    Returns: A new version of the given dataframe with three additional columns: tokenized, tagged and lower_tagged.\n",
    "    '''\n",
    "    \n",
    "    dicts_ = {word: df[word][center_word] for word in cont_vocab}\n",
    "    top_words = [key for key, value in sorted(dicts_.items(), key=lambda item: item[1], reverse=True)][:N]\n",
    "\n",
    "    return top_words"
   ]
  },
  {
   "cell_type": "code",
   "execution_count": 21,
   "metadata": {
    "id": "1I038zG1Sw62"
   },
   "outputs": [
    {
     "output_type": "execute_result",
     "data": {
      "text/plain": [
       "['recommand',\n",
       " 'recomend',\n",
       " 'recommend',\n",
       " 'reccomend',\n",
       " '’',\n",
       " '‘',\n",
       " 'looking',\n",
       " 'spotless',\n",
       " 'recommendable',\n",
       " 'magical']"
      ]
     },
     "metadata": {},
     "execution_count": 21
    }
   ],
   "source": [
    "topk(pmidf, 'place')"
   ]
  },
  {
   "cell_type": "code",
   "execution_count": 22,
   "metadata": {},
   "outputs": [
    {
     "output_type": "execute_result",
     "data": {
      "text/plain": [
       "['prime',\n",
       " 'brilliant',\n",
       " 'fantastic',\n",
       " 'great',\n",
       " 'perfect',\n",
       " 'superb',\n",
       " 'terrific',\n",
       " 'excellent',\n",
       " 'fabulous',\n",
       " 'better']"
      ]
     },
     "metadata": {},
     "execution_count": 22
    }
   ],
   "source": [
    "topk(pmidf, 'location')"
   ]
  },
  {
   "cell_type": "code",
   "execution_count": 23,
   "metadata": {},
   "outputs": [
    {
     "output_type": "execute_result",
     "data": {
      "text/plain": [
       "['tea',\n",
       " 'nespresso',\n",
       " 'microwave',\n",
       " 'complimentary',\n",
       " 'supplied',\n",
       " 'fridge',\n",
       " 'stocked',\n",
       " 'cheese',\n",
       " 'fresh',\n",
       " 'drink']"
      ]
     },
     "metadata": {},
     "execution_count": 23
    }
   ],
   "source": [
    "topk(pmidf, 'coffee')"
   ]
  },
  {
   "cell_type": "code",
   "execution_count": 24,
   "metadata": {},
   "outputs": [
    {
     "output_type": "execute_result",
     "data": {
      "text/plain": [
       "['enjoyed',\n",
       " 'enjoyable',\n",
       " 'pleasant',\n",
       " 'overall',\n",
       " 'hesitate',\n",
       " 'memorable',\n",
       " 'love',\n",
       " 'pleased',\n",
       " 'ensure',\n",
       " 'satisfied']"
      ]
     },
     "metadata": {},
     "execution_count": 24
    }
   ],
   "source": [
    "topk(pmidf, 'stay')"
   ]
  },
  {
   "cell_type": "code",
   "execution_count": 25,
   "metadata": {},
   "outputs": [
    {
     "output_type": "execute_result",
     "data": {
      "text/plain": [
       "['aux', 'des', 'sont', 'deux', 'avec', 'apprécié', 'et', 'ses', 'les', 'ont']"
      ]
     },
     "metadata": {},
     "execution_count": 25
    }
   ],
   "source": [
    "topk(pmidf, 'petits')"
   ]
  },
  {
   "cell_type": "code",
   "execution_count": 26,
   "metadata": {},
   "outputs": [
    {
     "output_type": "execute_result",
     "data": {
      "text/plain": [
       "['wohnung',\n",
       " 'sehr',\n",
       " 'zimmer',\n",
       " 'das',\n",
       " 'alles',\n",
       " 'und',\n",
       " 'bad',\n",
       " 'ist',\n",
       " 'wie',\n",
       " 'gute']"
      ]
     },
     "metadata": {},
     "execution_count": 26
    }
   ],
   "source": [
    "topk(pmidf, 'sauber')"
   ]
  },
  {
   "cell_type": "markdown",
   "metadata": {
    "id": "Hfcm5-7b0HKO"
   },
   "source": [
    "# 3.b Ethical, social and legal implications\n",
    "\n"
   ]
  },
  {
   "cell_type": "markdown",
   "metadata": {
    "id": "qd3uf-Qq4tYg"
   },
   "source": [
    "Local authorities in touristic hotspots like Amsterdam, NYC or Barcelona regulate the price of recreational apartments for rent to, among others, ensure that fair rent prices are kept for year-long residents. Consider your price recommender for hosts in Question 2c. Imagine that Airbnb recommends a new host to put the price of your flat at a price which is above the official regulations established by the local government. Upon inspection, you realize that the inflated price you have been recommended comes from many apartments in the area only being offered during an annual event which brings many tourists, and which causes prices to rise. \n",
    "\n",
    "In this context, critically reflect on the compliance of this recommender system with **one of the five actions** outlined in the **UK’s Data Ethics Framework**. You should prioritize the action that, in your opinion, is the weakest. Then, justify your choice by critically analyzing the three **key principles** outlined in the Framework, namely _transparency_, _accountability_ and _fairness_. Finally, you should propose and critically justify a solution that would improve the recommender system in at least one of these principles. You are strongly encouraged to follow a scholarly approach, e.g., with peer-reviewed references as support. \n",
    "\n",
    "Your report should be between 500 and 750 words long.  "
   ]
  },
  {
   "cell_type": "markdown",
   "metadata": {
    "id": "A6QJyuP6I1Ht"
   },
   "source": [
    "### Your answer here. No Python, only Markdown.\n",
    "\n",
    "Write your answer after the line.\n",
    "\n",
    "---\n",
    "\n",
    "The weakest action from the five outlined in the UK’s Data Ethics Framework is the “Review the quality and limitations of the data”. The bias of the prices for apartments only being offered during an annual event was not assessed and it creates false outputs and that has a negative effect to people. On the one hand the guests have a false opinion about prices as they are inflated by an event that occurs one time per year whilst this recommendation system is being used for the whole year by the guests. That means that they might select a room that is more expensive than it should be. On the other hand, the hosts that want to offer a new room may become too optimistic and set a price per night for their room that will mean guests will not choose and they will finally have a loss of income due to false information about the market status. As it is right now, we have a serious problem of Transparency to our data. It is not clear that we have a bias in our dataset that inflates prices and causes major problem to the people using our recommendation system. About the Accountability of our project there are also major concerns.  The challenge is big and it is described by Floridi and Taddeo in their journal “some crucial challenges include moral responsibility and accountability of both designers and data scientists with respect to unforeseen and undesired consequences as well as missed opportunities. Unsurprisingly, the ethical design and auditing of algorithms’ requirements and the assessment of potential, undesirable outcomes (e.g. discrimination or the promotion of antisocial content) is attracting increasing research.” [1]. We have not established any mechanism to combat biases against events price inflation or any other bias that could harm people or neighbourhoods. There is a chance that there might be a discrimination against some neighbourhoods, and they have lower price than they should. This statement also applies to the principle of Fairness. There has been no research as to if host that are people of colour for example tend to have lower prices to their apartments due to failures in our recommendation system to combat this discrimination. As stated by Markham 2018, “it is impossible to standardize or universalize what constitutes the ethically correct actions in technology design and research contexts, not least because we cannot predict what will happen as a result of our choices.”[2]. So, we have to implement a custom solution for our project that will assess biases and if possible, eliminate the discrimination against either guests or hosts. There has to be an extensive search on how the prices have been established at this level for each type of accommodation and for the neighbourhoods. Furthermore, we have to take into account the trends on the selection of an accommodation based on the profile of the guests but also the hosts. All these mechanism have to be transparent so everybody can understand the logic behind every decision the team that created this project made."
   ]
  },
  {
   "source": [
    "## References\n",
    "\n",
    "[1] What is data ethics?, Luciano Floridi & Mariarosaria Taddeo, https://royalsocietypublishing.org/doi/10.1098/rsta.2016.0360 \n",
    "\n",
    "[2] Ethics as Methods: Doing Ethics in the Era of Big Data Research, Annette N Markham, Katrin Tiidenberg and Andrew Herman, https://journals.sagepub.com/doi/pdf/10.1177/2056305118784502 \n"
   ],
   "cell_type": "markdown",
   "metadata": {}
  }
 ],
 "metadata": {
  "colab": {
   "collapsed_sections": [],
   "name": "Part 3.ipynb",
   "provenance": [],
   "toc_visible": true
  },
  "kernelspec": {
   "name": "python395jvsc74a57bd03f75a622fdbe68ac4774c6ea619d86cc770141a8bef94a85fce2870eb7cb09bf",
   "display_name": "Python 3.9.5 64-bit"
  },
  "language_info": {
   "codemirror_mode": {
    "name": "ipython",
    "version": 3
   },
   "file_extension": ".py",
   "mimetype": "text/x-python",
   "name": "python",
   "nbconvert_exporter": "python",
   "pygments_lexer": "ipython3",
   "version": "3.9.5"
  },
  "metadata": {
   "interpreter": {
    "hash": "3f75a622fdbe68ac4774c6ea619d86cc770141a8bef94a85fce2870eb7cb09bf"
   }
  }
 },
 "nbformat": 4,
 "nbformat_minor": 1
}