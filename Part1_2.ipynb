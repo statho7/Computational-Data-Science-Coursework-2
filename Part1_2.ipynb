{
 "cells": [
  {
   "cell_type": "markdown",
   "metadata": {},
   "source": [
    "# CMT 309 Data Science Portfolio\n",
    "# Parts 1 and 2\n",
    "\n",
    "---"
   ]
  },
  {
   "cell_type": "markdown",
   "metadata": {
    "id": "3Pe7XhS9wEVw"
   },
   "source": [
    "# Part 1 - Pre-processing and exploratory analysis\n",
    "\n",
    "Instructions:\n",
    "\n",
    "- Answer the questions by filling in the appropriate sections of this file. \n",
    "- Do not remove or rename section headings or any code that has been provided, unless instructed otherwise.\n",
    "- You can add as many additional cells with code as you like.\n",
    "\n",
    "Before submitting,\n",
    "\n",
    "- Ensure that the code is clean, readable, and well documented. \n",
    "- Restart the kernel (to wipe all variables) and then run the code from top to bottom to produce all intermediate outputs. "
   ]
  },
  {
   "cell_type": "code",
   "execution_count": 15,
   "metadata": {
    "colab": {
     "base_uri": "https://localhost:8080/"
    },
    "id": "acSREWbeG0mm",
    "outputId": "beeccebf-cce6-4ff7-bb6c-45988b8748f5"
   },
   "outputs": [],
   "source": [
    "import scipy, os\n",
    "import pandas as pd\n",
    "import numpy as np\n",
    "import seaborn as sns\n",
    "import matplotlib.pyplot as plt\n",
    "import statsmodels.api as sm\n",
    "\n",
    "# add more imports here if you like\n",
    "# ..."
   ]
  },
  {
   "cell_type": "code",
   "execution_count": 16,
   "metadata": {
    "colab": {
     "base_uri": "https://localhost:8080/"
    },
    "id": "A6CTk1ZiFVIk",
    "outputId": "289693f3-8883-4104-f861-7b2a5c219e8a"
   },
   "outputs": [],
   "source": [
    "# # if you use Google Colab:\n",
    "# from google.colab import drive\n",
    "# drive.mount('/content/drive')"
   ]
  },
  {
   "cell_type": "code",
   "execution_count": 17,
   "metadata": {
    "id": "ycIjzElBzG2x"
   },
   "outputs": [],
   "source": [
    "# change this line your folder where the data is found\n",
    "# basedir = \"C:/Users/andre/Dropbox/MSc Data Science and Analytics/Computational Data Science/Coursework 2\"\n",
    "basedir = os.getcwd()"
   ]
  },
  {
   "cell_type": "markdown",
   "metadata": {
    "id": "vwuEFzzUKzJW"
   },
   "source": [
    "In this part you will be working with the  `listings.csv` data. To help you wrap around your head we will first provide some information on the main columns in the data.\n",
    "\n",
    "***Dataframe columns description***:\n",
    "\n",
    "- `id` - unique ID identifying the listing\n",
    "\n",
    "- `name` - title of the listing\n",
    "\n",
    "- `host_id` - unique ID for a host\n",
    "\n",
    "- `host_name` - first name of the host\n",
    "\n",
    "- `host_since` - date that the host first joined Airbnb\n",
    "\n",
    "- `host_is_superhost` - whether or not the host is a superhost, which is a mark of quality for the top-rated and most experienced hosts, and can increase your search ranking on Airbnb\n",
    "\n",
    "- `host_listings_count` - how many listings the host has in total\n",
    "\n",
    "- `host_has_profile_pic` - whether or not the host has a profile picture\n",
    "\n",
    "- `host_identity_verified` - whether or not the host has been verified with his passport\n",
    "\n",
    "- `neighbourhood_cleansed` - the borough the property is in\n",
    "\n",
    "- `latitude` and `longitude` - geolocation coordinates of the property\n",
    "\n",
    "- `property_type` - type of property, e.g. house or flat\n",
    "\n",
    "- `room_type` - type of listing, e.g. entire home, private room or shared room\n",
    "\n",
    "- `accommodates` - how many people the property accommodates\n",
    "\n",
    "- `bedrooms` - number of bedrooms\n",
    "\n",
    "- `beds` - number of beds\n",
    "\n",
    "- `price` - nightly advertised price (the target variable)\n",
    "\n",
    "- `minimum_nights` - the minimum length of stay\n",
    "\n",
    "- `maximum_nights` - the maximum length of stay\n",
    "\n",
    "- `availability_30` - how many nights are available to be booked in the next 30 days\n",
    "\n",
    "- `availability_60` - how many nights are available to be booked in the next 60 days\n",
    "\n",
    "- `availability_90` - how many nights are available to be booked in the next 90 days\n",
    "\n",
    "- `availability_365` - how many nights are available to be booked in the next 365 days\n",
    "\n",
    "- `number_of_reviews` - the number of reviews left for the property\n",
    "\n",
    "- `number_of_reviews_ltm` - the number of reviews left for the property in the last twelve months\n",
    "\n",
    "- `first_review` - the date of the first review\n",
    "\n",
    "- `last_review` - the date of the most recent review\n",
    "\n",
    "- `review_scores_rating` - guests can score properties overall from 1 to 5 stars\n",
    "\n",
    "- `review_scores_accuracy` - guests can score the accuracy of a property's description from 1 to 5 stars\n",
    "\n",
    "- `review_scores_cleanliness` - guests can score a property's cleanliness from 1 to 5 stars\n",
    "\n",
    "- `review_scores_checkin` - guests can score their check-in from 1 to 5 stars\n",
    "\n",
    "- `review_scores_communication` - guests can score a host's communication from 1 to 5 stars\n",
    "\n",
    "- `review_scores_location` - guests can score a property's location from 1 to 5 stars\n",
    "\n",
    "- `review_scores_value` - guests can score a booking's value for money from 1 to 5 stars\n",
    "\n",
    "- `instant_bookable` - whether or not the property can be instant booked (i.e. booked straight away, without having to message the host first and wait to be accepted)\n",
    "\n",
    "- `reviews_per_month` - calculated field of the average number of reviews left by guest each month\n",
    "\n",
    "\n",
    "The next two cells load the `listings.csv` file into a dataframe. Once loaded, start working on the subsequent questions."
   ]
  },
  {
   "cell_type": "code",
   "execution_count": 18,
   "metadata": {
    "id": "K4zobPQJzKAX"
   },
   "outputs": [],
   "source": [
    "### DO NOT CHANGE THIS CELL\n",
    "def load_csv(basedir):\n",
    "    return pd.read_csv(os.path.join(basedir, 'listings.csv'))"
   ]
  },
  {
   "cell_type": "code",
   "execution_count": 19,
   "metadata": {
    "colab": {
     "base_uri": "https://localhost:8080/",
     "height": 581
    },
    "id": "73pNEQSv5_WZ",
    "outputId": "8f8c9c0b-f9eb-466e-e047-9e7e4d40dbbe"
   },
   "outputs": [
    {
     "output_type": "execute_result",
     "data": {
      "text/plain": [
       "      id                         listing_url       scrape_id last_scraped  \\\n",
       "0   2818   https://www.airbnb.com/rooms/2818  20201212211823   2020-12-13   \n",
       "1  20168  https://www.airbnb.com/rooms/20168  20201212211823   2020-12-13   \n",
       "2  25428  https://www.airbnb.com/rooms/25428  20201212211823   2020-12-13   \n",
       "3  27886  https://www.airbnb.com/rooms/27886  20201212211823   2020-12-13   \n",
       "4  28871  https://www.airbnb.com/rooms/28871  20201212211823   2020-12-13   \n",
       "\n",
       "                                                name  \\\n",
       "0           Quiet Garden View Room & Super Fast WiFi   \n",
       "1       Studio with private bathroom in the centre 1   \n",
       "2    Lovely apt in City Centre (w.lift) near Jordaan   \n",
       "3  Romantic, stylish B&B houseboat in canal district   \n",
       "4                            Comfortable double room   \n",
       "\n",
       "                                         description  \\\n",
       "0  Quiet Garden View Room & Super Fast WiFi<br />...   \n",
       "1  17th century Dutch townhouse in the heart of t...   \n",
       "2  Lovely apt in Centre ( lift & fireplace) near ...   \n",
       "3  Stylish and romantic houseboat on fantastic hi...   \n",
       "4  <b>The space</b><br />In a monumental house ri...   \n",
       "\n",
       "                               neighborhood_overview  \\\n",
       "0  Indische Buurt (\"Indies Neighborhood\") is a ne...   \n",
       "1  Located just in between famous central canals....   \n",
       "2                                                NaN   \n",
       "3         Central, quiet, safe, clean and beautiful.   \n",
       "4       Flower market , Leidseplein , Rembrantsplein   \n",
       "\n",
       "                                         picture_url  host_id  \\\n",
       "0  https://a0.muscache.com/pictures/10272854/8dcc...     3159   \n",
       "1  https://a0.muscache.com/pictures/69979628/fd6a...    59484   \n",
       "2  https://a0.muscache.com/pictures/138431/7079a9...    56142   \n",
       "3  https://a0.muscache.com/pictures/02c2da9d-660e...    97647   \n",
       "4  https://a0.muscache.com/pictures/160889/362340...   124245   \n",
       "\n",
       "                                   host_url  ... review_scores_communication  \\\n",
       "0    https://www.airbnb.com/users/show/3159  ...                        10.0   \n",
       "1   https://www.airbnb.com/users/show/59484  ...                        10.0   \n",
       "2   https://www.airbnb.com/users/show/56142  ...                        10.0   \n",
       "3   https://www.airbnb.com/users/show/97647  ...                        10.0   \n",
       "4  https://www.airbnb.com/users/show/124245  ...                        10.0   \n",
       "\n",
       "  review_scores_location review_scores_value license instant_bookable  \\\n",
       "0                    9.0                10.0     NaN                t   \n",
       "1                   10.0                 9.0     NaN                t   \n",
       "2                   10.0                10.0     NaN                f   \n",
       "3                   10.0                10.0     NaN                t   \n",
       "4                   10.0                10.0     NaN                f   \n",
       "\n",
       "  calculated_host_listings_count calculated_host_listings_count_entire_homes  \\\n",
       "0                              1                                           0   \n",
       "1                              2                                           0   \n",
       "2                              1                                           1   \n",
       "3                              1                                           0   \n",
       "4                              2                                           0   \n",
       "\n",
       "  calculated_host_listings_count_private_rooms  \\\n",
       "0                                            1   \n",
       "1                                            2   \n",
       "2                                            0   \n",
       "3                                            1   \n",
       "4                                            2   \n",
       "\n",
       "  calculated_host_listings_count_shared_rooms reviews_per_month  \n",
       "0                                           0              1.95  \n",
       "1                                           0              2.58  \n",
       "2                                           0              0.14  \n",
       "3                                           0              2.01  \n",
       "4                                           0              2.68  \n",
       "\n",
       "[5 rows x 74 columns]"
      ],
      "text/html": "<div>\n<style scoped>\n    .dataframe tbody tr th:only-of-type {\n        vertical-align: middle;\n    }\n\n    .dataframe tbody tr th {\n        vertical-align: top;\n    }\n\n    .dataframe thead th {\n        text-align: right;\n    }\n</style>\n<table border=\"1\" class=\"dataframe\">\n  <thead>\n    <tr style=\"text-align: right;\">\n      <th></th>\n      <th>id</th>\n      <th>listing_url</th>\n      <th>scrape_id</th>\n      <th>last_scraped</th>\n      <th>name</th>\n      <th>description</th>\n      <th>neighborhood_overview</th>\n      <th>picture_url</th>\n      <th>host_id</th>\n      <th>host_url</th>\n      <th>...</th>\n      <th>review_scores_communication</th>\n      <th>review_scores_location</th>\n      <th>review_scores_value</th>\n      <th>license</th>\n      <th>instant_bookable</th>\n      <th>calculated_host_listings_count</th>\n      <th>calculated_host_listings_count_entire_homes</th>\n      <th>calculated_host_listings_count_private_rooms</th>\n      <th>calculated_host_listings_count_shared_rooms</th>\n      <th>reviews_per_month</th>\n    </tr>\n  </thead>\n  <tbody>\n    <tr>\n      <th>0</th>\n      <td>2818</td>\n      <td>https://www.airbnb.com/rooms/2818</td>\n      <td>20201212211823</td>\n      <td>2020-12-13</td>\n      <td>Quiet Garden View Room &amp; Super Fast WiFi</td>\n      <td>Quiet Garden View Room &amp; Super Fast WiFi&lt;br /&gt;...</td>\n      <td>Indische Buurt (\"Indies Neighborhood\") is a ne...</td>\n      <td>https://a0.muscache.com/pictures/10272854/8dcc...</td>\n      <td>3159</td>\n      <td>https://www.airbnb.com/users/show/3159</td>\n      <td>...</td>\n      <td>10.0</td>\n      <td>9.0</td>\n      <td>10.0</td>\n      <td>NaN</td>\n      <td>t</td>\n      <td>1</td>\n      <td>0</td>\n      <td>1</td>\n      <td>0</td>\n      <td>1.95</td>\n    </tr>\n    <tr>\n      <th>1</th>\n      <td>20168</td>\n      <td>https://www.airbnb.com/rooms/20168</td>\n      <td>20201212211823</td>\n      <td>2020-12-13</td>\n      <td>Studio with private bathroom in the centre 1</td>\n      <td>17th century Dutch townhouse in the heart of t...</td>\n      <td>Located just in between famous central canals....</td>\n      <td>https://a0.muscache.com/pictures/69979628/fd6a...</td>\n      <td>59484</td>\n      <td>https://www.airbnb.com/users/show/59484</td>\n      <td>...</td>\n      <td>10.0</td>\n      <td>10.0</td>\n      <td>9.0</td>\n      <td>NaN</td>\n      <td>t</td>\n      <td>2</td>\n      <td>0</td>\n      <td>2</td>\n      <td>0</td>\n      <td>2.58</td>\n    </tr>\n    <tr>\n      <th>2</th>\n      <td>25428</td>\n      <td>https://www.airbnb.com/rooms/25428</td>\n      <td>20201212211823</td>\n      <td>2020-12-13</td>\n      <td>Lovely apt in City Centre (w.lift) near Jordaan</td>\n      <td>Lovely apt in Centre ( lift &amp; fireplace) near ...</td>\n      <td>NaN</td>\n      <td>https://a0.muscache.com/pictures/138431/7079a9...</td>\n      <td>56142</td>\n      <td>https://www.airbnb.com/users/show/56142</td>\n      <td>...</td>\n      <td>10.0</td>\n      <td>10.0</td>\n      <td>10.0</td>\n      <td>NaN</td>\n      <td>f</td>\n      <td>1</td>\n      <td>1</td>\n      <td>0</td>\n      <td>0</td>\n      <td>0.14</td>\n    </tr>\n    <tr>\n      <th>3</th>\n      <td>27886</td>\n      <td>https://www.airbnb.com/rooms/27886</td>\n      <td>20201212211823</td>\n      <td>2020-12-13</td>\n      <td>Romantic, stylish B&amp;B houseboat in canal district</td>\n      <td>Stylish and romantic houseboat on fantastic hi...</td>\n      <td>Central, quiet, safe, clean and beautiful.</td>\n      <td>https://a0.muscache.com/pictures/02c2da9d-660e...</td>\n      <td>97647</td>\n      <td>https://www.airbnb.com/users/show/97647</td>\n      <td>...</td>\n      <td>10.0</td>\n      <td>10.0</td>\n      <td>10.0</td>\n      <td>NaN</td>\n      <td>t</td>\n      <td>1</td>\n      <td>0</td>\n      <td>1</td>\n      <td>0</td>\n      <td>2.01</td>\n    </tr>\n    <tr>\n      <th>4</th>\n      <td>28871</td>\n      <td>https://www.airbnb.com/rooms/28871</td>\n      <td>20201212211823</td>\n      <td>2020-12-13</td>\n      <td>Comfortable double room</td>\n      <td>&lt;b&gt;The space&lt;/b&gt;&lt;br /&gt;In a monumental house ri...</td>\n      <td>Flower market , Leidseplein , Rembrantsplein</td>\n      <td>https://a0.muscache.com/pictures/160889/362340...</td>\n      <td>124245</td>\n      <td>https://www.airbnb.com/users/show/124245</td>\n      <td>...</td>\n      <td>10.0</td>\n      <td>10.0</td>\n      <td>10.0</td>\n      <td>NaN</td>\n      <td>f</td>\n      <td>2</td>\n      <td>0</td>\n      <td>2</td>\n      <td>0</td>\n      <td>2.68</td>\n    </tr>\n  </tbody>\n</table>\n<p>5 rows × 74 columns</p>\n</div>"
     },
     "metadata": {},
     "execution_count": 19
    }
   ],
   "source": [
    "### DO NOT CHANGE THIS CELL\n",
    "df = load_csv(basedir)\n",
    "df.head()"
   ]
  },
  {
   "cell_type": "markdown",
   "metadata": {
    "id": "Pzc714QhKf3g"
   },
   "source": [
    "## Question 1a"
   ]
  },
  {
   "cell_type": "code",
   "execution_count": 20,
   "metadata": {
    "id": "8m6wSWKPJPLR"
   },
   "outputs": [],
   "source": [
    "# Do not rename the function, do not remove the return statement.\n",
    "# Just add code before the return statement to add the required functionality.\n",
    "def drop_cols(df):\n",
    "    df.drop(['scrape_id','last_scraped','description','listing_url','neighbourhood','calendar_last_scraped', 'amenities','neighborhood_overview', 'picture_url','host_url', 'host_about', 'host_location','host_total_listings_count','host_thumbnail_url','host_picture_url', 'host_verifications','bathrooms_text','has_availability','minimum_minimum_nights','maximum_minimum_nights','minimum_maximum_nights','maximum_maximum_nights','minimum_nights_avg_ntm','maximum_nights_avg_ntm','number_of_reviews_l30d','calculated_host_listings_count','calculated_host_listings_count_entire_homes','calculated_host_listings_count_private_rooms','calculated_host_listings_count_shared_rooms'], inplace=True, axis=1)\n",
    "    return df"
   ]
  },
  {
   "cell_type": "code",
   "execution_count": 21,
   "metadata": {
    "colab": {
     "base_uri": "https://localhost:8080/"
    },
    "id": "GpBDncpjFrDh",
    "outputId": "569c0e41-7392-43b4-a9ec-06aa9374b7a8"
   },
   "outputs": [
    {
     "output_type": "execute_result",
     "data": {
      "text/plain": [
       "Index(['id', 'name', 'host_id', 'host_name', 'host_since',\n",
       "       'host_response_time', 'host_response_rate', 'host_acceptance_rate',\n",
       "       'host_is_superhost', 'host_neighbourhood', 'host_listings_count',\n",
       "       'host_has_profile_pic', 'host_identity_verified',\n",
       "       'neighbourhood_cleansed', 'neighbourhood_group_cleansed', 'latitude',\n",
       "       'longitude', 'property_type', 'room_type', 'accommodates', 'bathrooms',\n",
       "       'bedrooms', 'beds', 'price', 'minimum_nights', 'maximum_nights',\n",
       "       'calendar_updated', 'availability_30', 'availability_60',\n",
       "       'availability_90', 'availability_365', 'number_of_reviews',\n",
       "       'number_of_reviews_ltm', 'first_review', 'last_review',\n",
       "       'review_scores_rating', 'review_scores_accuracy',\n",
       "       'review_scores_cleanliness', 'review_scores_checkin',\n",
       "       'review_scores_communication', 'review_scores_location',\n",
       "       'review_scores_value', 'license', 'instant_bookable',\n",
       "       'reviews_per_month'],\n",
       "      dtype='object')"
      ]
     },
     "metadata": {},
     "execution_count": 21
    }
   ],
   "source": [
    "df = drop_cols(df)\n",
    "df.columns"
   ]
  },
  {
   "cell_type": "code",
   "execution_count": 22,
   "metadata": {},
   "outputs": [
    {
     "output_type": "stream",
     "name": "stdout",
     "text": [
      "id                                  0\nname                               33\nhost_id                             0\nhost_name                          55\nhost_since                         55\nhost_response_time              14273\nhost_response_rate              14273\nhost_acceptance_rate             9255\nhost_is_superhost                  55\nhost_neighbourhood               6203\nhost_listings_count                55\nhost_has_profile_pic               55\nhost_identity_verified             55\nneighbourhood_cleansed              0\nneighbourhood_group_cleansed    18522\nlatitude                            0\nlongitude                           0\nproperty_type                       0\nroom_type                           0\naccommodates                        0\nbathrooms                       18522\nbedrooms                         1014\nbeds                              107\nprice                               0\nminimum_nights                      0\nmaximum_nights                      0\ncalendar_updated                18522\navailability_30                     0\navailability_60                     0\navailability_90                     0\navailability_365                    0\nnumber_of_reviews                   0\nnumber_of_reviews_ltm               0\nfirst_review                     2375\nlast_review                      2375\nreview_scores_rating             2620\nreview_scores_accuracy           2630\nreview_scores_cleanliness        2630\nreview_scores_checkin            2638\nreview_scores_communication      2631\nreview_scores_location           2636\nreview_scores_value              2636\nlicense                         18522\ninstant_bookable                    0\nreviews_per_month                2375\ndtype: int64\n"
     ]
    }
   ],
   "source": [
    "print(df.isna().sum())"
   ]
  },
  {
   "cell_type": "code",
   "execution_count": 23,
   "metadata": {
    "id": "JgsX31bPJLfc"
   },
   "outputs": [],
   "source": [
    "def drop_cols_na(df, threshold = 0.5):\n",
    "    rows = len(df)\n",
    "    column_na = list(zip(df.columns, df.isna().sum()))\n",
    "    for column in column_na:\n",
    "        if column[1] / rows > threshold:\n",
    "            df.drop(column[0], inplace=True, axis=1)\n",
    "    return df"
   ]
  },
  {
   "cell_type": "code",
   "execution_count": 24,
   "metadata": {
    "id": "y0DPwLXwSDGy"
   },
   "outputs": [
    {
     "output_type": "execute_result",
     "data": {
      "text/plain": [
       "Index(['id', 'name', 'host_id', 'host_name', 'host_since',\n",
       "       'host_acceptance_rate', 'host_is_superhost', 'host_neighbourhood',\n",
       "       'host_listings_count', 'host_has_profile_pic', 'host_identity_verified',\n",
       "       'neighbourhood_cleansed', 'latitude', 'longitude', 'property_type',\n",
       "       'room_type', 'accommodates', 'bedrooms', 'beds', 'price',\n",
       "       'minimum_nights', 'maximum_nights', 'availability_30',\n",
       "       'availability_60', 'availability_90', 'availability_365',\n",
       "       'number_of_reviews', 'number_of_reviews_ltm', 'first_review',\n",
       "       'last_review', 'review_scores_rating', 'review_scores_accuracy',\n",
       "       'review_scores_cleanliness', 'review_scores_checkin',\n",
       "       'review_scores_communication', 'review_scores_location',\n",
       "       'review_scores_value', 'instant_bookable', 'reviews_per_month'],\n",
       "      dtype='object')"
      ]
     },
     "metadata": {},
     "execution_count": 24
    }
   ],
   "source": [
    "df = drop_cols_na(df)\n",
    "df.columns"
   ]
  },
  {
   "cell_type": "markdown",
   "metadata": {
    "id": "y6SMYnVDKt1d"
   },
   "source": [
    "## Question 1b"
   ]
  },
  {
   "cell_type": "code",
   "execution_count": 25,
   "metadata": {
    "tags": []
   },
   "outputs": [
    {
     "output_type": "execute_result",
     "data": {
      "text/plain": [
       "True"
      ]
     },
     "metadata": {},
     "execution_count": 25
    }
   ],
   "source": [
    "temp = dict(df['host_is_superhost'].value_counts())\n",
    "\n",
    "list(temp.keys()) == ['f','t']"
   ]
  },
  {
   "cell_type": "code",
   "execution_count": 26,
   "metadata": {},
   "outputs": [
    {
     "output_type": "execute_result",
     "data": {
      "text/plain": [
       "14702"
      ]
     },
     "metadata": {},
     "execution_count": 26
    }
   ],
   "source": [
    "temp1 = list(df['host_id'].value_counts())\n",
    "\n",
    "len(temp1)\n",
    "temp1.count(1)"
   ]
  },
  {
   "cell_type": "code",
   "execution_count": 27,
   "metadata": {
    "id": "lcw2iovWK-EN"
   },
   "outputs": [
    {
     "output_type": "error",
     "ename": "ModuleNotFoundError",
     "evalue": "No module named 'sklearn'",
     "traceback": [
      "\u001b[1;31m---------------------------------------------------------------------------\u001b[0m",
      "\u001b[1;31mModuleNotFoundError\u001b[0m                       Traceback (most recent call last)",
      "\u001b[1;32m<ipython-input-27-e6417bd20e2b>\u001b[0m in \u001b[0;36m<module>\u001b[1;34m\u001b[0m\n\u001b[1;32m----> 1\u001b[1;33m \u001b[1;32mfrom\u001b[0m \u001b[0msklearn\u001b[0m\u001b[1;33m.\u001b[0m\u001b[0mpreprocessing\u001b[0m \u001b[1;32mimport\u001b[0m \u001b[0mLabelEncoder\u001b[0m\u001b[1;33m\u001b[0m\u001b[1;33m\u001b[0m\u001b[0m\n\u001b[0m\u001b[0;32m      2\u001b[0m \u001b[0mlabel_enc\u001b[0m \u001b[1;33m=\u001b[0m \u001b[0mLabelEncoder\u001b[0m\u001b[1;33m(\u001b[0m\u001b[1;33m)\u001b[0m\u001b[1;33m\u001b[0m\u001b[1;33m\u001b[0m\u001b[0m\n\u001b[0;32m      3\u001b[0m \u001b[1;32mdef\u001b[0m \u001b[0mbinary_encoding\u001b[0m\u001b[1;33m(\u001b[0m\u001b[0mdf\u001b[0m\u001b[1;33m)\u001b[0m\u001b[1;33m:\u001b[0m\u001b[1;33m\u001b[0m\u001b[1;33m\u001b[0m\u001b[0m\n\u001b[0;32m      4\u001b[0m     \u001b[1;32mfor\u001b[0m \u001b[0mcolumn\u001b[0m \u001b[1;32min\u001b[0m \u001b[0mdf\u001b[0m\u001b[1;33m.\u001b[0m\u001b[0mcolumns\u001b[0m\u001b[1;33m:\u001b[0m\u001b[1;33m\u001b[0m\u001b[1;33m\u001b[0m\u001b[0m\n\u001b[0;32m      5\u001b[0m         \u001b[0mvalues\u001b[0m \u001b[1;33m=\u001b[0m \u001b[0mdict\u001b[0m\u001b[1;33m(\u001b[0m\u001b[0mdf\u001b[0m\u001b[1;33m[\u001b[0m\u001b[0mcolumn\u001b[0m\u001b[1;33m]\u001b[0m\u001b[1;33m.\u001b[0m\u001b[0mvalue_counts\u001b[0m\u001b[1;33m(\u001b[0m\u001b[1;33m)\u001b[0m\u001b[1;33m)\u001b[0m\u001b[1;33m\u001b[0m\u001b[1;33m\u001b[0m\u001b[0m\n",
      "\u001b[1;31mModuleNotFoundError\u001b[0m: No module named 'sklearn'"
     ]
    }
   ],
   "source": [
    "from sklearn.preprocessing import LabelEncoder\n",
    "label_enc = LabelEncoder()\n",
    "def binary_encoding(df):\n",
    "    for column in df.columns:\n",
    "        values = dict(df[column].value_counts())\n",
    "        if list(values.keys()) == ['f','t']:\n",
    "            temp = []\n",
    "            for x in df[column]:\n",
    "                if x == 't':\n",
    "                    temp.append(1)\n",
    "                elif x == 'f':\n",
    "                    temp.append(0)\n",
    "                else:\n",
    "                    temp.append(x)\n",
    "            df[column] = temp\n",
    "    return df"
   ]
  },
  {
   "cell_type": "code",
   "execution_count": 14,
   "metadata": {
    "id": "aZ7BoRBhlbYV"
   },
   "outputs": [],
   "source": [
    "df = binary_encoding(df)"
   ]
  },
  {
   "cell_type": "code",
   "execution_count": 15,
   "metadata": {},
   "outputs": [
    {
     "data": {
      "text/plain": [
       "Index(['id', 'name', 'host_id', 'host_name', 'host_since',\n",
       "       'host_acceptance_rate', 'host_is_superhost', 'host_neighbourhood',\n",
       "       'host_listings_count', 'host_has_profile_pic', 'host_identity_verified',\n",
       "       'neighbourhood_cleansed', 'latitude', 'longitude', 'property_type',\n",
       "       'room_type', 'accommodates', 'bedrooms', 'beds', 'price',\n",
       "       'minimum_nights', 'maximum_nights', 'availability_30',\n",
       "       'availability_60', 'availability_90', 'availability_365',\n",
       "       'number_of_reviews', 'number_of_reviews_ltm', 'first_review',\n",
       "       'last_review', 'review_scores_rating', 'review_scores_accuracy',\n",
       "       'review_scores_cleanliness', 'review_scores_checkin',\n",
       "       'review_scores_communication', 'review_scores_location',\n",
       "       'review_scores_value', 'instant_bookable', 'reviews_per_month'],\n",
       "      dtype='object')"
      ]
     },
     "execution_count": 15,
     "metadata": {},
     "output_type": "execute_result"
    }
   ],
   "source": [
    "df.columns"
   ]
  },
  {
   "cell_type": "code",
   "execution_count": 16,
   "metadata": {
    "id": "nKc_EqKdLDdV"
   },
   "outputs": [],
   "source": [
    "# hint: check Pandas to_datetime method\n",
    "def add_host_days(df):\n",
    "    host_days = []\n",
    "    for day in df['host_since']:\n",
    "        try:\n",
    "            host_days.append(int((pd.to_datetime('today').normalize() - pd.to_datetime(day)).days))\n",
    "        except:\n",
    "            host_days.append(None)\n",
    "    df['host_days'] = host_days\n",
    "    return df"
   ]
  },
  {
   "cell_type": "code",
   "execution_count": 17,
   "metadata": {
    "id": "1KNvK2SKLEcW"
   },
   "outputs": [],
   "source": [
    "def convert_price(df):\n",
    "    prices = []\n",
    "    for price in df['price']:\n",
    "        prices.append(float(price[1:].replace(',','')))\n",
    "    df['price'] = prices\n",
    "    return df"
   ]
  },
  {
   "cell_type": "code",
   "execution_count": 18,
   "metadata": {
    "id": "MTGf_mt2iwwG"
   },
   "outputs": [],
   "source": [
    "df = add_host_days(df)\n",
    "df = convert_price(df)"
   ]
  },
  {
   "cell_type": "markdown",
   "metadata": {
    "id": "F1T-93iSQoXO"
   },
   "source": [
    "## Question 1c: Answering questions.\n",
    "\n",
    "You do not need to write the answer. In each cell, provide the Pandas code that outputs the result. Each answer can be given with 1-2 lines of Python code. Example question and answer:\n",
    "\n",
    "```python\n",
    "# What is the total number of rows in the dataframe?\n",
    "df.shape[0]\n",
    "```\n",
    "\n",
    "Now over to you:"
   ]
  },
  {
   "cell_type": "code",
   "execution_count": 19,
   "metadata": {
    "colab": {
     "base_uri": "https://localhost:8080/"
    },
    "id": "gM3BRpVlni7z",
    "outputId": "627f63ee-841f-4a33-d42b-d68592613e26"
   },
   "outputs": [
    {
     "data": {
      "text/plain": [
       "1331"
      ]
     },
     "execution_count": 19,
     "metadata": {},
     "output_type": "execute_result"
    }
   ],
   "source": [
    "# How many hosts offer 2 or more properties for rent?\n",
    "sum(i > 1 for i in list(df['host_id'].value_counts()))"
   ]
  },
  {
   "cell_type": "code",
   "execution_count": 20,
   "metadata": {
    "colab": {
     "base_uri": "https://localhost:8080/"
    },
    "id": "angGfYJxpOJ5",
    "outputId": "9a71425f-c1fc-4e46-d100-b4acb3729fbe"
   },
   "outputs": [
    {
     "data": {
      "text/plain": [
       "8000.0"
      ]
     },
     "execution_count": 20,
     "metadata": {},
     "output_type": "execute_result"
    }
   ],
   "source": [
    "# What is the highest price for a listing?\n",
    "df['price'].max()"
   ]
  },
  {
   "cell_type": "code",
   "execution_count": 21,
   "metadata": {
    "colab": {
     "base_uri": "https://localhost:8080/"
    },
    "id": "WRiPS2fypnz3",
    "outputId": "02a948d4-3afc-414a-e188-4e0bdfa88fa4"
   },
   "outputs": [
    {
     "data": {
      "text/plain": [
       "46015289"
      ]
     },
     "execution_count": 21,
     "metadata": {},
     "output_type": "execute_result"
    }
   ],
   "source": [
    "# What is the ID of the listing that has the largest number of bedrooms?\n",
    "df[df['bedrooms'] == df['bedrooms'].max()].iloc[0]['id']"
   ]
  },
  {
   "cell_type": "code",
   "execution_count": 22,
   "metadata": {
    "colab": {
     "base_uri": "https://localhost:8080/"
    },
    "id": "eu1cSceDnsM4",
    "outputId": "c5253373-ffd4-4fea-e8c2-9f42318492b7"
   },
   "outputs": [
    {
     "data": {
      "text/plain": [
       "258273"
      ]
     },
     "execution_count": 22,
     "metadata": {},
     "output_type": "execute_result"
    }
   ],
   "source": [
    "# What is the ID of the listing with the largest advertised price\n",
    "df[df['price'] == df['price'].max()].iloc[0]['id']"
   ]
  },
  {
   "cell_type": "code",
   "execution_count": 23,
   "metadata": {
    "colab": {
     "base_uri": "https://localhost:8080/"
    },
    "id": "ZhzBksbCumZB",
    "outputId": "8f5c2b6f-bddd-4115-faa7-c672a7c67ac9"
   },
   "outputs": [
    {
     "data": {
      "text/plain": [
       "14433"
      ]
     },
     "execution_count": 23,
     "metadata": {},
     "output_type": "execute_result"
    }
   ],
   "source": [
    "# There are different room types. How many listings are there for the most common room type?\n",
    "df['room_type'].value_counts().max()"
   ]
  },
  {
   "cell_type": "code",
   "execution_count": 24,
   "metadata": {
    "colab": {
     "base_uri": "https://localhost:8080/"
    },
    "id": "clsRn8tEVw4a",
    "outputId": "99cd1a0f-12e9-46d3-e1db-83da28ef8c85"
   },
   "outputs": [
    {
     "data": {
      "text/plain": [
       "2242"
      ]
     },
     "execution_count": 24,
     "metadata": {},
     "output_type": "execute_result"
    }
   ],
   "source": [
    "# How many hosts are there that have been registered for more than 3000 days?\n",
    "len(pd.unique(df['host_id'][df['host_days'] > 3000]))"
   ]
  },
  {
   "cell_type": "markdown",
   "metadata": {
    "id": "_a4I7y_FsVI0"
   },
   "source": [
    "## Question 1d: Exploratory analyses"
   ]
  },
  {
   "cell_type": "markdown",
   "metadata": {
    "id": "IcA5tI8ftsFS"
   },
   "source": [
    "Produce a barplot of the average nightly price per neighbourhood as instructed in the Coursework proforma:"
   ]
  },
  {
   "cell_type": "code",
   "execution_count": 25,
   "metadata": {
    "id": "psZPbywKFV27"
   },
   "outputs": [
    {
     "data": {
      "image/png": "[encoded data removed]",
      "text/plain": [
       "<Figure size 648x1296 with 1 Axes>"
      ]
     },
     "metadata": {
      "needs_background": "light"
     },
     "output_type": "display_data"
    }
   ],
   "source": [
    "sns.set_context('paper')\n",
    "\n",
    "f, ax = plt.subplots(figsize = (9,18))\n",
    "sns.set_color_codes('pastel')\n",
    "sns.barplot(x = 'price', y = 'neighbourhood_cleansed', data = df,\n",
    "            label = 'neighbourhood_cleansed', color = 'b', edgecolor = 'w')\n",
    "plt.show()"
   ]
  },
  {
   "cell_type": "markdown",
   "metadata": {
    "id": "834GVr84yfAA"
   },
   "source": [
    "Plot a correlation matrix as instructed in the Coursework proforma:"
   ]
  },
  {
   "cell_type": "code",
   "execution_count": 26,
   "metadata": {
    "id": "fvS5_JdIFQbG"
   },
   "outputs": [
    {
     "data": {
      "image/png": "[encoded data removed]",
      "text/plain": [
       "<Figure size 432x288 with 2 Axes>"
      ]
     },
     "metadata": {
      "needs_background": "light"
     },
     "output_type": "display_data"
    }
   ],
   "source": [
    "ax = sns.heatmap(df[['review_scores_cleanliness', 'review_scores_checkin', 'review_scores_communication', 'review_scores_location', 'review_scores_value']].corr())"
   ]
  },
  {
   "cell_type": "markdown",
   "metadata": {
    "id": "834GVr84yfAA"
   },
   "source": [
    "Plot a geographical distribution as instructed in the Coursework proforma:"
   ]
  },
  {
   "cell_type": "code",
   "execution_count": 27,
   "metadata": {},
   "outputs": [],
   "source": [
    "mydata = df[df.price>150]\n",
    "\n",
    "mydata.price[mydata.price>6000] = 7500\n",
    "\n",
    "mydata.price[(mydata.price>4500) & (mydata.price<=6000)] = 6000\n",
    "\n",
    "mydata.price[(mydata.price>3000) & (mydata.price<=4500)] = 4500\n",
    "\n",
    "mydata.price[(mydata.price>1500) & (mydata.price<=3000)] = 3000\n",
    "\n",
    "mydata.price[mydata.price<=1500] = 1500\n",
    "\n",
    "from IPython.display import clear_output\n",
    "clear_output()"
   ]
  },
  {
   "cell_type": "code",
   "execution_count": 28,
   "metadata": {
    "id": "qbTja8fwFScc"
   },
   "outputs": [
    {
     "data": {
      "image/png": "[encoded data removed]",
      "text/plain": [
       "<Figure size 1080x720 with 1 Axes>"
      ]
     },
     "metadata": {},
     "output_type": "display_data"
    }
   ],
   "source": [
    "sns.set_theme(style=\"white\")\n",
    "\n",
    "f, ax = plt.subplots(figsize = (15,10))\n",
    "\n",
    "yo = sns.scatterplot(data=mydata, x=\"longitude\", y=\"latitude\", hue=\"price\", size=\"price\",\n",
    "    sizes=(5, 500), hue_norm=(0, 100), alpha=1, palette=\"muted\", legend = \"full\")\n",
    "\n",
    "plt.show()"
   ]
  },
  {
   "cell_type": "markdown",
   "metadata": {
    "id": "0dLbkYk6y9eF"
   },
   "source": [
    "---\n",
    "\n",
    "# Part 2: Statistical analysis and recommender system\n",
    "## CMT 309 Data Science Portfolio\n",
    "\n",
    "Instructions:\n",
    "\n",
    "- Answer the questions by filling in the appropriate sections. \n",
    "- Do not remove or rename section headings or any code that has been provided, unless instructed otherwise.\n",
    "- You can add as many additional cells with code as you like.\n",
    "- Sometimes you are asked to provide an answer or justification. To this end, double-click on the text cells and add your answer/explanation following the text \"YOUR ANSWER:\".\n",
    "\n",
    "Before submitting,\n",
    "\n",
    "- Ensure that the code is clean, readable, and well documented. \n",
    "- Restart the kernel (to wipe all variables) and then run the code from top to bottom to produce all intermediate outputs. "
   ]
  },
  {
   "cell_type": "markdown",
   "metadata": {
    "id": "jtpZraSiE00A"
   },
   "source": [
    "## Question 2a: Linear regression and t-tests\n"
   ]
  },
  {
   "cell_type": "code",
   "execution_count": 29,
   "metadata": {
    "id": "RDCTzGiooPDJ"
   },
   "outputs": [],
   "source": [
    "fit = sm.OLS.from_formula('review_scores_rating ~ review_scores_accuracy + review_scores_cleanliness + review_scores_checkin + review_scores_communication + review_scores_location + review_scores_value', df).fit()"
   ]
  },
  {
   "cell_type": "code",
   "execution_count": 30,
   "metadata": {},
   "outputs": [
    {
     "data": {
      "text/plain": [
       "7"
      ]
     },
     "execution_count": 30,
     "metadata": {},
     "output_type": "execute_result"
    }
   ],
   "source": [
    "len(dict(fit.pvalues))"
   ]
  },
  {
   "cell_type": "code",
   "execution_count": 31,
   "metadata": {},
   "outputs": [
    {
     "name": "stdout",
     "output_type": "stream",
     "text": [
      "                             OLS Regression Results                             \n",
      "================================================================================\n",
      "Dep. Variable:     review_scores_rating   R-squared:                       0.726\n",
      "Model:                              OLS   Adj. R-squared:                  0.726\n",
      "Method:                   Least Squares   F-statistic:                     7008.\n",
      "Date:                  Thu, 06 May 2021   Prob (F-statistic):               0.00\n",
      "Time:                          15:38:17   Log-Likelihood:                -42957.\n",
      "No. Observations:                 15880   AIC:                         8.593e+04\n",
      "Df Residuals:                     15873   BIC:                         8.598e+04\n",
      "Df Model:                             6                                         \n",
      "Covariance Type:              nonrobust                                         \n",
      "=================================================================================\n",
      "                    coef    std err          t      P>|t|      [0.025      0.975]\n",
      "---------------------------------------------------------------------------------\n",
      "Intercept        -0.3169      0.550     -0.577      0.564      -1.394       0.760\n",
      "accuracy          2.6153      0.056     46.889      0.000       2.506       2.725\n",
      "cleanliness       2.1438      0.041     52.279      0.000       2.063       2.224\n",
      "checkin           1.0232      0.060     16.913      0.000       0.905       1.142\n",
      "communication     1.8090      0.066     27.490      0.000       1.680       1.938\n",
      "location          0.3988      0.045      8.858      0.000       0.311       0.487\n",
      "value             1.9905      0.047     42.354      0.000       1.898       2.083\n",
      "==============================================================================\n",
      "Omnibus:                     4769.894   Durbin-Watson:                   1.991\n",
      "Prob(Omnibus):                  0.000   Jarque-Bera (JB):            90176.958\n",
      "Skew:                          -0.965   Prob(JB):                         0.00\n",
      "Kurtosis:                      14.514   Cond. No.                         450.\n",
      "==============================================================================\n",
      "\n",
      "Notes:\n",
      "[1] Standard Errors assume that the covariance matrix of the errors is correctly specified.\n"
     ]
    }
   ],
   "source": [
    "print(fit.summary(xname=['Intercept','accuracy', 'cleanliness', 'checkin', 'communication', 'location', 'value']))"
   ]
  },
  {
   "cell_type": "code",
   "execution_count": 32,
   "metadata": {},
   "outputs": [],
   "source": [
    "room_types = [room for room in dict(df.room_type.value_counts()).keys()]"
   ]
  },
  {
   "cell_type": "code",
   "execution_count": 33,
   "metadata": {
    "id": "1gk4SDcE26Qq"
   },
   "outputs": [],
   "source": [
    "def multiple_t_tests(alpha = 0.01, create_df = False, room_types = room_types):\n",
    "    alpha = 0.01\n",
    "    if create_df : p_value_list = []\n",
    "    for type1 in room_types:\n",
    "        if create_df : p_value = []\n",
    "        for type2 in room_types:\n",
    "            if type1 != type2:\n",
    "                print(f'\\n{type1} --- {type2}\\n\\n')\n",
    "                df_room_type_1 = df[df.room_type == type1]\n",
    "                df_room_type_2 = df[df.room_type == type2]\n",
    "                res = scipy.stats.ttest_ind(df_room_type_1.price, df_room_type_2.price)\n",
    "                if res.pvalue < alpha:\n",
    "                    if create_df : p_value.append(res.pvalue)\n",
    "                    print(f'P-value: {res.pvalue:.19f} < {alpha}')\n",
    "                    print(f'T-statistic: {res.statistic:.3f}')\n",
    "                    print(f'\\'{type1}\\' room type has greater prices than \\'{type2}\\' room type (at a significance level of alpha={alpha}).')\n",
    "                else:\n",
    "                    if create_df : p_value.append(res.pvalue)\n",
    "                    print(f'P-value: {res.pvalue:.19f} > {alpha}')\n",
    "                    print(f'T-statistic: {res.statistic:.3f}')\n",
    "                    print(f'\\'{type1}\\' room type does not have greater prices than \\'{type2}\\' room type (at a significance level of alpha={alpha}).')\n",
    "            else:\n",
    "                if create_df : p_value.append(None)\n",
    "        if create_df : p_value_list.append(tuple(p_value))\n",
    "    print(p_value_list)    \n",
    "    return p_value_list"
   ]
  },
  {
   "cell_type": "code",
   "execution_count": 34,
   "metadata": {},
   "outputs": [
    {
     "name": "stdout",
     "output_type": "stream",
     "text": [
      "\n",
      "Entire home/apt --- Private room\n",
      "\n",
      "\n",
      "P-value: 0.0000000000000000000 < 0.01\n",
      "T-statistic: 29.275\n",
      "'Entire home/apt' room type has greater prices than 'Private room' room type (at a significance level of alpha=0.01).\n",
      "\n",
      "Entire home/apt --- Hotel room\n",
      "\n",
      "\n",
      "P-value: 0.0029292208875053489 < 0.01\n",
      "T-statistic: 2.976\n",
      "'Entire home/apt' room type has greater prices than 'Hotel room' room type (at a significance level of alpha=0.01).\n",
      "\n",
      "Entire home/apt --- Shared room\n",
      "\n",
      "\n",
      "P-value: 0.0021768318613784249 < 0.01\n",
      "T-statistic: 3.066\n",
      "'Entire home/apt' room type has greater prices than 'Shared room' room type (at a significance level of alpha=0.01).\n",
      "\n",
      "Private room --- Entire home/apt\n",
      "\n",
      "\n",
      "P-value: 0.0000000000000000000 < 0.01\n",
      "T-statistic: -29.275\n",
      "'Private room' room type has greater prices than 'Entire home/apt' room type (at a significance level of alpha=0.01).\n",
      "\n",
      "Private room --- Hotel room\n",
      "\n",
      "\n",
      "P-value: 0.0000596655232293761 < 0.01\n",
      "T-statistic: -4.018\n",
      "'Private room' room type has greater prices than 'Hotel room' room type (at a significance level of alpha=0.01).\n",
      "\n",
      "Private room --- Shared room\n",
      "\n",
      "\n",
      "P-value: 0.4516928878964464600 > 0.01\n",
      "T-statistic: -0.753\n",
      "'Private room' room type does not have greater prices than 'Shared room' room type (at a significance level of alpha=0.01).\n",
      "\n",
      "Hotel room --- Entire home/apt\n",
      "\n",
      "\n",
      "P-value: 0.0029292208875053489 < 0.01\n",
      "T-statistic: -2.976\n",
      "'Hotel room' room type has greater prices than 'Entire home/apt' room type (at a significance level of alpha=0.01).\n",
      "\n",
      "Hotel room --- Private room\n",
      "\n",
      "\n",
      "P-value: 0.0000596655232293761 < 0.01\n",
      "T-statistic: 4.018\n",
      "'Hotel room' room type has greater prices than 'Private room' room type (at a significance level of alpha=0.01).\n",
      "\n",
      "Hotel room --- Shared room\n",
      "\n",
      "\n",
      "P-value: 0.3121192503013984210 > 0.01\n",
      "T-statistic: 1.013\n",
      "'Hotel room' room type does not have greater prices than 'Shared room' room type (at a significance level of alpha=0.01).\n",
      "\n",
      "Shared room --- Entire home/apt\n",
      "\n",
      "\n",
      "P-value: 0.0021768318613784249 < 0.01\n",
      "T-statistic: -3.066\n",
      "'Shared room' room type has greater prices than 'Entire home/apt' room type (at a significance level of alpha=0.01).\n",
      "\n",
      "Shared room --- Private room\n",
      "\n",
      "\n",
      "P-value: 0.4516928878964464600 > 0.01\n",
      "T-statistic: 0.753\n",
      "'Shared room' room type does not have greater prices than 'Private room' room type (at a significance level of alpha=0.01).\n",
      "\n",
      "Shared room --- Hotel room\n",
      "\n",
      "\n",
      "P-value: 0.3121192503013984210 > 0.01\n",
      "T-statistic: -1.013\n",
      "'Shared room' room type does not have greater prices than 'Hotel room' room type (at a significance level of alpha=0.01).\n",
      "[(None, 3.624982158693227e-184, 0.002929220887505349, 0.002176831861378425), (3.624982158693227e-184, None, 5.966552322937605e-05, 0.45169288789644646), (0.002929220887505349, 5.966552322937605e-05, None, 0.3121192503013984), (0.002176831861378425, 0.45169288789644646, 0.3121192503013984, None)]\n"
     ]
    },
    {
     "data": {
      "text/plain": [
       "[(None, 3.624982158693227e-184, 0.002929220887505349, 0.002176831861378425),\n",
       " (3.624982158693227e-184, None, 5.966552322937605e-05, 0.45169288789644646),\n",
       " (0.002929220887505349, 5.966552322937605e-05, None, 0.3121192503013984),\n",
       " (0.002176831861378425, 0.45169288789644646, 0.3121192503013984, None)]"
      ]
     },
     "execution_count": 34,
     "metadata": {},
     "output_type": "execute_result"
    }
   ],
   "source": [
    "multiple_t_tests(0.01, True)"
   ]
  },
  {
   "cell_type": "code",
   "execution_count": 35,
   "metadata": {},
   "outputs": [
    {
     "name": "stdout",
     "output_type": "stream",
     "text": [
      "\n",
      "Entire home/apt --- Private room\n",
      "\n",
      "\n",
      "P-value: 0.0000000000000000000 < 0.01\n",
      "T-statistic: 29.275\n",
      "'Entire home/apt' room type has greater prices than 'Private room' room type (at a significance level of alpha=0.01).\n",
      "\n",
      "Entire home/apt --- Hotel room\n",
      "\n",
      "\n",
      "P-value: 0.0029292208875053489 < 0.01\n",
      "T-statistic: 2.976\n",
      "'Entire home/apt' room type has greater prices than 'Hotel room' room type (at a significance level of alpha=0.01).\n",
      "\n",
      "Entire home/apt --- Shared room\n",
      "\n",
      "\n",
      "P-value: 0.0021768318613784249 < 0.01\n",
      "T-statistic: 3.066\n",
      "'Entire home/apt' room type has greater prices than 'Shared room' room type (at a significance level of alpha=0.01).\n",
      "\n",
      "Private room --- Entire home/apt\n",
      "\n",
      "\n",
      "P-value: 0.0000000000000000000 < 0.01\n",
      "T-statistic: -29.275\n",
      "'Private room' room type has greater prices than 'Entire home/apt' room type (at a significance level of alpha=0.01).\n",
      "\n",
      "Private room --- Hotel room\n",
      "\n",
      "\n",
      "P-value: 0.0000596655232293761 < 0.01\n",
      "T-statistic: -4.018\n",
      "'Private room' room type has greater prices than 'Hotel room' room type (at a significance level of alpha=0.01).\n",
      "\n",
      "Private room --- Shared room\n",
      "\n",
      "\n",
      "P-value: 0.4516928878964464600 > 0.01\n",
      "T-statistic: -0.753\n",
      "'Private room' room type does not have greater prices than 'Shared room' room type (at a significance level of alpha=0.01).\n",
      "\n",
      "Hotel room --- Entire home/apt\n",
      "\n",
      "\n",
      "P-value: 0.0029292208875053489 < 0.01\n",
      "T-statistic: -2.976\n",
      "'Hotel room' room type has greater prices than 'Entire home/apt' room type (at a significance level of alpha=0.01).\n",
      "\n",
      "Hotel room --- Private room\n",
      "\n",
      "\n",
      "P-value: 0.0000596655232293761 < 0.01\n",
      "T-statistic: 4.018\n",
      "'Hotel room' room type has greater prices than 'Private room' room type (at a significance level of alpha=0.01).\n",
      "\n",
      "Hotel room --- Shared room\n",
      "\n",
      "\n",
      "P-value: 0.3121192503013984210 > 0.01\n",
      "T-statistic: 1.013\n",
      "'Hotel room' room type does not have greater prices than 'Shared room' room type (at a significance level of alpha=0.01).\n",
      "\n",
      "Shared room --- Entire home/apt\n",
      "\n",
      "\n",
      "P-value: 0.0021768318613784249 < 0.01\n",
      "T-statistic: -3.066\n",
      "'Shared room' room type has greater prices than 'Entire home/apt' room type (at a significance level of alpha=0.01).\n",
      "\n",
      "Shared room --- Private room\n",
      "\n",
      "\n",
      "P-value: 0.4516928878964464600 > 0.01\n",
      "T-statistic: 0.753\n",
      "'Shared room' room type does not have greater prices than 'Private room' room type (at a significance level of alpha=0.01).\n",
      "\n",
      "Shared room --- Hotel room\n",
      "\n",
      "\n",
      "P-value: 0.3121192503013984210 > 0.01\n",
      "T-statistic: -1.013\n",
      "'Shared room' room type does not have greater prices than 'Hotel room' room type (at a significance level of alpha=0.01).\n",
      "[(None, 3.624982158693227e-184, 0.002929220887505349, 0.002176831861378425), (3.624982158693227e-184, None, 5.966552322937605e-05, 0.45169288789644646), (0.002929220887505349, 5.966552322937605e-05, None, 0.3121192503013984), (0.002176831861378425, 0.45169288789644646, 0.3121192503013984, None)]\n"
     ]
    }
   ],
   "source": [
    "p_value_list = multiple_t_tests(0.01/12,True,room_types)"
   ]
  },
  {
   "cell_type": "code",
   "execution_count": 36,
   "metadata": {},
   "outputs": [
    {
     "data": {
      "text/html": [
       "<div>\n",
       "<style scoped>\n",
       "    .dataframe tbody tr th:only-of-type {\n",
       "        vertical-align: middle;\n",
       "    }\n",
       "\n",
       "    .dataframe tbody tr th {\n",
       "        vertical-align: top;\n",
       "    }\n",
       "\n",
       "    .dataframe thead th {\n",
       "        text-align: right;\n",
       "    }\n",
       "</style>\n",
       "<table border=\"1\" class=\"dataframe\">\n",
       "  <thead>\n",
       "    <tr style=\"text-align: right;\">\n",
       "      <th></th>\n",
       "      <th>Entire home/apt</th>\n",
       "      <th>Private room</th>\n",
       "      <th>Hotel room</th>\n",
       "      <th>Shared room</th>\n",
       "    </tr>\n",
       "  </thead>\n",
       "  <tbody>\n",
       "    <tr>\n",
       "      <th>Entire home/apt</th>\n",
       "      <td>NaN</td>\n",
       "      <td>3.624982e-184</td>\n",
       "      <td>0.002929</td>\n",
       "      <td>0.002177</td>\n",
       "    </tr>\n",
       "    <tr>\n",
       "      <th>Private room</th>\n",
       "      <td>3.624982e-184</td>\n",
       "      <td>NaN</td>\n",
       "      <td>0.000060</td>\n",
       "      <td>0.451693</td>\n",
       "    </tr>\n",
       "    <tr>\n",
       "      <th>Hotel room</th>\n",
       "      <td>2.929221e-03</td>\n",
       "      <td>5.966552e-05</td>\n",
       "      <td>NaN</td>\n",
       "      <td>0.312119</td>\n",
       "    </tr>\n",
       "    <tr>\n",
       "      <th>Shared room</th>\n",
       "      <td>2.176832e-03</td>\n",
       "      <td>4.516929e-01</td>\n",
       "      <td>0.312119</td>\n",
       "      <td>NaN</td>\n",
       "    </tr>\n",
       "  </tbody>\n",
       "</table>\n",
       "</div>"
      ],
      "text/plain": [
       "                 Entire home/apt   Private room  Hotel room  Shared room\n",
       "Entire home/apt              NaN  3.624982e-184    0.002929     0.002177\n",
       "Private room       3.624982e-184            NaN    0.000060     0.451693\n",
       "Hotel room          2.929221e-03   5.966552e-05         NaN     0.312119\n",
       "Shared room         2.176832e-03   4.516929e-01    0.312119          NaN"
      ]
     },
     "execution_count": 36,
     "metadata": {},
     "output_type": "execute_result"
    }
   ],
   "source": [
    "df_p_value = pd.DataFrame(p_value_list, columns = room_types, index=room_types)\n",
    "df_p_value"
   ]
  },
  {
   "cell_type": "markdown",
   "metadata": {
    "id": "i9Lalo7srWMr"
   },
   "source": [
    "**T-test questions**:\n",
    "\n",
    "Which room types are significantly different in terms of nightly price?\n",
    "\n",
    "YOUR ANSWER (1-2 sentences): ...[double click to edit]...\n",
    "\n",
    "Do the significances change if you perform Bonferroni correction to the alpha level: https://en.wikipedia.org/wiki/Bonferroni_correction ?\n",
    "\n",
    "YOUR ANSWER (1-2 sentences): ...\n"
   ]
  },
  {
   "cell_type": "markdown",
   "metadata": {
    "id": "t8mwnrOhboSC"
   },
   "source": [
    "## Question 2b: Linear regression with variable selection"
   ]
  },
  {
   "cell_type": "markdown",
   "metadata": {
    "id": "Z5aMn9YWrNnI"
   },
   "source": [
    "Provide a short justification (2-3 sentences) for your choice of variables.\n",
    "\n",
    "YOUR ANSWER: ..."
   ]
  },
  {
   "cell_type": "code",
   "execution_count": 37,
   "metadata": {},
   "outputs": [
    {
     "data": {
      "text/html": [
       "<div>\n",
       "<style scoped>\n",
       "    .dataframe tbody tr th:only-of-type {\n",
       "        vertical-align: middle;\n",
       "    }\n",
       "\n",
       "    .dataframe tbody tr th {\n",
       "        vertical-align: top;\n",
       "    }\n",
       "\n",
       "    .dataframe thead th {\n",
       "        text-align: right;\n",
       "    }\n",
       "</style>\n",
       "<table border=\"1\" class=\"dataframe\">\n",
       "  <thead>\n",
       "    <tr style=\"text-align: right;\">\n",
       "      <th></th>\n",
       "      <th>Entire home/apt</th>\n",
       "      <th>Hotel room</th>\n",
       "      <th>Private room</th>\n",
       "      <th>Shared room</th>\n",
       "    </tr>\n",
       "  </thead>\n",
       "  <tbody>\n",
       "    <tr>\n",
       "      <th>0</th>\n",
       "      <td>0</td>\n",
       "      <td>0</td>\n",
       "      <td>1</td>\n",
       "      <td>0</td>\n",
       "    </tr>\n",
       "    <tr>\n",
       "      <th>1</th>\n",
       "      <td>0</td>\n",
       "      <td>0</td>\n",
       "      <td>1</td>\n",
       "      <td>0</td>\n",
       "    </tr>\n",
       "    <tr>\n",
       "      <th>2</th>\n",
       "      <td>1</td>\n",
       "      <td>0</td>\n",
       "      <td>0</td>\n",
       "      <td>0</td>\n",
       "    </tr>\n",
       "    <tr>\n",
       "      <th>3</th>\n",
       "      <td>0</td>\n",
       "      <td>0</td>\n",
       "      <td>1</td>\n",
       "      <td>0</td>\n",
       "    </tr>\n",
       "    <tr>\n",
       "      <th>4</th>\n",
       "      <td>0</td>\n",
       "      <td>0</td>\n",
       "      <td>1</td>\n",
       "      <td>0</td>\n",
       "    </tr>\n",
       "    <tr>\n",
       "      <th>...</th>\n",
       "      <td>...</td>\n",
       "      <td>...</td>\n",
       "      <td>...</td>\n",
       "      <td>...</td>\n",
       "    </tr>\n",
       "    <tr>\n",
       "      <th>18517</th>\n",
       "      <td>1</td>\n",
       "      <td>0</td>\n",
       "      <td>0</td>\n",
       "      <td>0</td>\n",
       "    </tr>\n",
       "    <tr>\n",
       "      <th>18518</th>\n",
       "      <td>1</td>\n",
       "      <td>0</td>\n",
       "      <td>0</td>\n",
       "      <td>0</td>\n",
       "    </tr>\n",
       "    <tr>\n",
       "      <th>18519</th>\n",
       "      <td>1</td>\n",
       "      <td>0</td>\n",
       "      <td>0</td>\n",
       "      <td>0</td>\n",
       "    </tr>\n",
       "    <tr>\n",
       "      <th>18520</th>\n",
       "      <td>0</td>\n",
       "      <td>0</td>\n",
       "      <td>1</td>\n",
       "      <td>0</td>\n",
       "    </tr>\n",
       "    <tr>\n",
       "      <th>18521</th>\n",
       "      <td>0</td>\n",
       "      <td>0</td>\n",
       "      <td>1</td>\n",
       "      <td>0</td>\n",
       "    </tr>\n",
       "  </tbody>\n",
       "</table>\n",
       "<p>18522 rows × 4 columns</p>\n",
       "</div>"
      ],
      "text/plain": [
       "       Entire home/apt  Hotel room  Private room  Shared room\n",
       "0                    0           0             1            0\n",
       "1                    0           0             1            0\n",
       "2                    1           0             0            0\n",
       "3                    0           0             1            0\n",
       "4                    0           0             1            0\n",
       "...                ...         ...           ...          ...\n",
       "18517                1           0             0            0\n",
       "18518                1           0             0            0\n",
       "18519                1           0             0            0\n",
       "18520                0           0             1            0\n",
       "18521                0           0             1            0\n",
       "\n",
       "[18522 rows x 4 columns]"
      ]
     },
     "execution_count": 37,
     "metadata": {},
     "output_type": "execute_result"
    }
   ],
   "source": [
    "pd.get_dummies(df['room_type'])"
   ]
  },
  {
   "cell_type": "code",
   "execution_count": 53,
   "metadata": {
    "id": "FWj8vwcLFIUL"
   },
   "outputs": [],
   "source": [
    "def variable_selection(df = df, predictors = ['host_listings_count', 'latitude', 'longitude', 'accommodates', 'bedrooms', 'beds',\n",
    "       'minimum_nights', 'maximum_nights', 'availability_30',\n",
    "       'availability_60', 'availability_90', 'availability_365',\n",
    "       'number_of_reviews', 'number_of_reviews_ltm', 'review_scores_rating', 'review_scores_accuracy',\n",
    "       'review_scores_cleanliness', 'review_scores_checkin',\n",
    "       'review_scores_communication', 'review_scores_location',\n",
    "       'review_scores_value', 'reviews_per_month'], target = 'price', alpha = 0.05):\n",
    "    pred = [predictors[0]]\n",
    "    formula = f'{target} ~ room_type'\n",
    "    print(formula)\n",
    "    fit = sm.OLS.from_formula(formula, df).fit()\n",
    "    r2 = fit.rsquared\n",
    "    print(r2)\n",
    "    for x in predictors:\n",
    "        formula += f' + {x}'\n",
    "        print(formula)\n",
    "        fit = sm.OLS.from_formula(formula, df).fit()\n",
    "        print(fit.rsquared)\n",
    "        if r2 > fit.rsquared: \n",
    "            formula = formula.replace(f' + {x}','')\n",
    "        else:\n",
    "            pred.append(x)\n",
    "            r2 = fit.rsquared\n",
    "        print(r2)\n",
    "    \n",
    "    low_p_values = bool(1)\n",
    "\n",
    "    while low_p_values:\n",
    "        fit = sm.OLS.from_formula(formula, df).fit()\n",
    "        print(fit.summary())\n",
    "        print(f'\\n{[x for x in dict(fit.pvalues).values()]}\\n')\n",
    "        p_values_dict = dict(fit.pvalues)\n",
    "        p_values_dict.pop('Intercept', None)\n",
    "        count = 0\n",
    "        max_p_value = 0\n",
    "        max_p_value_name = ''\n",
    "        for k, v in p_values_dict.items():\n",
    "            if v > alpha and 'room_type' != k[:9]: \n",
    "                if v > max_p_value: \n",
    "                    max_p_value = v\n",
    "                    max_p_value_name = k\n",
    "#                 formula = formula.replace(f'{k} + ','')\n",
    "#                 print(f'Remove {k}')\n",
    "#                 break\n",
    "            else:\n",
    "                count += 1\n",
    "#         print('room_type' != max_p_value_name[:9])\n",
    "#         print(max_p_value_name[:9])\n",
    "        if max_p_value != 0:\n",
    "            formula = formula.replace(f'{max_p_value_name} + ','')\n",
    "            print(f'Remove {max_p_value_name}')\n",
    "        if count == len(p_values_dict) : low_p_values = bool(0)\n",
    "    return pred"
   ]
  },
  {
   "cell_type": "code",
   "execution_count": 54,
   "metadata": {
    "scrolled": false,
    "tags": []
   },
   "outputs": [
    {
     "name": "stdout",
     "output_type": "stream",
     "text": [
      "price ~ room_type\n",
      "0.044582256702677125\n",
      "price ~ room_type + host_listings_count\n",
      "0.046502972640461326\n",
      "0.046502972640461326\n",
      "price ~ room_type + host_listings_count + latitude\n",
      "0.04652956637190486\n",
      "0.04652956637190486\n",
      "price ~ room_type + host_listings_count + latitude + longitude\n",
      "0.04695733041276284\n",
      "0.04695733041276284\n",
      "price ~ room_type + host_listings_count + latitude + longitude + accommodates\n",
      "0.13146749336876706\n",
      "0.13146749336876706\n",
      "price ~ room_type + host_listings_count + latitude + longitude + accommodates + bedrooms\n",
      "0.13173481874408\n",
      "0.13173481874408\n",
      "price ~ room_type + host_listings_count + latitude + longitude + accommodates + bedrooms + beds\n",
      "0.13138990500218728\n",
      "0.13173481874408\n",
      "price ~ room_type + host_listings_count + latitude + longitude + accommodates + bedrooms + minimum_nights\n",
      "0.13392065833281042\n",
      "0.13392065833281042\n",
      "price ~ room_type + host_listings_count + latitude + longitude + accommodates + bedrooms + minimum_nights + maximum_nights\n",
      "0.1340201856095652\n",
      "0.1340201856095652\n",
      "price ~ room_type + host_listings_count + latitude + longitude + accommodates + bedrooms + minimum_nights + maximum_nights + availability_30\n",
      "0.14164835925991714\n",
      "0.14164835925991714\n",
      "price ~ room_type + host_listings_count + latitude + longitude + accommodates + bedrooms + minimum_nights + maximum_nights + availability_30 + availability_60\n",
      "0.14176410735707867\n",
      "0.14176410735707867\n",
      "price ~ room_type + host_listings_count + latitude + longitude + accommodates + bedrooms + minimum_nights + maximum_nights + availability_30 + availability_60 + availability_90\n",
      "0.14201759108530776\n",
      "0.14201759108530776\n",
      "price ~ room_type + host_listings_count + latitude + longitude + accommodates + bedrooms + minimum_nights + maximum_nights + availability_30 + availability_60 + availability_90 + availability_365\n",
      "0.14318126106679374\n",
      "0.14318126106679374\n",
      "price ~ room_type + host_listings_count + latitude + longitude + accommodates + bedrooms + minimum_nights + maximum_nights + availability_30 + availability_60 + availability_90 + availability_365 + number_of_reviews\n",
      "0.14479711454083233\n",
      "0.14479711454083233\n",
      "price ~ room_type + host_listings_count + latitude + longitude + accommodates + bedrooms + minimum_nights + maximum_nights + availability_30 + availability_60 + availability_90 + availability_365 + number_of_reviews + number_of_reviews_ltm\n",
      "0.14611393956181373\n",
      "0.14611393956181373\n",
      "                            OLS Regression Results                            \n",
      "==============================================================================\n",
      "Dep. Variable:                  price   R-squared:                       0.146\n",
      "Model:                            OLS   Adj. R-squared:                  0.145\n",
      "Method:                 Least Squares   F-statistic:                     186.5\n",
      "Date:                Thu, 06 May 2021   Prob (F-statistic):               0.00\n",
      "Time:                        15:57:09   Log-Likelihood:            -1.1113e+05\n",
      "No. Observations:               17456   AIC:                         2.223e+05\n",
      "Df Residuals:                   17439   BIC:                         2.224e+05\n",
      "Df Model:                          16                                         \n",
      "Covariance Type:            nonrobust                                         \n",
      "=============================================================================================\n",
      "                                coef    std err          t      P>|t|      [0.025      0.975]\n",
      "---------------------------------------------------------------------------------------------\n",
      "Intercept                  8794.8615   3435.422      2.560      0.010    2061.091    1.55e+04\n",
      "room_type[T.Hotel room]     -12.9437     13.376     -0.968      0.333     -39.162      13.274\n",
      "room_type[T.Private room]   -53.3761      2.901    -18.402      0.000     -59.062     -47.691\n",
      "room_type[T.Shared room]    -47.6104     19.632     -2.425      0.015     -86.091      -9.129\n",
      "host_listings_count           0.4137      0.074      5.555      0.000       0.268       0.560\n",
      "latitude                   -162.3740     65.156     -2.492      0.013    -290.086     -34.662\n",
      "longitude                   -46.9806     30.163     -1.558      0.119    -106.102      12.141\n",
      "accommodates                 28.0243      1.175     23.843      0.000      25.720      30.328\n",
      "bedrooms                     11.8131      1.589      7.434      0.000       8.698      14.928\n",
      "minimum_nights                0.4051      0.074      5.487      0.000       0.260       0.550\n",
      "maximum_nights               -0.0025      0.002     -1.276      0.202      -0.006       0.001\n",
      "availability_30               1.3164      0.531      2.481      0.013       0.276       2.356\n",
      "availability_60              -0.4781      0.643     -0.743      0.458      -1.739       0.783\n",
      "availability_90               0.1268      0.316      0.401      0.689      -0.493       0.747\n",
      "availability_365              0.0930      0.017      5.363      0.000       0.059       0.127\n",
      "number_of_reviews            -0.0543      0.025     -2.176      0.030      -0.103      -0.005\n",
      "number_of_reviews_ltm        -0.8154      0.157     -5.186      0.000      -1.124      -0.507\n",
      "==============================================================================\n",
      "Omnibus:                    43422.769   Durbin-Watson:                   1.967\n",
      "Prob(Omnibus):                  0.000   Jarque-Bera (JB):       1153391563.514\n",
      "Skew:                          26.750   Prob(JB):                         0.00\n",
      "Kurtosis:                    1261.141   Cond. No.                     2.65e+06\n",
      "==============================================================================\n",
      "\n",
      "Notes:\n",
      "[1] Standard Errors assume that the covariance matrix of the errors is correctly specified.\n",
      "[2] The condition number is large, 2.65e+06. This might indicate that there are\n",
      "strong multicollinearity or other numerical problems.\n",
      "\n",
      "[0.010473976114700127, 0.33320745437192567, 6.507636161478916e-75, 0.015313338999201197, 2.812655666364846e-08, 0.012708943479228456, 0.11935205205970541, 1.1350099361533082e-123, 1.1043492976160352e-13, 4.140857302927553e-08, 0.20194836133446153, 0.01311170096156711, 0.4575000018264159, 0.6885234761694854, 8.294007674384468e-08, 0.02955029117502762, 2.1736734205998329e-07]\n",
      "\n",
      "Remove availability_90\n",
      "                            OLS Regression Results                            \n",
      "==============================================================================\n",
      "Dep. Variable:                  price   R-squared:                       0.146\n",
      "Model:                            OLS   Adj. R-squared:                  0.145\n",
      "Method:                 Least Squares   F-statistic:                     198.9\n",
      "Date:                Thu, 06 May 2021   Prob (F-statistic):               0.00\n",
      "Time:                        15:57:09   Log-Likelihood:            -1.1113e+05\n",
      "No. Observations:               17456   AIC:                         2.223e+05\n",
      "Df Residuals:                   17440   BIC:                         2.224e+05\n",
      "Df Model:                          15                                         \n",
      "Covariance Type:            nonrobust                                         \n",
      "=============================================================================================\n",
      "                                coef    std err          t      P>|t|      [0.025      0.975]\n",
      "---------------------------------------------------------------------------------------------\n",
      "Intercept                  8792.6564   3435.335      2.559      0.010    2059.057    1.55e+04\n",
      "room_type[T.Hotel room]     -13.0814     13.371     -0.978      0.328     -39.290      13.127\n",
      "room_type[T.Private room]   -53.3552      2.900    -18.398      0.000     -59.040     -47.671\n",
      "room_type[T.Shared room]    -47.7356     19.629     -2.432      0.015     -86.211      -9.260\n",
      "host_listings_count           0.4132      0.074      5.549      0.000       0.267       0.559\n",
      "latitude                   -162.3286     65.154     -2.491      0.013    -290.038     -34.620\n",
      "longitude                   -47.0087     30.162     -1.559      0.119    -106.129      12.112\n",
      "accommodates                 28.0214      1.175     23.841      0.000      25.718      30.325\n",
      "bedrooms                     11.8265      1.589      7.444      0.000       8.712      14.941\n",
      "minimum_nights                0.4051      0.074      5.487      0.000       0.260       0.550\n",
      "maximum_nights               -0.0025      0.002     -1.283      0.199      -0.006       0.001\n",
      "availability_30               1.1894      0.426      2.794      0.005       0.355       2.024\n",
      "availability_60              -0.2363      0.224     -1.053      0.292      -0.676       0.203\n",
      "availability_365              0.0954      0.016      5.832      0.000       0.063       0.127\n",
      "number_of_reviews            -0.0542      0.025     -2.171      0.030      -0.103      -0.005\n",
      "number_of_reviews_ltm        -0.8168      0.157     -5.196      0.000      -1.125      -0.509\n",
      "==============================================================================\n",
      "Omnibus:                    43421.887   Durbin-Watson:                   1.967\n",
      "Prob(Omnibus):                  0.000   Jarque-Bera (JB):       1153224120.914\n",
      "Skew:                          26.749   Prob(JB):                         0.00\n",
      "Kurtosis:                    1261.050   Cond. No.                     2.65e+06\n",
      "==============================================================================\n",
      "\n",
      "Notes:\n",
      "[1] Standard Errors assume that the covariance matrix of the errors is correctly specified.\n",
      "[2] The condition number is large, 2.65e+06. This might indicate that there are\n",
      "strong multicollinearity or other numerical problems.\n",
      "\n",
      "[0.010491371962319513, 0.32792098370667744, 6.969263899809769e-75, 0.015031450554884935, 2.9101941794003966e-08, 0.01273159005249794, 0.11912162386491186, 1.1733984049167456e-123, 1.0223914699131001e-13, 4.136470616147252e-08, 0.19937952841635304, 0.005208398952185677, 0.2922234724516369, 5.578178087651964e-09, 0.02990972363262077, 2.061356473427044e-07]\n",
      "\n",
      "Remove availability_60\n"
     ]
    },
    {
     "name": "stdout",
     "output_type": "stream",
     "text": [
      "                            OLS Regression Results                            \n",
      "==============================================================================\n",
      "Dep. Variable:                  price   R-squared:                       0.146\n",
      "Model:                            OLS   Adj. R-squared:                  0.145\n",
      "Method:                 Least Squares   F-statistic:                     213.1\n",
      "Date:                Thu, 06 May 2021   Prob (F-statistic):               0.00\n",
      "Time:                        15:57:09   Log-Likelihood:            -1.1113e+05\n",
      "No. Observations:               17456   AIC:                         2.223e+05\n",
      "Df Residuals:                   17441   BIC:                         2.224e+05\n",
      "Df Model:                          14                                         \n",
      "Covariance Type:            nonrobust                                         \n",
      "=============================================================================================\n",
      "                                coef    std err          t      P>|t|      [0.025      0.975]\n",
      "---------------------------------------------------------------------------------------------\n",
      "Intercept                  8718.5906   3434.626      2.538      0.011    1986.380    1.55e+04\n",
      "room_type[T.Hotel room]     -12.7749     13.368     -0.956      0.339     -38.977      13.428\n",
      "room_type[T.Private room]   -53.3679      2.900    -18.402      0.000     -59.052     -47.684\n",
      "room_type[T.Shared room]    -47.6321     19.629     -2.427      0.015     -86.107      -9.157\n",
      "host_listings_count           0.4140      0.074      5.561      0.000       0.268       0.560\n",
      "latitude                   -160.9408     65.141     -2.471      0.013    -288.624     -33.257\n",
      "longitude                   -46.7557     30.161     -1.550      0.121    -105.874      12.363\n",
      "accommodates                 28.0541      1.175     23.878      0.000      25.751      30.357\n",
      "bedrooms                     11.8089      1.589      7.433      0.000       8.695      14.923\n",
      "minimum_nights                0.4055      0.074      5.494      0.000       0.261       0.550\n",
      "maximum_nights               -0.0025      0.002     -1.260      0.208      -0.006       0.001\n",
      "availability_30               0.7735      0.159      4.869      0.000       0.462       1.085\n",
      "availability_365              0.0876      0.015      6.007      0.000       0.059       0.116\n",
      "number_of_reviews            -0.0535      0.025     -2.145      0.032      -0.102      -0.005\n",
      "number_of_reviews_ltm        -0.8203      0.157     -5.219      0.000      -1.128      -0.512\n",
      "==============================================================================\n",
      "Omnibus:                    43423.407   Durbin-Watson:                   1.968\n",
      "Prob(Omnibus):                  0.000   Jarque-Bera (JB):       1153596809.503\n",
      "Skew:                          26.751   Prob(JB):                         0.00\n",
      "Kurtosis:                    1261.253   Cond. No.                     2.65e+06\n",
      "==============================================================================\n",
      "\n",
      "Notes:\n",
      "[1] Standard Errors assume that the covariance matrix of the errors is correctly specified.\n",
      "[2] The condition number is large, 2.65e+06. This might indicate that there are\n",
      "strong multicollinearity or other numerical problems.\n",
      "\n",
      "[0.011143419433579053, 0.3392668551771223, 6.424090566090712e-75, 0.015250619018783945, 2.7146469828249013e-08, 0.013496462628827942, 0.12111043171296595, 5.090715189802642e-124, 1.1082787963474998e-13, 3.987794527568221e-08, 0.20751365353081286, 1.1299281927444852e-06, 1.9235271509485824e-09, 0.03199054737455487, 1.8177861719333423e-07]\n",
      "\n",
      "Remove maximum_nights\n",
      "                            OLS Regression Results                            \n",
      "==============================================================================\n",
      "Dep. Variable:                  price   R-squared:                       0.146\n",
      "Model:                            OLS   Adj. R-squared:                  0.145\n",
      "Method:                 Least Squares   F-statistic:                     229.3\n",
      "Date:                Thu, 06 May 2021   Prob (F-statistic):               0.00\n",
      "Time:                        15:57:10   Log-Likelihood:            -1.1113e+05\n",
      "No. Observations:               17456   AIC:                         2.223e+05\n",
      "Df Residuals:                   17442   BIC:                         2.224e+05\n",
      "Df Model:                          13                                         \n",
      "Covariance Type:            nonrobust                                         \n",
      "=============================================================================================\n",
      "                                coef    std err          t      P>|t|      [0.025      0.975]\n",
      "---------------------------------------------------------------------------------------------\n",
      "Intercept                  8706.0058   3434.669      2.535      0.011    1973.710    1.54e+04\n",
      "room_type[T.Hotel room]     -13.4678     13.357     -1.008      0.313     -39.649      12.713\n",
      "room_type[T.Private room]   -53.3886      2.900    -18.410      0.000     -59.073     -47.704\n",
      "room_type[T.Shared room]    -47.3774     19.628     -2.414      0.016     -85.851      -8.904\n",
      "host_listings_count           0.4171      0.074      5.605      0.000       0.271       0.563\n",
      "latitude                   -160.7736     65.142     -2.468      0.014    -288.459     -33.088\n",
      "longitude                   -46.2961     30.159     -1.535      0.125    -105.411      12.819\n",
      "accommodates                 28.0352      1.175     23.863      0.000      25.732      30.338\n",
      "bedrooms                     11.8698      1.588      7.475      0.000       8.757      14.982\n",
      "minimum_nights                0.4061      0.074      5.501      0.000       0.261       0.551\n",
      "availability_30               0.7779      0.159      4.898      0.000       0.467       1.089\n",
      "availability_365              0.0873      0.015      5.990      0.000       0.059       0.116\n",
      "number_of_reviews            -0.0519      0.025     -2.085      0.037      -0.101      -0.003\n",
      "number_of_reviews_ltm        -0.8274      0.157     -5.268      0.000      -1.135      -0.520\n",
      "==============================================================================\n",
      "Omnibus:                    43423.127   Durbin-Watson:                   1.967\n",
      "Prob(Omnibus):                  0.000   Jarque-Bera (JB):       1153468760.174\n",
      "Skew:                          26.751   Prob(JB):                         0.00\n",
      "Kurtosis:                    1261.183   Cond. No.                     4.19e+05\n",
      "==============================================================================\n",
      "\n",
      "Notes:\n",
      "[1] Standard Errors assume that the covariance matrix of the errors is correctly specified.\n",
      "[2] The condition number is large, 4.19e+05. This might indicate that there are\n",
      "strong multicollinearity or other numerical problems.\n",
      "\n",
      "[0.011261634586945537, 0.313320154571008, 5.649283165381602e-75, 0.015800702900551234, 2.1093691396440193e-08, 0.013594946321932408, 0.12478910165741271, 7.1304229444084055e-124, 8.089387711615006e-14, 3.8325428963259736e-08, 9.767689674515178e-07, 2.145373518356448e-09, 0.03711982459498401, 1.397551262333433e-07]\n",
      "\n",
      "Remove longitude\n",
      "                            OLS Regression Results                            \n",
      "==============================================================================\n",
      "Dep. Variable:                  price   R-squared:                       0.146\n",
      "Model:                            OLS   Adj. R-squared:                  0.145\n",
      "Method:                 Least Squares   F-statistic:                     248.2\n",
      "Date:                Thu, 06 May 2021   Prob (F-statistic):               0.00\n",
      "Time:                        15:57:10   Log-Likelihood:            -1.1114e+05\n",
      "No. Observations:               17456   AIC:                         2.223e+05\n",
      "Df Residuals:                   17443   BIC:                         2.224e+05\n",
      "Df Model:                          12                                         \n",
      "Covariance Type:            nonrobust                                         \n",
      "=============================================================================================\n",
      "                                coef    std err          t      P>|t|      [0.025      0.975]\n",
      "---------------------------------------------------------------------------------------------\n",
      "Intercept                  7751.7996   3378.082      2.295      0.022    1130.421    1.44e+04\n",
      "room_type[T.Hotel room]     -13.8206     13.355     -1.035      0.301     -39.998      12.357\n",
      "room_type[T.Private room]   -53.6547      2.895    -18.534      0.000     -59.329     -47.980\n",
      "room_type[T.Shared room]    -47.8550     19.627     -2.438      0.015     -86.325      -9.385\n",
      "host_listings_count           0.4172      0.074      5.606      0.000       0.271       0.563\n",
      "latitude                   -146.8653     64.511     -2.277      0.023    -273.314     -20.416\n",
      "accommodates                 27.9671      1.174     23.821      0.000      25.666      30.268\n",
      "bedrooms                     11.7383      1.586      7.403      0.000       8.630      14.846\n",
      "minimum_nights                0.4057      0.074      5.496      0.000       0.261       0.550\n",
      "availability_30               0.7811      0.159      4.919      0.000       0.470       1.092\n",
      "availability_365              0.0868      0.015      5.955      0.000       0.058       0.115\n",
      "number_of_reviews            -0.0517      0.025     -2.075      0.038      -0.101      -0.003\n",
      "number_of_reviews_ltm        -0.8279      0.157     -5.271      0.000      -1.136      -0.520\n",
      "==============================================================================\n",
      "Omnibus:                    43418.626   Durbin-Watson:                   1.967\n",
      "Prob(Omnibus):                  0.000   Jarque-Bera (JB):       1152586614.244\n",
      "Skew:                          26.744   Prob(JB):                         0.00\n",
      "Kurtosis:                    1260.702   Cond. No.                     4.12e+05\n",
      "==============================================================================\n",
      "\n",
      "Notes:\n",
      "[1] Standard Errors assume that the covariance matrix of the errors is correctly specified.\n",
      "[2] The condition number is large, 4.12e+05. This might indicate that there are\n",
      "strong multicollinearity or other numerical problems.\n",
      "\n",
      "[0.021760201416569935, 0.30076206083553186, 5.913473172920165e-76, 0.014767768096530664, 2.0993860998199712e-08, 0.02282364080839813, 1.878570722796511e-123, 1.3956519758631248e-13, 3.945411164230436e-08, 8.799096023794639e-07, 2.6582330097043063e-09, 0.03795658626763382, 1.3734668436341778e-07]\n",
      "\n"
     ]
    }
   ],
   "source": [
    "predictors = variable_selection(df,['host_listings_count', 'latitude', 'longitude', 'accommodates', 'bedrooms', 'beds',\n",
    "       'minimum_nights', 'maximum_nights', 'availability_30',\n",
    "       'availability_60', 'availability_90', 'availability_365',\n",
    "       'number_of_reviews', 'number_of_reviews_ltm', \n",
    "    #    'review_scores_rating', 'review_scores_accuracy',\n",
    "    #    'review_scores_cleanliness', 'review_scores_checkin',\n",
    "    #    'review_scores_communication', 'review_scores_location',\n",
    "    #    'review_scores_value', 'reviews_per_month'\n",
    "       ],'price',0.05)"
   ]
  },
  {
   "cell_type": "code",
   "execution_count": 55,
   "metadata": {},
   "outputs": [
    {
     "data": {
      "text/plain": [
       "['host_listings_count',\n",
       " 'host_listings_count',\n",
       " 'latitude',\n",
       " 'longitude',\n",
       " 'accommodates',\n",
       " 'bedrooms',\n",
       " 'minimum_nights',\n",
       " 'maximum_nights',\n",
       " 'availability_30',\n",
       " 'availability_60',\n",
       " 'availability_90',\n",
       " 'availability_365',\n",
       " 'number_of_reviews',\n",
       " 'number_of_reviews_ltm']"
      ]
     },
     "execution_count": 55,
     "metadata": {},
     "output_type": "execute_result"
    }
   ],
   "source": [
    "predictors"
   ]
  },
  {
   "cell_type": "markdown",
   "metadata": {
    "id": "lzz5uexvkgil"
   },
   "source": [
    "## Question 2c: Recommendation systems"
   ]
  },
  {
   "cell_type": "markdown",
   "metadata": {
    "id": "uW-LealN0kOU"
   },
   "source": [
    "### Recommend a neighbourhood given a budget"
   ]
  },
  {
   "cell_type": "code",
   "execution_count": null,
   "metadata": {
    "id": "DqUlxeDk4Hww"
   },
   "outputs": [],
   "source": [
    "# Use the neighbourhood_cleansed variable for the names of the neighbourhoods."
   ]
  },
  {
   "cell_type": "code",
   "execution_count": null,
   "metadata": {},
   "outputs": [],
   "source": [
    "def recommend_neighbourhood(df, budget_min, budget_max, relative):\n",
    "    # yolo\n",
    "    pass"
   ]
  },
  {
   "cell_type": "markdown",
   "metadata": {
    "id": "a-FSWRJ6zSMM"
   },
   "source": [
    "### Price recommender for hosts"
   ]
  },
  {
   "cell_type": "code",
   "execution_count": null,
   "metadata": {
    "id": "DqUlxeDk4Hww"
   },
   "outputs": [],
   "source": [
    "def recommend_price(df, latitude, longitude, n_neighbours, room_type):\n",
    "    pass"
   ]
  },
  {
   "cell_type": "code",
   "execution_count": null,
   "metadata": {},
   "outputs": [],
   "source": [
    "\n"
   ]
  }
 ],
 "metadata": {
  "colab": {
   "collapsed_sections": [],
   "name": "Part1_2.ipynb",
   "provenance": [],
   "toc_visible": true
  },
  "kernelspec": {
   "name": "python395jvsc74a57bd03f75a622fdbe68ac4774c6ea619d86cc770141a8bef94a85fce2870eb7cb09bf",
   "display_name": "Python 3.9.5 64-bit"
  },
  "language_info": {
   "codemirror_mode": {
    "name": "ipython",
    "version": 3
   },
   "file_extension": ".py",
   "mimetype": "text/x-python",
   "name": "python",
   "nbconvert_exporter": "python",
   "pygments_lexer": "ipython3",
   "version": "3.9.5"
  },
  "metadata": {
   "interpreter": {
    "hash": "3f75a622fdbe68ac4774c6ea619d86cc770141a8bef94a85fce2870eb7cb09bf"
   }
  }
 },
 "nbformat": 4,
 "nbformat_minor": 1
}